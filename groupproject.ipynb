{
 "cells": [
  {
   "cell_type": "markdown",
   "id": "4e4b5528",
   "metadata": {},
   "source": [
    "# NLP for Movie Plots\n",
    "*Hongyuan Jin, Eunseo Kang, Paige Harris, and Viki Papadakis*\n",
    "\n",
    "## Purpose\n",
    "We use natural language processing tools to find similar movies based on their summary plots.\n",
    "\n",
    "## Methodology\n",
    "- TF-IDF\n",
    "- LDA\n",
    "\n",
    "## WIP - improvements\n",
    "Todos:\n",
    "- verify the clustering efficiency\n",
    "\n",
    "## Results\n",
    "Describe and comment the most important results.\n",
    "\n",
    "## Suggested next steps\n",
    "State suggested next steps, based on results obtained in this notebook."
   ]
  },
  {
   "cell_type": "markdown",
   "id": "5af9b94b",
   "metadata": {},
   "source": [
    "# Setup\n",
    "\n",
    "## Library import for Python\n",
    "We import all the required Python libraries"
   ]
  },
  {
   "cell_type": "code",
   "execution_count": 224,
   "id": "b533b18b",
   "metadata": {},
   "outputs": [
    {
     "data": {
      "text/html": "        <script type=\"text/javascript\">\n        window.PlotlyConfig = {MathJaxConfig: 'local'};\n        if (window.MathJax) {MathJax.Hub.Config({SVG: {font: \"STIX-Web\"}});}\n        if (typeof require !== 'undefined') {\n        require.undef(\"plotly\");\n        requirejs.config({\n            paths: {\n                'plotly': ['https://cdn.plot.ly/plotly-latest.min']\n            }\n        });\n        require(['plotly'], function(Plotly) {\n            window._Plotly = Plotly;\n        });\n        }\n        </script>\n        "
     },
     "metadata": {},
     "output_type": "display_data"
    },
    {
     "data": {
      "text/html": "        <script type=\"text/javascript\">\n        window.PlotlyConfig = {MathJaxConfig: 'local'};\n        if (window.MathJax) {MathJax.Hub.Config({SVG: {font: \"STIX-Web\"}});}\n        if (typeof require !== 'undefined') {\n        require.undef(\"plotly\");\n        requirejs.config({\n            paths: {\n                'plotly': ['https://cdn.plot.ly/plotly-latest.min']\n            }\n        });\n        require(['plotly'], function(Plotly) {\n            window._Plotly = Plotly;\n        });\n        }\n        </script>\n        "
     },
     "metadata": {},
     "output_type": "display_data"
    }
   ],
   "source": [
    "import os\n",
    "# print(\"Current Working Directory \" , os.getcwd())\n",
    "\n",
    "from pathlib import Path\n",
    "\n",
    "# Data manipulation\n",
    "import pandas as pd\n",
    "import numpy as np\n",
    "\n",
    "# Options for pandas\n",
    "pd.options.display.max_columns = 50\n",
    "pd.options.display.max_rows = 30\n",
    "\n",
    "# Visualizations\n",
    "import plotly\n",
    "import plotly.graph_objs as go\n",
    "import plotly.offline as ply\n",
    "plotly.offline.init_notebook_mode(connected=True)\n",
    "\n",
    "import cufflinks as cf\n",
    "cf.go_offline(connected=True)\n",
    "cf.set_config_file(theme='white')\n",
    "\n",
    "import matplotlib as plt\n",
    "import matplotlib.pyplot as pplt\n",
    "import seaborn as sns\n",
    "from wordcloud import WordCloud, STOPWORDS\n",
    "\n",
    "import nltk\n",
    "# nltk.download('punkt')\n",
    "# nltk.download('wordnet')\n",
    "import re\n",
    "from nltk.stem import WordNetLemmatizer, SnowballStemmer\n",
    "from nltk.stem.porter import *\n",
    "from nltk.stem.snowball import SnowballStemmer\n",
    "import gensim\n",
    "from gensim.utils import simple_preprocess\n",
    "from gensim.parsing.preprocessing import STOPWORDS\n",
    "\n",
    "from sklearn.pipeline import Pipeline\n",
    "from sklearn.feature_extraction.text import CountVectorizer, TfidfTransformer\n",
    "from sklearn.preprocessing import FunctionTransformer\n",
    "from sklearn.metrics.pairwise import cosine_similarity\n",
    "from sklearn.feature_extraction.text import TfidfVectorizer\n",
    "\n",
    "# Autoreload extension\n",
    "if 'autoreload' not in get_ipython().extension_manager.loaded:\n",
    "    %load_ext autoreload\n",
    "    \n",
    "%autoreload 2"
   ]
  },
  {
   "cell_type": "markdown",
   "source": [
    "## Library import for R\n",
    "We enable R in the notebook and import all the required libraries."
   ],
   "metadata": {
    "collapsed": false,
    "pycharm": {
     "name": "#%% md\n"
    }
   }
  },
  {
   "cell_type": "code",
   "execution_count": 182,
   "outputs": [
    {
     "name": "stdout",
     "output_type": "stream",
     "text": [
      "The rpy2.ipython extension is already loaded. To reload it, use:\n",
      "  %reload_ext rpy2.ipython\n"
     ]
    },
    {
     "data": {
      "text/plain": "''"
     },
     "execution_count": 182,
     "metadata": {},
     "output_type": "execute_result"
    }
   ],
   "source": [
    "%load_ext rpy2.ipython\n",
    ";"
   ],
   "metadata": {
    "collapsed": false,
    "pycharm": {
     "name": "#%%\n"
    }
   }
  },
  {
   "cell_type": "code",
   "execution_count": 183,
   "outputs": [],
   "source": [
    "%%R\n",
    "# install.packages(\"ggplot2\", repos='http://cran.us.r-project.org', quiet=TRUE)\n",
    "library(ggplot2)\n",
    "library(fixest)\n",
    "library(dplyr)\n",
    "library(tidyr)\n",
    "library(tidyverse)\n",
    "# install.packages(\"lmtest\")\n",
    "library(lmtest)\n",
    "library(sandwich);"
   ],
   "metadata": {
    "collapsed": false,
    "pycharm": {
     "name": "#%%\n"
    }
   }
  },
  {
   "cell_type": "markdown",
   "id": "b200c9f6",
   "metadata": {
    "pycharm": {
     "name": "#%% md\n"
    }
   },
   "source": [
    "## Local library import\n",
    "We import all the required local libraries"
   ]
  },
  {
   "cell_type": "code",
   "execution_count": 15,
   "id": "3340985b",
   "metadata": {},
   "outputs": [],
   "source": [
    "# Include local library paths\n",
    "import sys\n",
    "# sys.path.append('path/to/local/lib') # uncomment and fill to import local libraries\n",
    "\n",
    "# Import local libraries"
   ]
  },
  {
   "cell_type": "markdown",
   "id": "b3c2f6e8",
   "metadata": {},
   "source": [
    "# Data import\n",
    "- Movie plots (*movies_df*)\n",
    "    - source:\n",
    "\n",
    "- Other movie attributes (*movie_other*)\n",
    "    - source:\n",
    "\n",
    "- Top star list data (*topstar*)\n",
    "    - source:\n",
    "\n",
    "We first retrieve the data for the movie summary plots."
   ]
  },
  {
   "cell_type": "code",
   "execution_count": 192,
   "outputs": [
    {
     "data": {
      "text/plain": "   Release Year                             Title Origin/Ethnicity  \\\n0          1901            Kansas Saloon Smashers         American   \n1          1901     Love by the Light of the Moon         American   \n2          1901           The Martyred Presidents         American   \n3          1901  Terrible Teddy, the Grizzly King         American   \n4          1902            Jack and the Beanstalk         American   \n\n                             Director Cast    Genre  \\\n0                             Unknown  NaN  unknown   \n1                             Unknown  NaN  unknown   \n2                             Unknown  NaN  unknown   \n3                             Unknown  NaN  unknown   \n4  George S. Fleming, Edwin S. Porter  NaN  unknown   \n\n                                           Wiki Page  \\\n0  https://en.wikipedia.org/wiki/Kansas_Saloon_Sm...   \n1  https://en.wikipedia.org/wiki/Love_by_the_Ligh...   \n2  https://en.wikipedia.org/wiki/The_Martyred_Pre...   \n3  https://en.wikipedia.org/wiki/Terrible_Teddy,_...   \n4  https://en.wikipedia.org/wiki/Jack_and_the_Bea...   \n\n                                                Plot  \n0  A bartender is working at a saloon, serving dr...  \n1  The moon, painted with a smiling face hangs ov...  \n2  The film, just over a minute long, is composed...  \n3  Lasting just 61 seconds and consisting of two ...  \n4  The earliest known adaptation of the classic f...  ",
      "text/html": "<div>\n<style scoped>\n    .dataframe tbody tr th:only-of-type {\n        vertical-align: middle;\n    }\n\n    .dataframe tbody tr th {\n        vertical-align: top;\n    }\n\n    .dataframe thead th {\n        text-align: right;\n    }\n</style>\n<table border=\"1\" class=\"dataframe\">\n  <thead>\n    <tr style=\"text-align: right;\">\n      <th></th>\n      <th>Release Year</th>\n      <th>Title</th>\n      <th>Origin/Ethnicity</th>\n      <th>Director</th>\n      <th>Cast</th>\n      <th>Genre</th>\n      <th>Wiki Page</th>\n      <th>Plot</th>\n    </tr>\n  </thead>\n  <tbody>\n    <tr>\n      <th>0</th>\n      <td>1901</td>\n      <td>Kansas Saloon Smashers</td>\n      <td>American</td>\n      <td>Unknown</td>\n      <td>NaN</td>\n      <td>unknown</td>\n      <td>https://en.wikipedia.org/wiki/Kansas_Saloon_Sm...</td>\n      <td>A bartender is working at a saloon, serving dr...</td>\n    </tr>\n    <tr>\n      <th>1</th>\n      <td>1901</td>\n      <td>Love by the Light of the Moon</td>\n      <td>American</td>\n      <td>Unknown</td>\n      <td>NaN</td>\n      <td>unknown</td>\n      <td>https://en.wikipedia.org/wiki/Love_by_the_Ligh...</td>\n      <td>The moon, painted with a smiling face hangs ov...</td>\n    </tr>\n    <tr>\n      <th>2</th>\n      <td>1901</td>\n      <td>The Martyred Presidents</td>\n      <td>American</td>\n      <td>Unknown</td>\n      <td>NaN</td>\n      <td>unknown</td>\n      <td>https://en.wikipedia.org/wiki/The_Martyred_Pre...</td>\n      <td>The film, just over a minute long, is composed...</td>\n    </tr>\n    <tr>\n      <th>3</th>\n      <td>1901</td>\n      <td>Terrible Teddy, the Grizzly King</td>\n      <td>American</td>\n      <td>Unknown</td>\n      <td>NaN</td>\n      <td>unknown</td>\n      <td>https://en.wikipedia.org/wiki/Terrible_Teddy,_...</td>\n      <td>Lasting just 61 seconds and consisting of two ...</td>\n    </tr>\n    <tr>\n      <th>4</th>\n      <td>1902</td>\n      <td>Jack and the Beanstalk</td>\n      <td>American</td>\n      <td>George S. Fleming, Edwin S. Porter</td>\n      <td>NaN</td>\n      <td>unknown</td>\n      <td>https://en.wikipedia.org/wiki/Jack_and_the_Bea...</td>\n      <td>The earliest known adaptation of the classic f...</td>\n    </tr>\n  </tbody>\n</table>\n</div>"
     },
     "execution_count": 192,
     "metadata": {},
     "output_type": "execute_result"
    }
   ],
   "source": [
    "folder = Path(\"~/Dropbox/Course/PSTAT234/spr21/pstat234-final-project\")\n",
    "# Change the path do your own directory\n",
    "\n",
    "movies_df = pd.read_csv(folder/'wiki_movie_plots_deduped.csv')\n",
    "movies_df.head(5)"
   ],
   "metadata": {
    "collapsed": false,
    "pycharm": {
     "name": "#%%\n"
    }
   }
  },
  {
   "cell_type": "markdown",
   "source": [
    "## Data for Movie Plots\n",
    "We retrieve the data for the movies that were:\n",
    "- Produced in the US\n",
    "- Released between 1990 and 2010\n",
    "\n",
    "This returns the set of 4631 movies in total."
   ],
   "metadata": {
    "collapsed": false,
    "pycharm": {
     "name": "#%% md\n"
    }
   }
  },
  {
   "cell_type": "code",
   "execution_count": 193,
   "outputs": [
    {
     "data": {
      "text/plain": "   Release Year                            Title            Director  \\\n0          1990  The Adventures of Ford Fairlane        Renny Harlin   \n1          1990             After Dark, My Sweet         James Foley   \n2          1990                      Air America  Roger Spottiswoode   \n3          1990                            Alice         Woody Allen   \n4          1990                  Almost an Angel        John Cornell   \n\n                                                Cast    Genre  \\\n0  Andrew Dice Clay, Wayne Newton, Priscilla Pres...   comedy   \n1              Jason Patric, Rachel Ward, Bruce Dern  mystery   \n2       Mel Gibson, Robert Downey, Jr., Nancy Travis   comedy   \n3  Mia Farrow, Joe Mantegna, William Hurt, Alec B...   comedy   \n4          Paul Hogan, Elias Koteas, Charlton Heston   comedy   \n\n                                                Plot  \n0  Ford Fairlane (Andrew Dice Clay) is seen sitti...  \n1  Ex-boxer Kevin \"Kid\" Collins is a drifter and ...  \n2  In late 1969, Billy Covington (Robert Downey J...  \n3  Alice Tate is an upper-class New York housewif...  \n4  Terry Dean (Paul Hogan), a professional burgla...  ",
      "text/html": "<div>\n<style scoped>\n    .dataframe tbody tr th:only-of-type {\n        vertical-align: middle;\n    }\n\n    .dataframe tbody tr th {\n        vertical-align: top;\n    }\n\n    .dataframe thead th {\n        text-align: right;\n    }\n</style>\n<table border=\"1\" class=\"dataframe\">\n  <thead>\n    <tr style=\"text-align: right;\">\n      <th></th>\n      <th>Release Year</th>\n      <th>Title</th>\n      <th>Director</th>\n      <th>Cast</th>\n      <th>Genre</th>\n      <th>Plot</th>\n    </tr>\n  </thead>\n  <tbody>\n    <tr>\n      <th>0</th>\n      <td>1990</td>\n      <td>The Adventures of Ford Fairlane</td>\n      <td>Renny Harlin</td>\n      <td>Andrew Dice Clay, Wayne Newton, Priscilla Pres...</td>\n      <td>comedy</td>\n      <td>Ford Fairlane (Andrew Dice Clay) is seen sitti...</td>\n    </tr>\n    <tr>\n      <th>1</th>\n      <td>1990</td>\n      <td>After Dark, My Sweet</td>\n      <td>James Foley</td>\n      <td>Jason Patric, Rachel Ward, Bruce Dern</td>\n      <td>mystery</td>\n      <td>Ex-boxer Kevin \"Kid\" Collins is a drifter and ...</td>\n    </tr>\n    <tr>\n      <th>2</th>\n      <td>1990</td>\n      <td>Air America</td>\n      <td>Roger Spottiswoode</td>\n      <td>Mel Gibson, Robert Downey, Jr., Nancy Travis</td>\n      <td>comedy</td>\n      <td>In late 1969, Billy Covington (Robert Downey J...</td>\n    </tr>\n    <tr>\n      <th>3</th>\n      <td>1990</td>\n      <td>Alice</td>\n      <td>Woody Allen</td>\n      <td>Mia Farrow, Joe Mantegna, William Hurt, Alec B...</td>\n      <td>comedy</td>\n      <td>Alice Tate is an upper-class New York housewif...</td>\n    </tr>\n    <tr>\n      <th>4</th>\n      <td>1990</td>\n      <td>Almost an Angel</td>\n      <td>John Cornell</td>\n      <td>Paul Hogan, Elias Koteas, Charlton Heston</td>\n      <td>comedy</td>\n      <td>Terry Dean (Paul Hogan), a professional burgla...</td>\n    </tr>\n  </tbody>\n</table>\n</div>"
     },
     "execution_count": 193,
     "metadata": {},
     "output_type": "execute_result"
    }
   ],
   "source": [
    "# movies_df_sub = movies_df[(movies_df['Origin/Ethnicity']==\"American\")].reset_index(drop=True)\n",
    "movies_df_sub = movies_df[(movies_df['Release Year']>=1990) &\n",
    "                          (movies_df['Release Year']<=2010) &\n",
    "                          (movies_df['Origin/Ethnicity']==\"American\")].\\\n",
    "    reset_index(drop=True)\n",
    "# movies_df_sub = movies_df[(movies_df['Release Year']==2005) &\n",
    "                          # (movies_df['Origin/Ethnicity']==\"American\")].\\\n",
    "    # reset_index(drop=True)\n",
    "movies_df_sub = movies_df_sub.drop(['Origin/Ethnicity', 'Wiki Page'], axis = 1)\n",
    "movies_df_sub.head(5)\n",
    "# 4631 movies to analyze"
   ],
   "metadata": {
    "collapsed": false,
    "pycharm": {
     "name": "#%%\n"
    }
   }
  },
  {
   "cell_type": "code",
   "execution_count": 194,
   "outputs": [
    {
     "data": {
      "text/plain": "count     4631.000000\nmean      3194.705031\nstd       1759.174164\nmin         35.000000\n25%       1916.500000\n50%       3430.000000\n75%       4205.000000\nmax      25123.000000\nName: Plot, dtype: float64"
     },
     "execution_count": 194,
     "metadata": {},
     "output_type": "execute_result"
    }
   ],
   "source": [
    "movies_df_sub['Plot'].apply(len).describe()"
   ],
   "metadata": {
    "collapsed": false,
    "pycharm": {
     "name": "#%%\n"
    }
   }
  },
  {
   "cell_type": "markdown",
   "source": [
    "The above says that each plot contains on average 3195 tokens."
   ],
   "metadata": {
    "collapsed": false,
    "pycharm": {
     "name": "#%% md\n"
    }
   }
  },
  {
   "cell_type": "markdown",
   "id": "cccaef3e",
   "metadata": {},
   "source": [
    "# Data Processing for Movie Plots"
   ]
  },
  {
   "cell_type": "markdown",
   "source": [
    "## NLP\n",
    "- TF-IDF\n",
    "- LDA\n",
    "\n",
    "Eventually, we want to cluster the movies with similar plots based on the NLP analysis."
   ],
   "metadata": {
    "collapsed": false
   }
  },
  {
   "cell_type": "markdown",
   "source": [
    "### TF-IDF"
   ],
   "metadata": {
    "collapsed": false
   }
  },
  {
   "cell_type": "code",
   "execution_count": 339,
   "id": "4cf8f7e6",
   "metadata": {},
   "outputs": [],
   "source": [
    "stemmer = SnowballStemmer(\"english\", ignore_stopwords=False)\n",
    "\n",
    "def normalize(X):\n",
    "    normalized = []\n",
    "    totalvocab_tokenized = []\n",
    "    for x in X:\n",
    "        words = nltk.word_tokenize(x)\n",
    "        normalized.append(' '.join([stemmer.stem(word) for word in words if re.match('[a-zA-Z]+', word)]))\n",
    "        totalvocab_tokenized.extend(words)\n",
    "    return normalized\n",
    "\n",
    "pipe = Pipeline([\n",
    "    ('normalize', FunctionTransformer(normalize, validate=False)),\n",
    "    ('counter_vectorizer', CountVectorizer(\n",
    "        max_df=0.8, max_features=200000,\n",
    "        min_df=0.2, stop_words='english',\n",
    "        ngram_range=(1, 3)\n",
    "    )),\n",
    "    ('tfidf_transform', TfidfTransformer())\n",
    "])"
   ]
  },
  {
   "cell_type": "code",
   "execution_count": 196,
   "outputs": [
    {
     "name": "stdout",
     "output_type": "stream",
     "text": [
      "(4631, 118)\n"
     ]
    }
   ],
   "source": [
    "# Applying to the movie plots\n",
    "\n",
    "tfidf_matrix = pipe.fit_transform([x for x in movies_df_sub['Plot']])\n",
    "print(tfidf_matrix.shape)\n",
    "# print(tfidf_matrix)"
   ],
   "metadata": {
    "collapsed": false,
    "pycharm": {
     "name": "#%%\n"
    }
   }
  },
  {
   "cell_type": "code",
   "execution_count": 197,
   "outputs": [],
   "source": [
    "# Evaluate the similarity among the movies from the plot word frequency\n",
    "similarity_distance = 1 - cosine_similarity(tfidf_matrix)\n",
    "# similarity_distance"
   ],
   "metadata": {
    "collapsed": false,
    "pycharm": {
     "name": "#%%\n"
    }
   }
  },
  {
   "cell_type": "markdown",
   "source": [
    "We test for finding similar movies for a given title"
   ],
   "metadata": {
    "collapsed": false,
    "pycharm": {
     "name": "#%% md\n"
    }
   }
  },
  {
   "cell_type": "code",
   "execution_count": 198,
   "outputs": [],
   "source": [
    "# this returns the top 10 most similar movies for a given movie title\n",
    "# based on the cosine similarity\n",
    "\n",
    "def find_similar(title):\n",
    "    index = movies_df_sub[movies_df_sub['Title'] == title].index[0]\n",
    "    vector = similarity_distance[index, :]\n",
    "    most_similar = movies_df_sub.iloc[np.argsort(vector)[0:10], 0:2]\n",
    "    return most_similar"
   ],
   "metadata": {
    "collapsed": false,
    "pycharm": {
     "name": "#%%\n"
    }
   }
  },
  {
   "cell_type": "markdown",
   "source": [
    "### Example\n",
    "The movies similar to *Madagascar (2005)* according to TF-IDF."
   ],
   "metadata": {
    "collapsed": false,
    "pycharm": {
     "name": "#%% md\n"
    }
   }
  },
  {
   "cell_type": "code",
   "execution_count": 199,
   "outputs": [
    {
     "name": "stdout",
     "output_type": "stream",
     "text": [
      "      Release Year                           Title\n",
      "3374          2005                      Madagascar\n",
      "1194          1995      The Pebble and the Penguin\n",
      "3607          2006                      Happy Feet\n",
      "1775          1997                 Robinson Crusoe\n",
      "2602          2001                Saving Silverman\n",
      "3094          2004     Clifford's Really Big Movie\n",
      "4497          2010                          Frozen\n",
      "1269          1996  Alien Nation: The Enemy Within\n",
      "1955          1998                      The Mighty\n",
      "1306          1996           Cannibal! The Musical\n"
     ]
    }
   ],
   "source": [
    "print(find_similar('Madagascar'))"
   ],
   "metadata": {
    "collapsed": false,
    "pycharm": {
     "name": "#%%\n"
    }
   }
  },
  {
   "cell_type": "markdown",
   "source": [
    "### Movie clustering based on TF-IDF\n",
    "\n",
    "- Kmeans clustering\n",
    "- 23 clusters, in comparison to the number of Genres\n",
    "- create an attribute *cluster_tfidf_first* for the cluster labeling in the dataframe"
   ],
   "metadata": {
    "collapsed": false,
    "pycharm": {
     "name": "#%% md\n"
    }
   }
  },
  {
   "cell_type": "code",
   "execution_count": 227,
   "outputs": [],
   "source": [
    "from sklearn.cluster import KMeans\n",
    "\n",
    "# num_clusters = len(np.unique(movies_df_sub['Genre']))\n",
    "num_clusters = 23\n",
    "# print(num_clusters)\n",
    "km = KMeans(n_clusters=num_clusters)\n",
    "\n",
    "km.fit(tfidf_matrix)\n",
    "\n",
    "import joblib\n",
    "\n",
    "joblib.dump(km, 'doc_cluster.pkl')\n",
    "\n",
    "km = joblib.load('doc_cluster.pkl')\n",
    "cluster_tfidf_first = km.labels_.tolist()"
   ],
   "metadata": {
    "collapsed": false,
    "pycharm": {
     "name": "#%%\n"
    }
   }
  },
  {
   "cell_type": "code",
   "execution_count": null,
   "outputs": [],
   "source": [
    "templist = {'title': movies_df_sub[\"Title\"], 'Release_year':  movies_df_sub[\"Release Year\"],\n",
    "            'Plot':  movies_df_sub['Plot'], 'cluster_tfidf_first': cluster_tfidf_first,\n",
    "            'Director':  movies_df_sub['Director'], 'Genre':  movies_df_sub['Genre']}\n",
    "frame = pd.DataFrame(data=templist)\n",
    "# frame.head(2)\n",
    "# print(frame['cluster_tfidf_first'].value_counts())"
   ],
   "metadata": {
    "collapsed": false,
    "pycharm": {
     "name": "#%%\n"
    }
   }
  },
  {
   "cell_type": "markdown",
   "source": [
    "### Visualize the Clusters"
   ],
   "metadata": {
    "collapsed": false
   }
  },
  {
   "cell_type": "code",
   "execution_count": 229,
   "outputs": [
    {
     "name": "stderr",
     "output_type": "stream",
     "text": [
      "/Users/aj/PycharmProjects/film_python/jupyter/lib/python3.9/site-packages/seaborn/_decorators.py:36: FutureWarning:\n",
      "\n",
      "Pass the following variables as keyword args: x, y. From version 0.12, the only valid positional argument will be `data`, and passing other arguments without an explicit keyword will result in an error or misinterpretation.\n",
      "\n"
     ]
    },
    {
     "data": {
      "text/plain": "<Figure size 720x360 with 1 Axes>",
      "image/png": "[encoded data removed]"
     },
     "metadata": {
      "needs_background": "light"
     },
     "output_type": "display_data"
    }
   ],
   "source": [
    "clus_count = frame['cluster_tfidf_first'].value_counts()\n",
    "pplt.figure(figsize=(10,5))\n",
    "sns.barplot(clus_count.index, clus_count.values, alpha=0.8)\n",
    "pplt.title('Number of Movies in Each Cluster')\n",
    "pplt.ylabel('Number of Occurrences', fontsize=12)\n",
    "pplt.xlabel('TF-IDF Cluster', fontsize=12)\n",
    "pplt.show()"
   ],
   "metadata": {
    "collapsed": false,
    "pycharm": {
     "name": "#%%\n"
    }
   }
  },
  {
   "cell_type": "markdown",
   "source": [
    "We show the first four movies in each cluster for first four clusters."
   ],
   "metadata": {
    "collapsed": false,
    "pycharm": {
     "name": "#%% md\n"
    }
   }
  },
  {
   "cell_type": "code",
   "execution_count": 234,
   "outputs": [
    {
     "data": {
      "text/plain": "                                                  title  cluster_tfidf_first  \\\n766                      We're Back! A Dinosaur's Story                    0   \n2048                                 The Wedding Singer                    0   \n821                                              Clerks                    0   \n2994                                          The Order                    0   \n3440                                      Underclassman                    1   \n608                                       Aspen Extreme                    1   \n1365                                            Foxfire                    1   \n1129  The Incredibly True Adventure of Two Girls in ...                    1   \n2850                                                xXx                    2   \n4197                          Star Wars: The Clone Wars                    2   \n2834                                            Trapped                    2   \n4235                                                  9                    2   \n2098                              Bringing Out the Dead                    3   \n1463                                    Pandora's Clock                    3   \n1233            Things to Do in Denver When You're Dead                    3   \n3466                                          The Alibi                    3   \n\n                 Genre  Release_year  \n766           animated          1993  \n2048            comedy          1998  \n821             comedy          1994  \n2994  action, thriller          2003  \n3440            comedy          2005  \n608              drama          1993  \n1365           unknown          1996  \n1129           unknown          1995  \n2850            action          2002  \n4197         animation          2008  \n2834             crime          2002  \n4235     animated film          2009  \n2098          thriller          1999  \n1463          thriller          1996  \n1233       crime drama          1995  \n3466   romantic comedy          2006  ",
      "text/html": "<div>\n<style scoped>\n    .dataframe tbody tr th:only-of-type {\n        vertical-align: middle;\n    }\n\n    .dataframe tbody tr th {\n        vertical-align: top;\n    }\n\n    .dataframe thead th {\n        text-align: right;\n    }\n</style>\n<table border=\"1\" class=\"dataframe\">\n  <thead>\n    <tr style=\"text-align: right;\">\n      <th></th>\n      <th>title</th>\n      <th>cluster_tfidf_first</th>\n      <th>Genre</th>\n      <th>Release_year</th>\n    </tr>\n  </thead>\n  <tbody>\n    <tr>\n      <th>766</th>\n      <td>We're Back! A Dinosaur's Story</td>\n      <td>0</td>\n      <td>animated</td>\n      <td>1993</td>\n    </tr>\n    <tr>\n      <th>2048</th>\n      <td>The Wedding Singer</td>\n      <td>0</td>\n      <td>comedy</td>\n      <td>1998</td>\n    </tr>\n    <tr>\n      <th>821</th>\n      <td>Clerks</td>\n      <td>0</td>\n      <td>comedy</td>\n      <td>1994</td>\n    </tr>\n    <tr>\n      <th>2994</th>\n      <td>The Order</td>\n      <td>0</td>\n      <td>action, thriller</td>\n      <td>2003</td>\n    </tr>\n    <tr>\n      <th>3440</th>\n      <td>Underclassman</td>\n      <td>1</td>\n      <td>comedy</td>\n      <td>2005</td>\n    </tr>\n    <tr>\n      <th>608</th>\n      <td>Aspen Extreme</td>\n      <td>1</td>\n      <td>drama</td>\n      <td>1993</td>\n    </tr>\n    <tr>\n      <th>1365</th>\n      <td>Foxfire</td>\n      <td>1</td>\n      <td>unknown</td>\n      <td>1996</td>\n    </tr>\n    <tr>\n      <th>1129</th>\n      <td>The Incredibly True Adventure of Two Girls in ...</td>\n      <td>1</td>\n      <td>unknown</td>\n      <td>1995</td>\n    </tr>\n    <tr>\n      <th>2850</th>\n      <td>xXx</td>\n      <td>2</td>\n      <td>action</td>\n      <td>2002</td>\n    </tr>\n    <tr>\n      <th>4197</th>\n      <td>Star Wars: The Clone Wars</td>\n      <td>2</td>\n      <td>animation</td>\n      <td>2008</td>\n    </tr>\n    <tr>\n      <th>2834</th>\n      <td>Trapped</td>\n      <td>2</td>\n      <td>crime</td>\n      <td>2002</td>\n    </tr>\n    <tr>\n      <th>4235</th>\n      <td>9</td>\n      <td>2</td>\n      <td>animated film</td>\n      <td>2009</td>\n    </tr>\n    <tr>\n      <th>2098</th>\n      <td>Bringing Out the Dead</td>\n      <td>3</td>\n      <td>thriller</td>\n      <td>1999</td>\n    </tr>\n    <tr>\n      <th>1463</th>\n      <td>Pandora's Clock</td>\n      <td>3</td>\n      <td>thriller</td>\n      <td>1996</td>\n    </tr>\n    <tr>\n      <th>1233</th>\n      <td>Things to Do in Denver When You're Dead</td>\n      <td>3</td>\n      <td>crime drama</td>\n      <td>1995</td>\n    </tr>\n    <tr>\n      <th>3466</th>\n      <td>The Alibi</td>\n      <td>3</td>\n      <td>romantic comedy</td>\n      <td>2006</td>\n    </tr>\n  </tbody>\n</table>\n</div>"
     },
     "execution_count": 234,
     "metadata": {},
     "output_type": "execute_result"
    }
   ],
   "source": [
    "frame_select = frame[['title', 'cluster_tfidf_first', 'Genre', 'Release_year']]\n",
    "frame_select.sort_values(['cluster_tfidf_first']).groupby('cluster_tfidf_first').head(4)[:16]"
   ],
   "metadata": {
    "collapsed": false,
    "pycharm": {
     "name": "#%%\n"
    }
   }
  },
  {
   "cell_type": "markdown",
   "source": [
    "We show the top words in each cluster below.\n"
   ],
   "metadata": {
    "collapsed": false
   }
  },
  {
   "cell_type": "code",
   "execution_count": 298,
   "outputs": [],
   "source": [
    "temp = frame.groupby('cluster_tfidf_first').sample(4)\n",
    "\n",
    "cv=CountVectorizer(max_df=0.85,stop_words=stop_words,max_features=10000)\n",
    "\n",
    "# keywords_cluster = []\n",
    "# for i in frame.cluster_tfidf_first.to_list():\n",
    "#     word_count_vector[i]=cv.fit_transform([x for x in temp['Plot']])\n",
    "#     keywords_cluster.append(list(cv.vocabulary_.keys())[:10])\n"
   ],
   "metadata": {
    "collapsed": false,
    "pycharm": {
     "name": "#%%\n"
    }
   }
  },
  {
   "cell_type": "markdown",
   "source": [
    "[TBU] Word cloud for each cluster"
   ],
   "metadata": {
    "collapsed": false,
    "pycharm": {
     "name": "#%% md\n"
    }
   }
  },
  {
   "cell_type": "code",
   "execution_count": 300,
   "outputs": [],
   "source": [
    "# wordcloud_cluster = []\n",
    "# for i in frame.cluster_tfidf_first.to_list()[:2]:\n",
    "#     wordcloud_cluster[i] = WordCloud().generate_from_frequencies(temp['Plot'])\n",
    "#     pplt.imshow(wordcloud_cluster[i])"
   ],
   "metadata": {
    "collapsed": false,
    "pycharm": {
     "name": "#%%\n"
    }
   }
  },
  {
   "cell_type": "markdown",
   "source": [
    "## LDA"
   ],
   "metadata": {
    "collapsed": false
   }
  },
  {
   "cell_type": "code",
   "execution_count": 304,
   "outputs": [
    {
     "name": "stdout",
     "output_type": "stream",
     "text": [
      "Topic: 0 Word: 0.004*\"luci\" + 0.003*\"georg\" + 0.003*\"jam\" + 0.003*\"juli\" + 0.002*\"mickey\" + 0.002*\"jacki\" + 0.002*\"mike\" + 0.002*\"robert\" + 0.002*\"nina\" + 0.002*\"pete\"\n",
      "Topic: 1 Word: 0.003*\"wendi\" + 0.003*\"jack\" + 0.003*\"charli\" + 0.002*\"mari\" + 0.002*\"paul\" + 0.002*\"joey\" + 0.002*\"eddi\" + 0.002*\"billi\" + 0.002*\"michael\" + 0.002*\"connor\"\n",
      "Topic: 2 Word: 0.002*\"jess\" + 0.002*\"barri\" + 0.002*\"sydney\" + 0.002*\"wade\" + 0.002*\"helen\" + 0.002*\"david\" + 0.002*\"harri\" + 0.002*\"billi\" + 0.002*\"base\" + 0.002*\"killer\"\n",
      "Topic: 3 Word: 0.004*\"mitch\" + 0.003*\"abbi\" + 0.003*\"freddi\" + 0.002*\"danni\" + 0.002*\"ship\" + 0.002*\"calvin\" + 0.002*\"king\" + 0.002*\"april\" + 0.002*\"alexand\" + 0.002*\"mari\"\n",
      "Topic: 4 Word: 0.006*\"harri\" + 0.003*\"jack\" + 0.003*\"scott\" + 0.003*\"cindi\" + 0.003*\"anna\" + 0.003*\"franki\" + 0.002*\"jake\" + 0.002*\"lenni\" + 0.002*\"castl\" + 0.002*\"kate\"\n",
      "Topic: 5 Word: 0.005*\"michael\" + 0.002*\"smith\" + 0.002*\"paul\" + 0.002*\"georg\" + 0.002*\"isabel\" + 0.002*\"vincent\" + 0.002*\"tommi\" + 0.002*\"bishop\" + 0.002*\"lauri\" + 0.002*\"charl\"\n",
      "Topic: 6 Word: 0.004*\"charli\" + 0.003*\"chris\" + 0.002*\"roger\" + 0.002*\"traci\" + 0.002*\"scott\" + 0.002*\"jack\" + 0.002*\"robot\" + 0.002*\"samantha\" + 0.002*\"michael\" + 0.002*\"phil\"\n",
      "Topic: 7 Word: 0.004*\"lili\" + 0.003*\"alex\" + 0.003*\"jack\" + 0.002*\"steven\" + 0.002*\"mari\" + 0.002*\"kyle\" + 0.002*\"nick\" + 0.002*\"frank\" + 0.002*\"jerri\" + 0.002*\"soldier\"\n",
      "Topic: 8 Word: 0.003*\"cole\" + 0.003*\"frank\" + 0.003*\"jack\" + 0.002*\"paul\" + 0.002*\"erin\" + 0.002*\"brian\" + 0.002*\"peter\" + 0.002*\"holm\" + 0.002*\"buddi\" + 0.002*\"kate\"\n",
      "Topic: 9 Word: 0.003*\"carl\" + 0.003*\"jake\" + 0.003*\"codi\" + 0.002*\"lisa\" + 0.002*\"justin\" + 0.002*\"killer\" + 0.002*\"kate\" + 0.002*\"benni\" + 0.002*\"sarah\" + 0.002*\"jack\"\n",
      "Topic: 10 Word: 0.003*\"rachel\" + 0.003*\"anna\" + 0.003*\"martin\" + 0.002*\"frank\" + 0.002*\"ethan\" + 0.002*\"nicki\" + 0.002*\"jimmi\" + 0.002*\"natali\" + 0.002*\"jessica\" + 0.002*\"karen\"\n",
      "Topic: 11 Word: 0.006*\"nick\" + 0.004*\"frank\" + 0.003*\"jimmi\" + 0.002*\"kate\" + 0.002*\"jack\" + 0.002*\"steve\" + 0.002*\"jess\" + 0.002*\"billi\" + 0.002*\"jane\" + 0.002*\"andi\"\n",
      "Topic: 12 Word: 0.004*\"luke\" + 0.003*\"cain\" + 0.003*\"maggi\" + 0.003*\"norman\" + 0.002*\"marti\" + 0.002*\"anim\" + 0.002*\"jack\" + 0.002*\"jennif\" + 0.002*\"peter\" + 0.002*\"robin\"\n",
      "Topic: 13 Word: 0.003*\"kevin\" + 0.002*\"jack\" + 0.002*\"sean\" + 0.002*\"king\" + 0.002*\"clark\" + 0.002*\"betti\" + 0.002*\"mari\" + 0.002*\"paul\" + 0.002*\"spencer\" + 0.002*\"bobbi\"\n",
      "Topic: 14 Word: 0.002*\"jack\" + 0.002*\"vampir\" + 0.002*\"japanes\" + 0.002*\"sarah\" + 0.002*\"camp\" + 0.002*\"kate\" + 0.002*\"shawn\" + 0.002*\"frank\" + 0.002*\"winston\" + 0.002*\"abigail\"\n",
      "Topic: 15 Word: 0.006*\"jimmi\" + 0.004*\"bobbi\" + 0.003*\"jack\" + 0.003*\"emili\" + 0.002*\"jane\" + 0.002*\"david\" + 0.002*\"monica\" + 0.002*\"mike\" + 0.002*\"lena\" + 0.002*\"doug\"\n",
      "Topic: 16 Word: 0.003*\"adam\" + 0.003*\"mike\" + 0.002*\"juliet\" + 0.002*\"nick\" + 0.002*\"derek\" + 0.002*\"luther\" + 0.002*\"mile\" + 0.002*\"jack\" + 0.002*\"eddi\" + 0.002*\"carl\"\n",
      "Topic: 17 Word: 0.003*\"jane\" + 0.003*\"vampir\" + 0.002*\"edward\" + 0.002*\"nanci\" + 0.002*\"william\" + 0.002*\"henri\" + 0.002*\"dale\" + 0.002*\"eddi\" + 0.002*\"mike\" + 0.002*\"billi\"\n",
      "Topic: 18 Word: 0.003*\"doug\" + 0.003*\"matt\" + 0.002*\"ann\" + 0.002*\"jack\" + 0.002*\"paul\" + 0.002*\"charli\" + 0.002*\"dave\" + 0.002*\"mike\" + 0.002*\"molli\" + 0.002*\"frank\"\n",
      "Topic: 19 Word: 0.004*\"alex\" + 0.004*\"henri\" + 0.003*\"peter\" + 0.003*\"harri\" + 0.002*\"chris\" + 0.002*\"david\" + 0.002*\"julia\" + 0.002*\"stanley\" + 0.002*\"mike\" + 0.002*\"alvin\"\n",
      "Topic: 20 Word: 0.002*\"terrorist\" + 0.002*\"perri\" + 0.002*\"michael\" + 0.002*\"johnni\" + 0.002*\"simon\" + 0.002*\"miller\" + 0.002*\"mitch\" + 0.002*\"carter\" + 0.002*\"assassin\" + 0.002*\"david\"\n",
      "Topic: 21 Word: 0.005*\"rick\" + 0.002*\"danni\" + 0.002*\"anna\" + 0.002*\"rachel\" + 0.002*\"jenni\" + 0.002*\"mike\" + 0.002*\"david\" + 0.002*\"monster\" + 0.002*\"carol\" + 0.002*\"vincent\"\n",
      "Topic: 22 Word: 0.003*\"sarah\" + 0.003*\"richard\" + 0.002*\"jimmi\" + 0.002*\"victoria\" + 0.002*\"michael\" + 0.002*\"diana\" + 0.002*\"carol\" + 0.002*\"claudia\" + 0.002*\"victor\" + 0.002*\"jami\"\n"
     ]
    }
   ],
   "source": [
    "def lemmatize_stemming(text):\n",
    "    return stemmer.stem(WordNetLemmatizer().lemmatize(text, pos='v'))\n",
    "def preprocess(text):\n",
    "    result = []\n",
    "    for token in gensim.utils.simple_preprocess(text):\n",
    "        if token not in gensim.parsing.preprocessing.STOPWORDS and len(token) > 3:\n",
    "            result.append(lemmatize_stemming(token))\n",
    "    return result\n",
    "\n",
    "processed_docs = frame['Plot'].map(preprocess)\n",
    "processed_docs[:10]\n",
    "\n",
    "dictionary = gensim.corpora.Dictionary(processed_docs)\n",
    "count = 0\n",
    "for k, v in dictionary.iteritems():\n",
    "    # print(k, v)\n",
    "    count += 1\n",
    "    if count > 15:\n",
    "        break\n",
    "\n",
    "dictionary.filter_extremes(no_below=20, no_above=0.1, keep_n=100000)\n",
    "bow_corpus = [dictionary.doc2bow(doc) for doc in processed_docs]\n",
    "\n",
    "from gensim import corpora, models\n",
    "tfidf = models.TfidfModel(bow_corpus)\n",
    "corpus_tfidf = tfidf[bow_corpus]\n",
    "\n",
    "lda_model_tfidf = gensim.models.LdaMulticore(corpus_tfidf, num_topics=23, id2word=dictionary, passes=2, workers=3)\n",
    "for idx, topic in lda_model_tfidf.print_topics(-1):\n",
    "    print('Topic: {} Word: {}'.format(idx, topic))\n"
   ],
   "metadata": {
    "collapsed": false,
    "pycharm": {
     "name": "#%%\n"
    }
   }
  },
  {
   "cell_type": "markdown",
   "source": [
    "The above shows the distribution of topics by the tokens.\n",
    "- the algorithm seems to pick up the distinction across the movie plots by the character names\n",
    "- we cluser the movies based on this LDA result and further visualize the movies within the same cluster\n",
    "- come up with an amendment for the issue in the next section"
   ],
   "metadata": {
    "collapsed": false,
    "pycharm": {
     "name": "#%% md\n"
    }
   }
  },
  {
   "cell_type": "markdown",
   "source": [
    "### Cluster based on LDA\n",
    "\n",
    "- Based on the major topic (by the highest probability)\n",
    "- fuzzy Kmeans (TBA)"
   ],
   "metadata": {
    "collapsed": false,
    "pycharm": {
     "name": "#%% md\n"
    }
   }
  },
  {
   "cell_type": "code",
   "execution_count": 388,
   "outputs": [],
   "source": [
    "lda_corpus = lda_model_tfidf[corpus_tfidf]\n",
    "all_topics = lda_model_tfidf.get_document_topics(corpus_tfidf)\n",
    "\n",
    "num_docs = len(all_topics)\n",
    "\n",
    "all_topics_csr= gensim.matutils.corpus2csc(all_topics)\n",
    "all_topics_numpy= all_topics_csr.T.toarray()\n",
    "\n",
    "major_topic = [np.argmax(arr) for arr in all_topics_numpy]\n",
    "frame['cluster_lda_major_first']= major_topic"
   ],
   "metadata": {
    "collapsed": false,
    "pycharm": {
     "name": "#%%\n"
    }
   }
  },
  {
   "cell_type": "code",
   "execution_count": 389,
   "outputs": [
    {
     "name": "stderr",
     "output_type": "stream",
     "text": [
      "/Users/aj/PycharmProjects/film_python/jupyter/lib/python3.9/site-packages/seaborn/_decorators.py:36: FutureWarning:\n",
      "\n",
      "Pass the following variables as keyword args: x, y. From version 0.12, the only valid positional argument will be `data`, and passing other arguments without an explicit keyword will result in an error or misinterpretation.\n",
      "\n"
     ]
    },
    {
     "data": {
      "text/plain": "<Figure size 720x360 with 1 Axes>",
      "image/png": "[encoded data removed]"
     },
     "metadata": {},
     "output_type": "display_data"
    }
   ],
   "source": [
    "clus_count = frame['cluster_lda_major_first'].value_counts()\n",
    "pplt.figure(figsize=(10,5))\n",
    "sns.barplot(clus_count.index, clus_count.values, alpha=0.8)\n",
    "pplt.title('Number of Movies in Each Cluster')\n",
    "pplt.ylabel('Number of Occurrences', fontsize=12)\n",
    "pplt.xlabel('LDA Cluster by Major Topics', fontsize=12)\n",
    "pplt.show()"
   ],
   "metadata": {
    "collapsed": false,
    "pycharm": {
     "name": "#%%\n"
    }
   }
  },
  {
   "cell_type": "code",
   "execution_count": 498,
   "outputs": [],
   "source": [
    "# print(frame[frame['cluster_lda_major_first'==6]].title[:10])"
   ],
   "metadata": {
    "collapsed": false,
    "pycharm": {
     "name": "#%%\n"
    }
   }
  },
  {
   "cell_type": "code",
   "execution_count": 325,
   "outputs": [],
   "source": [
    "# Copyright Mathieu Blondel December 2011\n",
    "# License: BSD 3 clause\n",
    "# https://gist.github.com/mblondel/1451300\n",
    "from sklearn.base import BaseEstimator\n",
    "from sklearn.utils import check_random_state\n",
    "from sklearn.cluster import MiniBatchKMeans\n",
    "from sklearn.cluster import KMeans as KMeansGood\n",
    "from sklearn.metrics.pairwise import euclidean_distances, manhattan_distances\n",
    "from sklearn.datasets import make_blobs\n",
    "\n",
    "##############################################################################\n",
    "class KMeans(BaseEstimator):\n",
    "\n",
    "    def __init__(self, k, max_iter=100, random_state=0, tol=1e-4):\n",
    "        self.k = k\n",
    "        self.max_iter = max_iter\n",
    "        self.random_state = random_state\n",
    "        self.tol = tol\n",
    "\n",
    "    def _e_step(self, X):\n",
    "        self.labels_ = euclidean_distances(X, self.cluster_centers_,\n",
    "                                           squared=True).argmin(axis=1)\n",
    "\n",
    "    def _average(self, X):\n",
    "        return X.mean(axis=0)\n",
    "\n",
    "    def _m_step(self, X):\n",
    "        X_center = None\n",
    "        for center_id in range(self.k):\n",
    "            center_mask = self.labels_ == center_id\n",
    "            if not np.any(center_mask):\n",
    "                # The centroid of empty clusters is set to the center of\n",
    "                # everything\n",
    "                if X_center is None:\n",
    "                    X_center = self._average(X)\n",
    "                self.cluster_centers_[center_id] = X_center\n",
    "            else:\n",
    "                self.cluster_centers_[center_id] = self._average(X[center_mask])\n",
    "\n",
    "    def fit(self, X, y=None):\n",
    "        n_samples = X.shape[0]\n",
    "        vdata = np.mean(np.var(X, 0))\n",
    "\n",
    "        random_state = check_random_state(self.random_state)\n",
    "        self.labels_ = random_state.permutation(n_samples)[:self.k]\n",
    "        self.cluster_centers_ = X[self.labels_]\n",
    "\n",
    "        for i in range(self.max_iter):\n",
    "            centers_old = self.cluster_centers_.copy()\n",
    "\n",
    "            self._e_step(X)\n",
    "            self._m_step(X)\n",
    "\n",
    "            if np.sum((centers_old - self.cluster_centers_) ** 2) < self.tol * vdata:\n",
    "                break\n",
    "\n",
    "        return self\n",
    "\n",
    "class KMedians(KMeans):\n",
    "\n",
    "    def _e_step(self, X):\n",
    "        self.labels_ = manhattan_distances(X, self.cluster_centers_).argmin(axis=1)\n",
    "\n",
    "    def _average(self, X):\n",
    "        return np.median(X, axis=0)\n",
    "\n",
    "class FuzzyKMeans(KMeans):\n",
    "\n",
    "    def __init__(self, k, m=2, max_iter=100, random_state=0, tol=1e-4):\n",
    "        \"\"\"\n",
    "        m > 1: fuzzy-ness parameter\n",
    "        The closer to m is to 1, the closter to hard kmeans.\n",
    "        The bigger m, the fuzzier (converge to the global cluster).\n",
    "        \"\"\"\n",
    "        self.k = k\n",
    "        assert m > 1\n",
    "        self.m = m\n",
    "        self.max_iter = max_iter\n",
    "        self.random_state = random_state\n",
    "        self.tol = tol\n",
    "\n",
    "    def _e_step(self, X):\n",
    "        D = 1.0 / euclidean_distances(X, self.cluster_centers_, squared=True)\n",
    "        D **= 1.0 / (self.m - 1)\n",
    "        D /= np.sum(D, axis=1)[:, np.newaxis]\n",
    "        # shape: n_samples x k\n",
    "        self.fuzzy_labels_ = D\n",
    "        self.labels_ = self.fuzzy_labels_.argmax(axis=1)\n",
    "\n",
    "    def _m_step(self, X):\n",
    "        weights = self.fuzzy_labels_ ** self.m\n",
    "        # shape: n_clusters x n_features\n",
    "        self.cluster_centers_ = np.dot(X.T, weights).T\n",
    "        self.cluster_centers_ /= weights.sum(axis=0)[:, np.newaxis]\n",
    "\n",
    "    def fit(self, X, y=None):\n",
    "        n_samples, n_features = X.shape\n",
    "        vdata = np.mean(np.var(X, 0))\n",
    "\n",
    "        random_state = check_random_state(self.random_state)\n",
    "        self.fuzzy_labels_ = random_state.rand(n_samples, self.k)\n",
    "        self.fuzzy_labels_ /= self.fuzzy_labels_.sum(axis=1)[:, np.newaxis]\n",
    "        self._m_step(X)\n",
    "\n",
    "        for i in range(self.max_iter):\n",
    "            centers_old = self.cluster_centers_.copy()\n",
    "\n",
    "            self._e_step(X)\n",
    "            self._m_step(X)\n",
    "\n",
    "            if np.sum((centers_old - self.cluster_centers_) ** 2) < self.tol * vdata:\n",
    "                break\n",
    "\n",
    "        return self"
   ],
   "metadata": {
    "collapsed": false,
    "pycharm": {
     "name": "#%%\n"
    }
   }
  },
  {
   "cell_type": "code",
   "execution_count": 497,
   "outputs": [],
   "source": [
    "# we applied the above fuzzyKmeans clustering to our LDA outcomes\n",
    "# fuzzy_kmeans = FuzzyKMeans(k = 23, m = 1.5)\n",
    "# the closer m is to 1, the closer the clustering is to hard clustering\n",
    "\n",
    "# fuzzy_kmeans.fit(all_topics)"
   ],
   "metadata": {
    "collapsed": false,
    "pycharm": {
     "name": "#%%\n"
    }
   }
  },
  {
   "cell_type": "markdown",
   "source": [
    "## Import data for names and replace the character names with string 'character'\n",
    "\n",
    "We find that the topic modeling is affected by the character names.\n",
    "Below we will replace the names with the string 'Character'\n",
    "\n",
    "*Data source: Social Security https://www.ssa.gov/oact/babynames/limits.html*"
   ],
   "metadata": {
    "collapsed": false,
    "pycharm": {
     "name": "#%% md\n"
    }
   }
  },
  {
   "cell_type": "code",
   "execution_count": 326,
   "outputs": [],
   "source": [
    "# load names.zip which has more names data txt files\n",
    "import zipfile\n",
    "with zipfile.ZipFile('/Users/aj/Dropbox/Course/PSTAT234/spr21/pstat234-final-project/names.zip', 'r') as zip_ref:\n",
    "    zip_ref.extractall('names/')"
   ],
   "metadata": {
    "collapsed": false,
    "pycharm": {
     "name": "#%%\n"
    }
   }
  },
  {
   "cell_type": "code",
   "execution_count": 327,
   "outputs": [],
   "source": [
    "allnames_files = Path('names').glob('yob*')\n",
    "# print(allnames_files)\n",
    "# allnames_files.sort()\n",
    "allnames_list = list()\n",
    "\n",
    "for f in allnames_files:\n",
    "    step_1 = pd.read_csv(f, delimiter = ',', header=None)\n",
    "    allnames_list.append(step_1)\n",
    "allnames = pd.concat(allnames_list)\n",
    "allnames.columns = [\"name\", 'gender', 'count']\n",
    "allnames.shape\n",
    "# drop gender and aggregate the counts groupby names\n",
    "allnames.drop(['gender'], axis = 1, inplace = True)"
   ],
   "metadata": {
    "collapsed": false,
    "pycharm": {
     "name": "#%%\n"
    }
   }
  },
  {
   "cell_type": "code",
   "execution_count": 328,
   "outputs": [
    {
     "data": {
      "text/plain": "         totalcount\ncount  2.020863e+06\nmean   3.401396e+04\nstd    1.910011e+05\nmin    5.000000e+00\n25%    2.540000e+02\n50%    9.560000e+02\n75%    5.048000e+03\nmax    5.213689e+06",
      "text/html": "<div>\n<style scoped>\n    .dataframe tbody tr th:only-of-type {\n        vertical-align: middle;\n    }\n\n    .dataframe tbody tr th {\n        vertical-align: top;\n    }\n\n    .dataframe thead th {\n        text-align: right;\n    }\n</style>\n<table border=\"1\" class=\"dataframe\">\n  <thead>\n    <tr style=\"text-align: right;\">\n      <th></th>\n      <th>totalcount</th>\n    </tr>\n  </thead>\n  <tbody>\n    <tr>\n      <th>count</th>\n      <td>2.020863e+06</td>\n    </tr>\n    <tr>\n      <th>mean</th>\n      <td>3.401396e+04</td>\n    </tr>\n    <tr>\n      <th>std</th>\n      <td>1.910011e+05</td>\n    </tr>\n    <tr>\n      <th>min</th>\n      <td>5.000000e+00</td>\n    </tr>\n    <tr>\n      <th>25%</th>\n      <td>2.540000e+02</td>\n    </tr>\n    <tr>\n      <th>50%</th>\n      <td>9.560000e+02</td>\n    </tr>\n    <tr>\n      <th>75%</th>\n      <td>5.048000e+03</td>\n    </tr>\n    <tr>\n      <th>max</th>\n      <td>5.213689e+06</td>\n    </tr>\n  </tbody>\n</table>\n</div>"
     },
     "execution_count": 328,
     "metadata": {},
     "output_type": "execute_result"
    }
   ],
   "source": [
    "# allnames.dtypes\n",
    "allnames['totalcount'] = allnames['count'].\\\n",
    "    groupby(allnames['name']).transform('sum')\n",
    "allnames.drop('count', axis = 1, inplace=True)\n",
    "allnames.head\n",
    "allnames.describe()"
   ],
   "metadata": {
    "collapsed": false,
    "pycharm": {
     "name": "#%%\n"
    }
   }
  },
  {
   "cell_type": "code",
   "execution_count": 329,
   "outputs": [
    {
     "data": {
      "text/plain": "         name  totalcount\n3359    James     5213689\n4466     John     5163958\n5114   Robert     4849738\n1567  Michael     4405274\n3521  William     4159868",
      "text/html": "<div>\n<style scoped>\n    .dataframe tbody tr th:only-of-type {\n        vertical-align: middle;\n    }\n\n    .dataframe tbody tr th {\n        vertical-align: top;\n    }\n\n    .dataframe thead th {\n        text-align: right;\n    }\n</style>\n<table border=\"1\" class=\"dataframe\">\n  <thead>\n    <tr style=\"text-align: right;\">\n      <th></th>\n      <th>name</th>\n      <th>totalcount</th>\n    </tr>\n  </thead>\n  <tbody>\n    <tr>\n      <th>3359</th>\n      <td>James</td>\n      <td>5213689</td>\n    </tr>\n    <tr>\n      <th>4466</th>\n      <td>John</td>\n      <td>5163958</td>\n    </tr>\n    <tr>\n      <th>5114</th>\n      <td>Robert</td>\n      <td>4849738</td>\n    </tr>\n    <tr>\n      <th>1567</th>\n      <td>Michael</td>\n      <td>4405274</td>\n    </tr>\n    <tr>\n      <th>3521</th>\n      <td>William</td>\n      <td>4159868</td>\n    </tr>\n  </tbody>\n</table>\n</div>"
     },
     "execution_count": 329,
     "metadata": {},
     "output_type": "execute_result"
    }
   ],
   "source": [
    "# drop duplicates and keep only the names with count larger than 100\n",
    "allnames.drop_duplicates(subset='name', inplace= True)\n",
    "allnames = allnames.sort_values(by = ['totalcount'], ascending=False)\n",
    "# allnames = allnames[allnames['totalcount']>=5000]\n",
    "allnames.head()\n",
    "# there are in total 100364 unique names in the dataset, we will use \\\n",
    "# top 2000 names by the totalcount"
   ],
   "metadata": {
    "collapsed": false,
    "pycharm": {
     "name": "#%%\n"
    }
   }
  },
  {
   "cell_type": "markdown",
   "source": [
    "### Replace the names in the plot with 'Character'"
   ],
   "metadata": {
    "collapsed": false,
    "pycharm": {
     "name": "#%% md\n"
    }
   }
  },
  {
   "cell_type": "markdown",
   "source": [
    "There are several shortfalls with this approach:\n",
    "- Replacement took a long time to run\n",
    "    - Looping over each movie plot with 1000 names took about 31 minutes.\n",
    "- The updated plots still contain the names that were not within the top 1000 list.\n",
    "- Last names were not replaced well\n",
    "\n",
    "Reason: the time horizon is long, the words (excl. the names) that were used to\n",
    "describe the plots appear to be less prominent than the character names.\n",
    "\n",
    "Next Amendment:\n",
    "   - try run the analysis on movied fall on a shorter time window of\n",
    "     the release years (eg. 5 years), where the distinction in the words\n",
    "     for content may be more prominent than the names."
   ],
   "metadata": {
    "collapsed": false
   }
  },
  {
   "cell_type": "code",
   "execution_count": 79,
   "outputs": [
    {
     "name": "stdout",
     "output_type": "stream",
     "text": [
      "CPU times: user 31min 24s, sys: 15.8 s, total: 31min 40s\n",
      "Wall time: 31min 29s\n"
     ]
    }
   ],
   "source": [
    "# %%time\n",
    "# # DO NOT NEED TO RUN\n",
    "# ALERT: THIS CELL TAKES EVEN LONGER TO RUN\n",
    "# The name is a list from the all names data\n",
    "# there are in total 100364 unique names in the dataset, we will use \\\n",
    "# top 1000 names by the totalcount\n",
    "# new_movie_sub = movies_df[(movies_df['Release Year']>=1990) &\n",
    "#                           (movies_df['Release Year']<=2010) &\n",
    "#                           (movies_df['Origin/Ethnicity']==\"American\")].\\\n",
    "#     reset_index(drop=True)\n",
    "#\n",
    "# new_movie_sub = new_movie_sub.drop(['Origin/Ethnicity', 'Wiki Page'], axis = 1)\n",
    "# name = allnames.name.to_list()\n",
    "# for i in new_movie_sub.index:\n",
    "#     for tag in name[:1000]:\n",
    "#         new_movie_sub.Plot[i] = re.sub(r'\\b' + tag + r'\\b', 'Character', new_movie_sub.Plot[i])"
   ],
   "metadata": {
    "collapsed": false,
    "pycharm": {
     "name": "#%%\n"
    }
   }
  },
  {
   "cell_type": "code",
   "execution_count": 80,
   "outputs": [],
   "source": [
    "# # save the new movie plot to data\n",
    "# new_movie_sub.to_csv('replaced_character_movie_plots.csv', index=False)\n"
   ],
   "metadata": {
    "collapsed": false,
    "pycharm": {
     "name": "#%%\n"
    }
   }
  },
  {
   "cell_type": "markdown",
   "source": [
    "## Load the data for updated plots"
   ],
   "metadata": {
    "collapsed": false,
    "pycharm": {
     "name": "#%% md\n"
    }
   }
  },
  {
   "cell_type": "code",
   "execution_count": 337,
   "outputs": [
    {
     "data": {
      "text/plain": "(4631, 6)"
     },
     "execution_count": 337,
     "metadata": {},
     "output_type": "execute_result"
    }
   ],
   "source": [
    "new_movies_df = pd.read_csv(\"replaced_character_movie_plots.csv\")\n",
    "new_movies_df.Plot[5]\n",
    "new_movies_df.shape"
   ],
   "metadata": {
    "collapsed": false,
    "pycharm": {
     "name": "#%%\n"
    }
   }
  },
  {
   "cell_type": "markdown",
   "source": [
    "### TF-IDF with the updated plot summaries"
   ],
   "metadata": {
    "collapsed": false
   }
  },
  {
   "cell_type": "code",
   "execution_count": 345,
   "outputs": [
    {
     "name": "stdout",
     "output_type": "stream",
     "text": [
      "(4631, 120)\n"
     ]
    }
   ],
   "source": [
    "tfidf_matrix_new = pipe.fit_transform([x for x in new_movies_df['Plot']])\n",
    "print(tfidf_matrix_new.shape)\n",
    "\n",
    "num_clusters = 23\n",
    "km = KMeans(n_clusters=num_clusters)\n",
    "km.fit(tfidf_matrix_new)\n",
    "\n",
    "joblib.dump(km, 'doc_cluster_new.pkl')\n",
    "\n",
    "km = joblib.load('doc_cluster_new.pkl')\n",
    "clusters = km.labels_.tolist()"
   ],
   "metadata": {
    "collapsed": false,
    "pycharm": {
     "name": "#%%\n"
    }
   }
  },
  {
   "cell_type": "code",
   "execution_count": 346,
   "outputs": [
    {
     "name": "stdout",
     "output_type": "stream",
     "text": [
      "4631\n"
     ]
    }
   ],
   "source": [
    "# print(len(clusters))"
   ],
   "metadata": {
    "collapsed": false,
    "pycharm": {
     "name": "#%%\n"
    }
   }
  },
  {
   "cell_type": "code",
   "execution_count": 347,
   "outputs": [],
   "source": [
    "frame['cluster_tfidf_second'] = clusters"
   ],
   "metadata": {
    "collapsed": false,
    "pycharm": {
     "name": "#%%\n"
    }
   }
  },
  {
   "cell_type": "code",
   "execution_count": 349,
   "outputs": [
    {
     "data": {
      "text/plain": "                           title  cluster_tfidf_second            Genre  \\\n616             Body of Evidence                     0         thriller   \n4426               Up in the Air                     0     comedy-drama   \n4100   Forgetting Sarah Marshall                     0           comedy   \n767          The Wedding Banquet                     0    drama, comedy   \n2517              Ghosts of Mars                     1  science fiction   \n2541                Joe Somebody                     1           comedy   \n4443         Alice in Wonderland                     1  family, fantasy   \n602                     Airborne                     1           comedy   \n2391         Rules of Engagement                     2              war   \n1924                   Homegrown                     2           comedy   \n888                  Killing Zoe                     2         thriller   \n2867                   Bad Santa                     2    comedy, crime   \n2080                The Bachelor                     3  romantic comedy   \n2065             American Beauty                     3            drama   \n2059  10 Things I Hate About You                     3  romantic comedy   \n4585               The Romantics                     3  romantic comedy   \n\n      Release_year  \n616           1993  \n4426          2009  \n4100          2008  \n767           1993  \n2517          2001  \n2541          2001  \n4443          2010  \n602           1993  \n2391          2000  \n1924          1998  \n888           1994  \n2867          2003  \n2080          1999  \n2065          1999  \n2059          1999  \n4585          2010  ",
      "text/html": "<div>\n<style scoped>\n    .dataframe tbody tr th:only-of-type {\n        vertical-align: middle;\n    }\n\n    .dataframe tbody tr th {\n        vertical-align: top;\n    }\n\n    .dataframe thead th {\n        text-align: right;\n    }\n</style>\n<table border=\"1\" class=\"dataframe\">\n  <thead>\n    <tr style=\"text-align: right;\">\n      <th></th>\n      <th>title</th>\n      <th>cluster_tfidf_second</th>\n      <th>Genre</th>\n      <th>Release_year</th>\n    </tr>\n  </thead>\n  <tbody>\n    <tr>\n      <th>616</th>\n      <td>Body of Evidence</td>\n      <td>0</td>\n      <td>thriller</td>\n      <td>1993</td>\n    </tr>\n    <tr>\n      <th>4426</th>\n      <td>Up in the Air</td>\n      <td>0</td>\n      <td>comedy-drama</td>\n      <td>2009</td>\n    </tr>\n    <tr>\n      <th>4100</th>\n      <td>Forgetting Sarah Marshall</td>\n      <td>0</td>\n      <td>comedy</td>\n      <td>2008</td>\n    </tr>\n    <tr>\n      <th>767</th>\n      <td>The Wedding Banquet</td>\n      <td>0</td>\n      <td>drama, comedy</td>\n      <td>1993</td>\n    </tr>\n    <tr>\n      <th>2517</th>\n      <td>Ghosts of Mars</td>\n      <td>1</td>\n      <td>science fiction</td>\n      <td>2001</td>\n    </tr>\n    <tr>\n      <th>2541</th>\n      <td>Joe Somebody</td>\n      <td>1</td>\n      <td>comedy</td>\n      <td>2001</td>\n    </tr>\n    <tr>\n      <th>4443</th>\n      <td>Alice in Wonderland</td>\n      <td>1</td>\n      <td>family, fantasy</td>\n      <td>2010</td>\n    </tr>\n    <tr>\n      <th>602</th>\n      <td>Airborne</td>\n      <td>1</td>\n      <td>comedy</td>\n      <td>1993</td>\n    </tr>\n    <tr>\n      <th>2391</th>\n      <td>Rules of Engagement</td>\n      <td>2</td>\n      <td>war</td>\n      <td>2000</td>\n    </tr>\n    <tr>\n      <th>1924</th>\n      <td>Homegrown</td>\n      <td>2</td>\n      <td>comedy</td>\n      <td>1998</td>\n    </tr>\n    <tr>\n      <th>888</th>\n      <td>Killing Zoe</td>\n      <td>2</td>\n      <td>thriller</td>\n      <td>1994</td>\n    </tr>\n    <tr>\n      <th>2867</th>\n      <td>Bad Santa</td>\n      <td>2</td>\n      <td>comedy, crime</td>\n      <td>2003</td>\n    </tr>\n    <tr>\n      <th>2080</th>\n      <td>The Bachelor</td>\n      <td>3</td>\n      <td>romantic comedy</td>\n      <td>1999</td>\n    </tr>\n    <tr>\n      <th>2065</th>\n      <td>American Beauty</td>\n      <td>3</td>\n      <td>drama</td>\n      <td>1999</td>\n    </tr>\n    <tr>\n      <th>2059</th>\n      <td>10 Things I Hate About You</td>\n      <td>3</td>\n      <td>romantic comedy</td>\n      <td>1999</td>\n    </tr>\n    <tr>\n      <th>4585</th>\n      <td>The Romantics</td>\n      <td>3</td>\n      <td>romantic comedy</td>\n      <td>2010</td>\n    </tr>\n  </tbody>\n</table>\n</div>"
     },
     "execution_count": 349,
     "metadata": {},
     "output_type": "execute_result"
    }
   ],
   "source": [
    "films_select = frame[['title', 'cluster_tfidf_second', 'Genre', 'Release_year']]\n",
    "films_select.sort_values(['cluster_tfidf_second']).groupby('cluster_tfidf_second').head(4)[:16]"
   ],
   "metadata": {
    "collapsed": false,
    "pycharm": {
     "name": "#%%\n"
    }
   }
  },
  {
   "cell_type": "code",
   "execution_count": 357,
   "outputs": [
    {
     "name": "stdout",
     "output_type": "stream",
     "text": [
      "                              title  Release_year\n",
      "3374                     Madagascar          2005\n",
      "1194     The Pebble and the Penguin          1995\n",
      "3607                     Happy Feet          2006\n",
      "1775                Robinson Crusoe          1997\n",
      "4497                         Frozen          2010\n",
      "1955                     The Mighty          1998\n",
      "625           Cannibal! The Musical          1993\n",
      "1306          Cannibal! The Musical          1996\n",
      "2835                Treasure Planet          2002\n",
      "4229  You Don't Mess with the Zohan          2008\n"
     ]
    }
   ],
   "source": [
    "similarity_distance_new = 1 - cosine_similarity(tfidf_matrix_new)\n",
    "# similarity_distance_new\n",
    "\n",
    "def find_similar(title):\n",
    "    index = frame[frame['title'] == title].index[0]\n",
    "    vector = similarity_distance_new[index, :]\n",
    "    most_similar = frame.iloc[np.argsort(vector)[0:10], 0:2]\n",
    "    return most_similar\n",
    "\n",
    "print(find_similar('Madagascar'))\n"
   ],
   "metadata": {
    "collapsed": false,
    "pycharm": {
     "name": "#%%\n"
    }
   }
  },
  {
   "cell_type": "markdown",
   "source": [
    "Word Cloud for the corpus"
   ],
   "metadata": {
    "collapsed": false,
    "pycharm": {
     "name": "#%% md\n"
    }
   }
  },
  {
   "cell_type": "code",
   "execution_count": 378,
   "outputs": [],
   "source": [
    "from nltk.corpus import stopwords\n",
    "plots = []\n",
    "stop_words = set(stopwords.words('english'))\n",
    "from nltk.stem import WordNetLemmatizer\n",
    "\n",
    "wordnet_lemmatizer = WordNetLemmatizer()\n",
    "for words in new_movies_df.Plot:\n",
    "    only_letters = re.sub(\"[^a-zA-Z]\", \" \", words)\n",
    "    tokens = nltk.word_tokenize(only_letters) #tokenize the sentences\n",
    "    lower_case = [l.lower() for l in tokens] #convert all letters to lower case\n",
    "    filtered_result = list(filter(lambda l: l not in stop_words, lower_case)) #Remove stopwords from the comments\n",
    "    lemmas = [wordnet_lemmatizer.lemmatize(t) for t in filtered_result] #lemmatizes the words i.e convert similar words to their\n",
    "    # base form while still considering the context in which the words are used\n",
    "    plots.append(' '.join(lemmas))"
   ],
   "metadata": {
    "collapsed": false,
    "pycharm": {
     "name": "#%%\n"
    }
   }
  },
  {
   "cell_type": "markdown",
   "source": [
    "Word Cloud with all movie plots"
   ],
   "metadata": {
    "collapsed": false,
    "pycharm": {
     "name": "#%% md\n"
    }
   }
  },
  {
   "cell_type": "code",
   "execution_count": 379,
   "outputs": [],
   "source": [
    "# unique_string=(\" \").join(plots)\n",
    "# wordcloud = WordCloud(width = 2000, height = 1000, background_color='white').generate(unique_string)\n",
    "# plt.pyplot.imshow(wordcloud, interpolation='bilinear')\n",
    "# plt.pyplot.axis(\"off\")\n",
    "# plt.pyplot.show()"
   ],
   "metadata": {
    "collapsed": false,
    "pycharm": {
     "name": "#%%\n"
    }
   }
  },
  {
   "cell_type": "markdown",
   "source": [
    "Word cloud with all movie plots for the most important words using countervectorizer"
   ],
   "metadata": {
    "collapsed": false
   }
  },
  {
   "cell_type": "code",
   "execution_count": 380,
   "outputs": [
    {
     "data": {
      "text/plain": "<Figure size 360x216 with 1 Axes>",
      "image/png": "[encoded data removed]"
     },
     "metadata": {},
     "output_type": "display_data"
    }
   ],
   "source": [
    "# the most important words in messages using countvectorizer\n",
    "cv = CountVectorizer(analyzer = \"word\",stop_words = 'english', max_features = 1000, ngram_range=(2,2))\n",
    "important_words = cv.fit_transform(plots)\n",
    "fig_words = cv.vocabulary_\n",
    "\n",
    "#wordcloud for important words\n",
    "unique_data=(\" \").join(fig_words)\n",
    "wordcloud = WordCloud(width = 1000, height = 500, background_color=\"white\").generate(unique_data)\n",
    "plt.pyplot.imshow(wordcloud)\n",
    "plt.pyplot.axis(\"off\")\n",
    "plt.pyplot.show()\n",
    "plt.pyplot.close()"
   ],
   "metadata": {
    "collapsed": false,
    "pycharm": {
     "name": "#%%\n"
    }
   }
  },
  {
   "cell_type": "markdown",
   "source": [
    "LDA with the updated plot summaries"
   ],
   "metadata": {
    "collapsed": false,
    "pycharm": {
     "name": "#%% md\n"
    }
   }
  },
  {
   "cell_type": "code",
   "execution_count": 395,
   "outputs": [
    {
     "name": "stdout",
     "output_type": "stream",
     "text": [
      "Topic: 0 Word: 0.002*\"island\" + 0.002*\"crew\" + 0.002*\"stan\" + 0.002*\"wed\" + 0.002*\"ship\" + 0.002*\"camp\" + 0.001*\"marin\" + 0.001*\"club\" + 0.001*\"hotel\" + 0.001*\"machin\"\n",
      "Topic: 1 Word: 0.005*\"nick\" + 0.004*\"vampir\" + 0.002*\"infect\" + 0.002*\"anim\" + 0.002*\"affair\" + 0.002*\"boss\" + 0.002*\"white\" + 0.001*\"shooter\" + 0.001*\"babi\" + 0.001*\"buck\"\n",
      "Topic: 2 Word: 0.003*\"satan\" + 0.002*\"presid\" + 0.002*\"matt\" + 0.002*\"christma\" + 0.002*\"evil\" + 0.002*\"coach\" + 0.002*\"band\" + 0.002*\"gang\" + 0.002*\"vote\" + 0.002*\"ghost\"\n",
      "Topic: 3 Word: 0.003*\"vinc\" + 0.003*\"nicki\" + 0.002*\"restaur\" + 0.002*\"hors\" + 0.002*\"kidnap\" + 0.002*\"boy\" + 0.001*\"sullivan\" + 0.001*\"danc\" + 0.001*\"marriag\" + 0.001*\"reveng\"\n",
      "Topic: 4 Word: 0.003*\"doug\" + 0.002*\"book\" + 0.002*\"ship\" + 0.002*\"player\" + 0.002*\"elliot\" + 0.001*\"debt\" + 0.001*\"boy\" + 0.001*\"addict\" + 0.001*\"killer\" + 0.001*\"tournament\"\n",
      "Topic: 5 Word: 0.003*\"pete\" + 0.002*\"colleg\" + 0.002*\"hotel\" + 0.002*\"store\" + 0.002*\"wed\" + 0.002*\"kid\" + 0.002*\"gang\" + 0.002*\"wish\" + 0.002*\"rock\" + 0.002*\"band\"\n",
      "Topic: 6 Word: 0.003*\"nick\" + 0.002*\"santa\" + 0.002*\"nikki\" + 0.002*\"camp\" + 0.002*\"race\" + 0.002*\"women\" + 0.001*\"wed\" + 0.001*\"christma\" + 0.001*\"willi\" + 0.001*\"hotel\"\n",
      "Topic: 7 Word: 0.002*\"hank\" + 0.002*\"bear\" + 0.002*\"wed\" + 0.002*\"truck\" + 0.002*\"benni\" + 0.002*\"anim\" + 0.002*\"band\" + 0.002*\"case\" + 0.001*\"concert\" + 0.001*\"babi\"\n",
      "Topic: 8 Word: 0.003*\"mitch\" + 0.002*\"west\" + 0.002*\"babi\" + 0.002*\"christma\" + 0.002*\"mickey\" + 0.002*\"player\" + 0.002*\"bear\" + 0.002*\"spike\" + 0.001*\"wed\" + 0.001*\"sheriff\"\n",
      "Topic: 9 Word: 0.003*\"sonni\" + 0.002*\"smith\" + 0.002*\"queen\" + 0.002*\"stone\" + 0.002*\"junior\" + 0.002*\"bishop\" + 0.002*\"marriag\" + 0.002*\"chip\" + 0.002*\"book\" + 0.001*\"star\"\n",
      "Topic: 10 Word: 0.003*\"alien\" + 0.002*\"marti\" + 0.002*\"soldier\" + 0.002*\"armi\" + 0.002*\"crew\" + 0.002*\"nick\" + 0.002*\"king\" + 0.002*\"ring\" + 0.002*\"robert\" + 0.002*\"jone\"\n",
      "Topic: 11 Word: 0.003*\"nick\" + 0.002*\"king\" + 0.002*\"slave\" + 0.002*\"sherman\" + 0.002*\"buck\" + 0.002*\"rudi\" + 0.002*\"contest\" + 0.002*\"princ\" + 0.002*\"buddi\" + 0.002*\"japanes\"\n",
      "Topic: 12 Word: 0.003*\"vampir\" + 0.002*\"band\" + 0.002*\"coach\" + 0.002*\"footbal\" + 0.002*\"player\" + 0.002*\"king\" + 0.002*\"teacher\" + 0.002*\"basebal\" + 0.002*\"letter\" + 0.002*\"read\"\n",
      "Topic: 13 Word: 0.002*\"writer\" + 0.002*\"store\" + 0.002*\"ghost\" + 0.002*\"nick\" + 0.002*\"hotel\" + 0.002*\"chip\" + 0.002*\"aunt\" + 0.002*\"colleg\" + 0.002*\"music\" + 0.002*\"case\"\n",
      "Topic: 14 Word: 0.002*\"smith\" + 0.002*\"chanc\" + 0.002*\"burk\" + 0.002*\"killer\" + 0.002*\"store\" + 0.002*\"hotel\" + 0.002*\"bear\" + 0.002*\"presid\" + 0.002*\"hors\" + 0.001*\"emot\"\n",
      "Topic: 15 Word: 0.003*\"marti\" + 0.003*\"book\" + 0.002*\"phil\" + 0.002*\"richi\" + 0.002*\"presid\" + 0.002*\"crew\" + 0.002*\"christma\" + 0.002*\"hill\" + 0.002*\"seri\" + 0.001*\"pregnant\"\n",
      "Topic: 16 Word: 0.003*\"matt\" + 0.002*\"rich\" + 0.002*\"hotel\" + 0.002*\"letter\" + 0.002*\"book\" + 0.002*\"ship\" + 0.001*\"human\" + 0.001*\"beauti\" + 0.001*\"stab\" + 0.001*\"board\"\n",
      "Topic: 17 Word: 0.002*\"zombi\" + 0.002*\"skip\" + 0.002*\"cain\" + 0.002*\"wed\" + 0.002*\"elvi\" + 0.002*\"treasur\" + 0.002*\"gang\" + 0.002*\"star\" + 0.002*\"mission\" + 0.002*\"mysteri\"\n",
      "Topic: 18 Word: 0.002*\"earth\" + 0.002*\"stone\" + 0.002*\"bank\" + 0.002*\"wish\" + 0.002*\"case\" + 0.002*\"angel\" + 0.002*\"human\" + 0.002*\"kong\" + 0.002*\"alien\" + 0.001*\"teacher\"\n",
      "Topic: 19 Word: 0.004*\"buddi\" + 0.003*\"nick\" + 0.002*\"lenni\" + 0.002*\"book\" + 0.002*\"gang\" + 0.002*\"true\" + 0.002*\"berni\" + 0.002*\"letter\" + 0.002*\"rais\" + 0.001*\"mark\"\n",
      "Topic: 20 Word: 0.004*\"shaw\" + 0.002*\"shepard\" + 0.002*\"terrorist\" + 0.002*\"zombi\" + 0.002*\"bomb\" + 0.002*\"island\" + 0.002*\"nuclear\" + 0.002*\"battl\" + 0.002*\"govern\" + 0.002*\"gang\"\n",
      "Topic: 21 Word: 0.006*\"nick\" + 0.002*\"crew\" + 0.002*\"ship\" + 0.002*\"enterpris\" + 0.001*\"fairi\" + 0.001*\"clark\" + 0.001*\"angel\" + 0.001*\"month\" + 0.001*\"matt\" + 0.001*\"marti\"\n",
      "Topic: 22 Word: 0.003*\"chuck\" + 0.003*\"monster\" + 0.002*\"ship\" + 0.002*\"elliot\" + 0.002*\"stone\" + 0.002*\"babi\" + 0.002*\"adopt\" + 0.002*\"soldier\" + 0.002*\"juliet\" + 0.002*\"treasur\"\n"
     ]
    }
   ],
   "source": [
    "processed_docs = new_movies_df['Plot'].map(preprocess)\n",
    "dictionary = gensim.corpora.Dictionary(processed_docs)\n",
    "count = 0\n",
    "for k, v in dictionary.iteritems():\n",
    "    # print(k, v)\n",
    "    count += 1\n",
    "    if count > 15:\n",
    "        break\n",
    "\n",
    "dictionary.filter_extremes(no_below=20, no_above=0.1, keep_n=100000)\n",
    "bow_corpus = [dictionary.doc2bow(doc) for doc in processed_docs]\n",
    "\n",
    "tfidf = models.TfidfModel(bow_corpus)\n",
    "corpus_tfidf = tfidf[bow_corpus]\n",
    "\n",
    "lda_model_tfidf = gensim.models.LdaMulticore(corpus_tfidf, num_topics=23, id2word=dictionary, passes=2, workers=3)\n",
    "for idx, topic in lda_model_tfidf.print_topics(-1):\n",
    "    print('Topic: {} Word: {}'.format(idx, topic))\n"
   ],
   "metadata": {
    "collapsed": false,
    "pycharm": {
     "name": "#%%\n"
    }
   }
  },
  {
   "cell_type": "code",
   "execution_count": 400,
   "outputs": [],
   "source": [
    "lda_corpus = lda_model_tfidf[corpus_tfidf]\n",
    "all_topics = lda_model_tfidf.get_document_topics(corpus_tfidf)\n",
    "\n",
    "num_docs = len(all_topics)\n",
    "\n",
    "all_topics_csr= gensim.matutils.corpus2csc(all_topics)\n",
    "all_topics_numpy= all_topics_csr.T.toarray()\n",
    "\n",
    "major_topic = [np.argmax(arr) for arr in all_topics_numpy]\n",
    "frame['cluster_lda_major_second']= major_topic"
   ],
   "metadata": {
    "collapsed": false,
    "pycharm": {
     "name": "#%%\n"
    }
   }
  },
  {
   "cell_type": "code",
   "execution_count": 401,
   "outputs": [
    {
     "name": "stderr",
     "output_type": "stream",
     "text": [
      "/Users/aj/PycharmProjects/film_python/jupyter/lib/python3.9/site-packages/seaborn/_decorators.py:36: FutureWarning:\n",
      "\n",
      "Pass the following variables as keyword args: x, y. From version 0.12, the only valid positional argument will be `data`, and passing other arguments without an explicit keyword will result in an error or misinterpretation.\n",
      "\n"
     ]
    },
    {
     "data": {
      "text/plain": "<Figure size 720x360 with 1 Axes>",
      "image/png": "[encoded data removed]"
     },
     "metadata": {},
     "output_type": "display_data"
    }
   ],
   "source": [
    "clus_count = frame['cluster_lda_major_second'].value_counts()\n",
    "pplt.figure(figsize=(10, 5))\n",
    "sns.barplot(clus_count.index, clus_count.values, alpha=0.8)\n",
    "pplt.title('Number of Movies in Each Cluster (with updated plots)')\n",
    "pplt.ylabel('Number of Occurrences', fontsize=12)\n",
    "pplt.xlabel('LDA Cluster by Major Topics', fontsize=12)\n",
    "pplt.show()"
   ],
   "metadata": {
    "collapsed": false,
    "pycharm": {
     "name": "#%%\n"
    }
   }
  },
  {
   "cell_type": "code",
   "execution_count": 403,
   "outputs": [],
   "source": [
    "frame.columns\n",
    "frame_new = frame[['title', 'Release_year', 'cluster_tfidf_first',\n",
    "'cluster_tfidf_second', 'cluster_lda_major_first', 'cluster_lda_major_second']]"
   ],
   "metadata": {
    "collapsed": false,
    "pycharm": {
     "name": "#%%\n"
    }
   }
  },
  {
   "cell_type": "code",
   "execution_count": 404,
   "outputs": [],
   "source": [
    "# save all the above result on movie plots to a data file\n",
    "frame_new.to_csv(os.path.join(folder, r'plot_clusters.csv'), index=False)"
   ],
   "metadata": {
    "collapsed": false,
    "pycharm": {
     "name": "#%%\n"
    }
   }
  },
  {
   "cell_type": "markdown",
   "source": [
    "## Import the data with other movie attributes"
   ],
   "metadata": {
    "collapsed": false,
    "pycharm": {
     "name": "#%% md\n"
    }
   }
  },
  {
   "cell_type": "code",
   "execution_count": 407,
   "outputs": [
    {
     "data": {
      "text/plain": "            us.year   us.quarter   domestic_bo  budget_nielsen  \\\ncount  13016.000000  5052.000000  5.718000e+03    6.058000e+03   \nmean    2000.249923     2.625099  2.540196e+07    2.160889e+07   \nstd        5.967295     1.102717  4.608372e+07    3.089150e+07   \nmin     1990.000000     1.000000  9.500000e+01    2.200000e+02   \n25%     1995.000000     2.000000  1.866802e+05    2.000000e+06   \n50%     2000.000000     3.000000  5.991562e+06    1.000000e+07   \n75%     2006.000000     4.000000  3.117350e+07    2.754125e+07   \nmax     2010.000000     4.000000  4.364710e+08    3.000000e+08   \n\n       budget_numbers  international_bo  \ncount    2.006000e+03      1.972000e+03  \nmean     4.056754e+07      6.165253e+07  \nstd      3.969142e+07      1.155018e+08  \nmin      7.000000e+03      3.900000e+01  \n25%      1.300000e+07      2.782723e+06  \n50%      2.900000e+07      2.385216e+07  \n75%      5.737500e+07      7.321041e+07  \nmax      2.600000e+08      2.028194e+09  ",
      "text/html": "<div>\n<style scoped>\n    .dataframe tbody tr th:only-of-type {\n        vertical-align: middle;\n    }\n\n    .dataframe tbody tr th {\n        vertical-align: top;\n    }\n\n    .dataframe thead th {\n        text-align: right;\n    }\n</style>\n<table border=\"1\" class=\"dataframe\">\n  <thead>\n    <tr style=\"text-align: right;\">\n      <th></th>\n      <th>us.year</th>\n      <th>us.quarter</th>\n      <th>domestic_bo</th>\n      <th>budget_nielsen</th>\n      <th>budget_numbers</th>\n      <th>international_bo</th>\n    </tr>\n  </thead>\n  <tbody>\n    <tr>\n      <th>count</th>\n      <td>13016.000000</td>\n      <td>5052.000000</td>\n      <td>5.718000e+03</td>\n      <td>6.058000e+03</td>\n      <td>2.006000e+03</td>\n      <td>1.972000e+03</td>\n    </tr>\n    <tr>\n      <th>mean</th>\n      <td>2000.249923</td>\n      <td>2.625099</td>\n      <td>2.540196e+07</td>\n      <td>2.160889e+07</td>\n      <td>4.056754e+07</td>\n      <td>6.165253e+07</td>\n    </tr>\n    <tr>\n      <th>std</th>\n      <td>5.967295</td>\n      <td>1.102717</td>\n      <td>4.608372e+07</td>\n      <td>3.089150e+07</td>\n      <td>3.969142e+07</td>\n      <td>1.155018e+08</td>\n    </tr>\n    <tr>\n      <th>min</th>\n      <td>1990.000000</td>\n      <td>1.000000</td>\n      <td>9.500000e+01</td>\n      <td>2.200000e+02</td>\n      <td>7.000000e+03</td>\n      <td>3.900000e+01</td>\n    </tr>\n    <tr>\n      <th>25%</th>\n      <td>1995.000000</td>\n      <td>2.000000</td>\n      <td>1.866802e+05</td>\n      <td>2.000000e+06</td>\n      <td>1.300000e+07</td>\n      <td>2.782723e+06</td>\n    </tr>\n    <tr>\n      <th>50%</th>\n      <td>2000.000000</td>\n      <td>3.000000</td>\n      <td>5.991562e+06</td>\n      <td>1.000000e+07</td>\n      <td>2.900000e+07</td>\n      <td>2.385216e+07</td>\n    </tr>\n    <tr>\n      <th>75%</th>\n      <td>2006.000000</td>\n      <td>4.000000</td>\n      <td>3.117350e+07</td>\n      <td>2.754125e+07</td>\n      <td>5.737500e+07</td>\n      <td>7.321041e+07</td>\n    </tr>\n    <tr>\n      <th>max</th>\n      <td>2010.000000</td>\n      <td>4.000000</td>\n      <td>4.364710e+08</td>\n      <td>3.000000e+08</td>\n      <td>2.600000e+08</td>\n      <td>2.028194e+09</td>\n    </tr>\n  </tbody>\n</table>\n</div>"
     },
     "execution_count": 407,
     "metadata": {},
     "output_type": "execute_result"
    }
   ],
   "source": [
    "movies_other = pd.read_csv(folder/'df_pstat234.csv')\n",
    "movies_other.describe()"
   ],
   "metadata": {
    "collapsed": false,
    "pycharm": {
     "name": "#%%\n"
    }
   }
  },
  {
   "cell_type": "code",
   "execution_count": 409,
   "outputs": [
    {
     "data": {
      "text/plain": "        domestic_bo  budget_nielsen  international_bo  budget_numbers\ncount  5.718000e+03    6.058000e+03      1.972000e+03    2.006000e+03\nmean   2.540196e+07    2.160889e+07      6.165253e+07    4.056754e+07\nstd    4.608372e+07    3.089150e+07      1.155018e+08    3.969142e+07\nmin    9.500000e+01    2.200000e+02      3.900000e+01    7.000000e+03\n25%    1.866802e+05    2.000000e+06      2.782723e+06    1.300000e+07\n50%    5.991562e+06    1.000000e+07      2.385216e+07    2.900000e+07\n75%    3.117350e+07    2.754125e+07      7.321041e+07    5.737500e+07\nmax    4.364710e+08    3.000000e+08      2.028194e+09    2.600000e+08",
      "text/html": "<div>\n<style scoped>\n    .dataframe tbody tr th:only-of-type {\n        vertical-align: middle;\n    }\n\n    .dataframe tbody tr th {\n        vertical-align: top;\n    }\n\n    .dataframe thead th {\n        text-align: right;\n    }\n</style>\n<table border=\"1\" class=\"dataframe\">\n  <thead>\n    <tr style=\"text-align: right;\">\n      <th></th>\n      <th>domestic_bo</th>\n      <th>budget_nielsen</th>\n      <th>international_bo</th>\n      <th>budget_numbers</th>\n    </tr>\n  </thead>\n  <tbody>\n    <tr>\n      <th>count</th>\n      <td>5.718000e+03</td>\n      <td>6.058000e+03</td>\n      <td>1.972000e+03</td>\n      <td>2.006000e+03</td>\n    </tr>\n    <tr>\n      <th>mean</th>\n      <td>2.540196e+07</td>\n      <td>2.160889e+07</td>\n      <td>6.165253e+07</td>\n      <td>4.056754e+07</td>\n    </tr>\n    <tr>\n      <th>std</th>\n      <td>4.608372e+07</td>\n      <td>3.089150e+07</td>\n      <td>1.155018e+08</td>\n      <td>3.969142e+07</td>\n    </tr>\n    <tr>\n      <th>min</th>\n      <td>9.500000e+01</td>\n      <td>2.200000e+02</td>\n      <td>3.900000e+01</td>\n      <td>7.000000e+03</td>\n    </tr>\n    <tr>\n      <th>25%</th>\n      <td>1.866802e+05</td>\n      <td>2.000000e+06</td>\n      <td>2.782723e+06</td>\n      <td>1.300000e+07</td>\n    </tr>\n    <tr>\n      <th>50%</th>\n      <td>5.991562e+06</td>\n      <td>1.000000e+07</td>\n      <td>2.385216e+07</td>\n      <td>2.900000e+07</td>\n    </tr>\n    <tr>\n      <th>75%</th>\n      <td>3.117350e+07</td>\n      <td>2.754125e+07</td>\n      <td>7.321041e+07</td>\n      <td>5.737500e+07</td>\n    </tr>\n    <tr>\n      <th>max</th>\n      <td>4.364710e+08</td>\n      <td>3.000000e+08</td>\n      <td>2.028194e+09</td>\n      <td>2.600000e+08</td>\n    </tr>\n  </tbody>\n</table>\n</div>"
     },
     "execution_count": 409,
     "metadata": {},
     "output_type": "execute_result"
    }
   ],
   "source": [
    "movies_other[[\"domestic_bo\", \"budget_nielsen\", \"international_bo\", \"budget_numbers\"]].describe()\n"
   ],
   "metadata": {
    "collapsed": false,
    "pycharm": {
     "name": "#%%\n"
    }
   }
  },
  {
   "cell_type": "markdown",
   "source": [
    "### Visualize the plot text (word cloud)\n",
    "\n",
    "- Overall topic\n",
    "- US-born director\n",
    "- Foreign-born director\n",
    "- Genre\n"
   ],
   "metadata": {
    "collapsed": false
   }
  },
  {
   "cell_type": "markdown",
   "source": [
    "## Import the data with big star names\n",
    "*Source: https://www.imdb.com/list/ls058011111/?sort=list_order,asc&mode=detail*\n",
    "*Scraped, code attached separately*"
   ],
   "metadata": {
    "collapsed": false
   }
  },
  {
   "cell_type": "code",
   "execution_count": 410,
   "outputs": [
    {
     "data": {
      "text/plain": "                 Name\n0      Robert De Niro\n1      Jack Nicholson\n2       Marlon Brando\n3   Denzel Washington\n4   Katharine Hepburn",
      "text/html": "<div>\n<style scoped>\n    .dataframe tbody tr th:only-of-type {\n        vertical-align: middle;\n    }\n\n    .dataframe tbody tr th {\n        vertical-align: top;\n    }\n\n    .dataframe thead th {\n        text-align: right;\n    }\n</style>\n<table border=\"1\" class=\"dataframe\">\n  <thead>\n    <tr style=\"text-align: right;\">\n      <th></th>\n      <th>Name</th>\n    </tr>\n  </thead>\n  <tbody>\n    <tr>\n      <th>0</th>\n      <td>Robert De Niro</td>\n    </tr>\n    <tr>\n      <th>1</th>\n      <td>Jack Nicholson</td>\n    </tr>\n    <tr>\n      <th>2</th>\n      <td>Marlon Brando</td>\n    </tr>\n    <tr>\n      <th>3</th>\n      <td>Denzel Washington</td>\n    </tr>\n    <tr>\n      <th>4</th>\n      <td>Katharine Hepburn</td>\n    </tr>\n  </tbody>\n</table>\n</div>"
     },
     "execution_count": 410,
     "metadata": {},
     "output_type": "execute_result"
    }
   ],
   "source": [
    "topstar = pd.read_csv(folder/'topstar.csv')\n",
    "topstar.head(5)\n",
    "topstar = topstar.Name.str.lstrip(' ')"
   ],
   "metadata": {
    "collapsed": false,
    "pycharm": {
     "name": "#%%\n"
    }
   }
  },
  {
   "cell_type": "markdown",
   "source": [
    "generate top star indicator for each movie if one of the main actors is on\n",
    "the list of top star from the above source.\n"
   ],
   "metadata": {
    "collapsed": false
   }
  },
  {
   "cell_type": "code",
   "execution_count": null,
   "outputs": [],
   "source": [
    "# movies_other['topstar']=0\n",
    "#Do not run this cell! It takes more than two hours! I saved the result file as 'merged with topstar.csv' and we will use that for the following step.\n",
    "#for j in range(0,1000):\n",
    "#    for i in range(0,13016):\n",
    "#        if movies_other.Actor1.tolist()[i]== topstar[j]:\n",
    "#            movies_other['topstar'][i]=1\n",
    "#        elif movies_other.Actor2.tolist()[i]==topstar[j]:\n",
    "#            movies_other['topstar'][i]=1\n",
    "#        elif movies_other.Actor3.tolist()[i]== topstar[j]:\n",
    "#            movies_other['topstar'][i]=1\n",
    "#        elif movies_other.Actor4.tolist()[i]== topstar[j]:\n",
    "#            movies_other['topstar'][i]=1\n",
    "#        elif movies_other.Actor5.tolist()[i]== topstar[j]:\n",
    "#            movies_other['topstar'][i]=1\n",
    "#    print(j)\n"
   ],
   "metadata": {
    "collapsed": false,
    "pycharm": {
     "name": "#%%\n"
    }
   }
  },
  {
   "cell_type": "code",
   "execution_count": null,
   "outputs": [],
   "source": [
    "# movies_other[\"topstar\"].describe()"
   ],
   "metadata": {
    "collapsed": false,
    "pycharm": {
     "name": "#%%\n"
    }
   }
  },
  {
   "cell_type": "code",
   "execution_count": null,
   "outputs": [],
   "source": [
    "# # save the merged data with the topstar\n",
    "# movies_other.to_csv('merged with topstar.csv', index=False)"
   ],
   "metadata": {
    "collapsed": false,
    "pycharm": {
     "name": "#%%\n"
    }
   }
  },
  {
   "cell_type": "code",
   "execution_count": 416,
   "outputs": [],
   "source": [
    "#rename the 'title' column of frame before merging with 'movies_other'\n",
    "frame_new = frame_new.rename(columns = {'title': 'Name'}, inplace = False)\n",
    "#merge 'frame' to 'movies_other' to make the final data\n",
    "# First, since you didn't runt the cell to make merged file with topstar, bring it from cvs file\n",
    "#Uncomment following:\n",
    "movies_other_top_star = pd.read_csv(folder/'merged with topstar.csv')\n",
    "df = pd.merge(movies_other_top_star, frame_new, on='Name')\n",
    "df.head()\n",
    "df.columns\n",
    "# save the final merged data\n",
    "df.to_csv(folder/r'final merged data.csv', index=False)"
   ],
   "metadata": {
    "collapsed": false,
    "pycharm": {
     "name": "#%%\n"
    }
   }
  },
  {
   "cell_type": "markdown",
   "source": [
    "## Exploratory analysis\n",
    "\n",
    "*with figures and summary statistics*\n"
   ],
   "metadata": {
    "collapsed": false,
    "pycharm": {
     "name": "#%% md\n"
    }
   }
  },
  {
   "cell_type": "markdown",
   "source": [
    "Director's Immigration Status"
   ],
   "metadata": {
    "collapsed": false
   }
  },
  {
   "cell_type": "code",
   "execution_count": 419,
   "outputs": [
    {
     "data": {
      "text/plain": "<Figure size 360x216 with 1 Axes>",
      "image/png": "[encoded data removed]"
     },
     "metadata": {},
     "output_type": "display_data"
    },
    {
     "data": {
      "text/plain": "director_imm\nForeign-born     778\nNative-born     1968\nName: director_imm, dtype: int64"
     },
     "execution_count": 419,
     "metadata": {},
     "output_type": "execute_result"
    }
   ],
   "source": [
    "a= df[\"director_imm\"].groupby(df[\"director_imm\"]).count()\n",
    "a.plot(kind='bar')\n",
    "pplt.title(\"Director's Immigration Status\")\n",
    "pplt.show()\n",
    "a"
   ],
   "metadata": {
    "collapsed": false,
    "pycharm": {
     "name": "#%%\n"
    }
   }
  },
  {
   "cell_type": "markdown",
   "source": [
    "Director's Gender"
   ],
   "metadata": {
    "collapsed": false
   }
  },
  {
   "cell_type": "code",
   "execution_count": 420,
   "outputs": [
    {
     "data": {
      "text/plain": "<Figure size 360x216 with 1 Axes>",
      "image/png": "[encoded data removed]"
     },
     "metadata": {},
     "output_type": "display_data"
    },
    {
     "data": {
      "text/plain": "director_gender\nFemale     101\nMale      1544\nName: director_gender, dtype: int64"
     },
     "execution_count": 420,
     "metadata": {},
     "output_type": "execute_result"
    }
   ],
   "source": [
    "a= df[\"director_gender\"].groupby(df[\"director_gender\"]).count()\n",
    "a.plot(kind='bar')\n",
    "pplt.title(\"Director's Gender\")\n",
    "pplt.show()\n",
    "a"
   ],
   "metadata": {
    "collapsed": false,
    "pycharm": {
     "name": "#%%\n"
    }
   }
  },
  {
   "cell_type": "markdown",
   "source": [
    "Year"
   ],
   "metadata": {
    "collapsed": false
   }
  },
  {
   "cell_type": "code",
   "execution_count": null,
   "outputs": [],
   "source": [
    "a= df[\"us.year\"].groupby(df[\"us.year\"]).count()\n",
    "a.plot(kind='bar')\n",
    "pplt.title(\"Year\")\n",
    "pplt.show()\n",
    "a"
   ],
   "metadata": {
    "collapsed": false,
    "pycharm": {
     "name": "#%%\n"
    }
   }
  },
  {
   "cell_type": "markdown",
   "source": [
    "Genre"
   ],
   "metadata": {
    "collapsed": false
   }
  },
  {
   "cell_type": "code",
   "execution_count": null,
   "outputs": [],
   "source": [
    "a= df[\"Genre\"].groupby(df[\"Genre\"]).count()\n",
    "a.plot(kind='bar')\n",
    "pplt.title(\"Genre\")\n",
    "pplt.show()\n",
    "a"
   ],
   "metadata": {
    "collapsed": false,
    "pycharm": {
     "name": "#%%\n"
    }
   }
  },
  {
   "cell_type": "markdown",
   "source": [
    "Distributor"
   ],
   "metadata": {
    "collapsed": false
   }
  },
  {
   "cell_type": "code",
   "execution_count": 421,
   "outputs": [
    {
     "data": {
      "text/plain": "Distributor\n20th Century Fox             258\n518 Media                      1\nATO Pictures                   1\nAcademy Pictures               1\nAfter Dark Films               4\n                            ... \nWorld Artists Inc.             1\nYari Film Group                3\nYari Film Group Releasing      4\nZecca Corporation              1\nint´l Home Cinema              1\nName: Distributor, Length: 303, dtype: int64"
     },
     "execution_count": 421,
     "metadata": {},
     "output_type": "execute_result"
    }
   ],
   "source": [
    "df[\"Distributor\"].groupby(df[\"Distributor\"]).count()"
   ],
   "metadata": {
    "collapsed": false,
    "pycharm": {
     "name": "#%%\n"
    }
   }
  },
  {
   "cell_type": "markdown",
   "source": [
    "Top Star(Whether the movie is acted by topstars)"
   ],
   "metadata": {
    "collapsed": false
   }
  },
  {
   "cell_type": "code",
   "execution_count": 422,
   "outputs": [
    {
     "data": {
      "text/plain": "<Figure size 360x216 with 1 Axes>",
      "image/png": "[encoded data removed]"
     },
     "metadata": {},
     "output_type": "display_data"
    },
    {
     "data": {
      "text/plain": "topstar\n0    1148\n1    2484\nName: topstar, dtype: int64"
     },
     "execution_count": 422,
     "metadata": {},
     "output_type": "execute_result"
    }
   ],
   "source": [
    "a= df[\"topstar\"].groupby(df[\"topstar\"]).count()\n",
    "a.plot(kind='bar')\n",
    "pplt.title(\"topstar\")\n",
    "pplt.show()\n",
    "a"
   ],
   "metadata": {
    "collapsed": false,
    "pycharm": {
     "name": "#%%\n"
    }
   }
  },
  {
   "cell_type": "code",
   "execution_count": 43,
   "id": "7f261e30",
   "metadata": {},
   "outputs": [
    {
     "name": "stdout",
     "output_type": "stream",
     "text": [
      "NULL\n"
     ]
    }
   ],
   "source": [
    "%%R\n",
    "\n",
    "\n",
    "# -i df -w 5 -h 5 --units in -r 200\n",
    "# import df from global environment\n",
    "# make default figure size 5 by 5 inches with 200 dpi resolution"
   ]
  },
  {
   "cell_type": "markdown",
   "source": [
    "# Regression analysis\n"
   ],
   "metadata": {
    "collapsed": false,
    "pycharm": {
     "name": "#%% md\n"
    }
   }
  },
  {
   "cell_type": "code",
   "execution_count": 439,
   "outputs": [
    {
     "name": "stdout",
     "output_type": "stream",
     "text": [
      "            Name       Dirct1         Prodc1          Distributor\n",
      "1   Back to Back John Kincade    Brad Krevoy Concorde Productions\n",
      "2 Crash and Burn Charles Band David DeCoteau                     \n",
      "3     Love Hurts   Bud Yorkin     Bud Yorkin                     \n",
      "  Cinematographer1       Actor1        Actor2           Actor3       Actor4\n",
      "1   James L Carter  Bill Paxton    Todd Field Apollonia Kotero  Ben Johnson\n",
      "2      Mac Ahlberg  Ralph Waite  Paul E Ganus       Megan Ward Bill Moseley\n",
      "3   Adam Greenberg Jeff Daniels Cynthia Sykes      Judith Ivey John Mahoney\n",
      "           Actor5  Genre us.year us.quarter domestic_bo budget_nielsen\n",
      "1      Luke Askew  Drama    1990         NA          NA             NA\n",
      "2      Jack McGee Sci-Fi    1990         NA          NA        2500000\n",
      "3 Cloris Leachman Comedy    1990         NA          NA             NA\n",
      "  budget_numbers director_imm director_continent director_country\n",
      "1             NA                                                 \n",
      "2             NA  Native-born North America (US)               US\n",
      "3             NA                                                 \n",
      "  director_gender director_race international_bo topstar Release_year\n",
      "1                                             NA       1         1996\n",
      "2                                             NA       0         1990\n",
      "3                                             NA       1         1991\n",
      "  cluster_tfidf_first cluster_tfidf_second cluster_lda_major_first\n",
      "1                  20                    2                      21\n",
      "2                   3                   14                      12\n",
      "3                   8                    8                      10\n",
      "  cluster_lda_major_second\n",
      "1                       10\n",
      "2                       17\n",
      "3                       12\n"
     ]
    }
   ],
   "source": [
    "%%R\n",
    "# load the data in R\n",
    "df = read.csv(file = 'final merged data.csv');\n",
    "head(df)[1:3, ];"
   ],
   "metadata": {
    "collapsed": false,
    "pycharm": {
     "name": "#%%\n"
    }
   }
  },
  {
   "cell_type": "markdown",
   "source": [
    "### Domestic box office as dependent variable"
   ],
   "metadata": {
    "collapsed": false,
    "pycharm": {
     "name": "#%% md\n"
    }
   }
  },
  {
   "cell_type": "code",
   "execution_count": 472,
   "outputs": [
    {
     "name": "stderr",
     "output_type": "stream",
     "text": [
      "R[write to console]: NOTE: 517 observations removed because of NA values (LHS: 417, RHS: 398, Fixed-effects: 0).\n",
      "\n",
      "R[write to console]: Warning:\n",
      "R[write to console]:  In print.fixest(object, useS4 = FALSE):\n",
      " 'useS4' is not a valid argument of function print.fixest (fyi, some of\n",
      "its main arguments are 'n', 'type', 'se' and 'cluster').\n",
      "\n"
     ]
    },
    {
     "name": "stdout",
     "output_type": "stream",
     "text": [
      "OLS estimation, Dep. Var.: log(domestic_bo + sqrt(1 + domestic_bo^2))\n",
      "Observations: 3,115 \n",
      "Fixed-effects: us.year: 21,  Genre: 21,  Distributor: 169\n",
      "Standard-errors: Clustered (us.year) \n",
      "                         Estimate Std. Error t value   Pr(>|t|)    \n",
      "director_immForeign-born 0.126394   0.104148  1.2136 2.3904e-01    \n",
      "director_immNative-born  0.358287   0.065917  5.4355 2.5000e-05 ***\n",
      "director_genderFemale    0.406712   0.129297  3.1456 5.0900e-03 ** \n",
      "director_genderMale      0.155226   0.055277  2.8081 1.0860e-02 *  \n",
      "log(1 + budget_nielsen)  0.833263   0.047886 17.4010 1.5100e-13 ***\n",
      "---\n",
      "Signif. codes:  0 '***' 0.001 '**' 0.01 '*' 0.05 '.' 0.1 ' ' 1\n",
      "Log-likelihood: -5,228.29   Adj. R2: 0.5988 \n",
      "                          R2-Within: 0.24804 \n"
     ]
    }
   ],
   "source": [
    "%%R\n",
    "fit1 = feols(log(domestic_bo + sqrt(1+domestic_bo^2)) ~\n",
    "                                                      director_imm + director_gender + log(1+budget_nielsen) |\n",
    "                                                      us.year + Genre + Distributor,\n",
    "                                                         data = df)\n",
    "summary(fit1);\n",
    "\n",
    "# fit2 = feols(log(international_bo + sqrt(1+international_bo^2)) ~ director_imm + log(1+budget_numbers) | us.year + Genre + Distributor, movies_other)\n",
    "# summary(fit2)"
   ],
   "metadata": {
    "collapsed": false,
    "pycharm": {
     "name": "#%%\n"
    }
   }
  },
  {
   "cell_type": "code",
   "execution_count": 479,
   "outputs": [
    {
     "name": "stderr",
     "output_type": "stream",
     "text": [
      "R[write to console]: NOTE: 517 observations removed because of NA values (LHS: 417, RHS: 398, Fixed-effects: 0).\n",
      "\n"
     ]
    },
    {
     "name": "stdout",
     "output_type": "stream",
     "text": [
      "\n",
      "t test of coefficients:\n",
      "\n",
      "                          Estimate Std. Error t value  Pr(>|t|)    \n",
      "(Intercept)              -0.176540   0.053190 -3.3191 0.0009136 ***\n",
      "director_immForeign-born  0.064712   0.072579  0.8916 0.3726783    \n",
      "director_immNative-born   0.284690   0.061220  4.6502 3.454e-06 ***\n",
      "---\n",
      "Signif. codes:  0 ‘***’ 0.001 ‘**’ 0.01 ‘*’ 0.05 ‘.’ 0.1 ‘ ’ 1\n",
      "\n"
     ]
    }
   ],
   "source": [
    "%%R\n",
    "fit11st = feols(log(domestic_bo + sqrt(1+domestic_bo^2)) ~\n",
    "                                                         log(1+budget_nielsen) + director_gender |\n",
    "                                                         us.year + Genre + Distributor,\n",
    "                                                         data = df)\n",
    "summary(fit11st)\n",
    "\n",
    "fit11 = lm(resid(fit11st) ~ director_imm, df)\n",
    "summary(fit11)\n",
    "colnames(df)\n",
    "fit11cl = coeftest(fit11, vcov. = vcovCL, cluster = df$cluster_tdidf_first, data = df)\n",
    "fit11cl\n"
   ],
   "metadata": {
    "collapsed": false,
    "pycharm": {
     "name": "#%%\n"
    }
   }
  },
  {
   "cell_type": "markdown",
   "source": [
    "#### Test within clusters"
   ],
   "metadata": {
    "collapsed": false
   }
  },
  {
   "cell_type": "code",
   "execution_count": 480,
   "outputs": [
    {
     "name": "stdout",
     "output_type": "stream",
     "text": [
      "\n",
      "t test of coefficients:\n",
      "\n",
      "                          Estimate Std. Error t value  Pr(>|t|)    \n",
      "(Intercept)              -0.176540   0.053190 -3.3191 0.0009136 ***\n",
      "director_immForeign-born  0.064712   0.072579  0.8916 0.3726783    \n",
      "director_immNative-born   0.284690   0.061220  4.6502 3.454e-06 ***\n",
      "---\n",
      "Signif. codes:  0 ‘***’ 0.001 ‘**’ 0.01 ‘*’ 0.05 ‘.’ 0.1 ‘ ’ 1\n",
      "\n"
     ]
    }
   ],
   "source": [
    "%%R\n",
    "fit11cl = coeftest(fit11, vcov. = vcovCL, cluster = df$cluster_tdidf_second, data = df)\n",
    "fit11cl"
   ],
   "metadata": {
    "collapsed": false,
    "pycharm": {
     "name": "#%%\n"
    }
   }
  },
  {
   "cell_type": "code",
   "execution_count": 481,
   "outputs": [
    {
     "name": "stdout",
     "output_type": "stream",
     "text": [
      "\n",
      "t test of coefficients:\n",
      "\n",
      "                          Estimate Std. Error t value  Pr(>|t|)    \n",
      "(Intercept)              -0.176540   0.053190 -3.3191 0.0009136 ***\n",
      "director_immForeign-born  0.064712   0.072579  0.8916 0.3726783    \n",
      "director_immNative-born   0.284690   0.061220  4.6502 3.454e-06 ***\n",
      "---\n",
      "Signif. codes:  0 ‘***’ 0.001 ‘**’ 0.01 ‘*’ 0.05 ‘.’ 0.1 ‘ ’ 1\n",
      "\n"
     ]
    }
   ],
   "source": [
    "%%R\n",
    "fit11cl = coeftest(fit11, vcov. = vcovCL, cluster = df$cluster_tdidf_second, data = df)\n",
    "fit11cl"
   ],
   "metadata": {
    "collapsed": false,
    "pycharm": {
     "name": "#%%\n"
    }
   }
  },
  {
   "cell_type": "code",
   "execution_count": 482,
   "outputs": [
    {
     "name": "stdout",
     "output_type": "stream",
     "text": [
      "\n",
      "t test of coefficients:\n",
      "\n",
      "                          Estimate Std. Error t value  Pr(>|t|)    \n",
      "(Intercept)              -0.176540   0.057586 -3.0657   0.00219 ** \n",
      "director_immForeign-born  0.064712   0.066556  0.9723   0.33098    \n",
      "director_immNative-born   0.284690   0.055574  5.1227 3.195e-07 ***\n",
      "---\n",
      "Signif. codes:  0 ‘***’ 0.001 ‘**’ 0.01 ‘*’ 0.05 ‘.’ 0.1 ‘ ’ 1\n",
      "\n"
     ]
    }
   ],
   "source": [
    "%%R\n",
    "fit11cl = coeftest(fit11, vcov. = vcovCL, cluster = df$cluster_lda_major_first, data = df)\n",
    "fit11cl"
   ],
   "metadata": {
    "collapsed": false,
    "pycharm": {
     "name": "#%%\n"
    }
   }
  },
  {
   "cell_type": "code",
   "execution_count": 483,
   "outputs": [
    {
     "name": "stdout",
     "output_type": "stream",
     "text": [
      "\n",
      "t test of coefficients:\n",
      "\n",
      "                          Estimate Std. Error t value  Pr(>|t|)    \n",
      "(Intercept)              -0.176540   0.089909 -1.9636   0.04967 *  \n",
      "director_immForeign-born  0.064712   0.064868  0.9976   0.31856    \n",
      "director_immNative-born   0.284690   0.069355  4.1048 4.151e-05 ***\n",
      "---\n",
      "Signif. codes:  0 ‘***’ 0.001 ‘**’ 0.01 ‘*’ 0.05 ‘.’ 0.1 ‘ ’ 1\n",
      "\n"
     ]
    }
   ],
   "source": [
    "%%R\n",
    "fit11cl = coeftest(fit11, vcov. = vcovCL, cluster = df$cluster_lda_major_second, data = df)\n",
    "fit11cl\n"
   ],
   "metadata": {
    "collapsed": false,
    "pycharm": {
     "name": "#%%\n"
    }
   }
  },
  {
   "cell_type": "markdown",
   "source": [
    "### International box office as dependent variable"
   ],
   "metadata": {
    "collapsed": false
   }
  },
  {
   "cell_type": "code",
   "execution_count": 484,
   "outputs": [
    {
     "name": "stderr",
     "output_type": "stream",
     "text": [
      "R[write to console]: NOTE: 2,223 observations removed because of NA values (LHS: 2,025, RHS: 1,992, Fixed-effects: 0).\n",
      "\n",
      "R[write to console]: Warning:\n",
      "R[write to console]:  In print.fixest(object, useS4 = FALSE):\n",
      " 'useS4' is not a valid argument of function print.fixest (fyi, some of\n",
      "its main arguments are 'n', 'type', 'se' and 'cluster').\n",
      "\n"
     ]
    },
    {
     "name": "stdout",
     "output_type": "stream",
     "text": [
      "OLS estimation, Dep. Var.: log(international_bo + sqrt(1 + international_bo^2))\n",
      "Observations: 1,409 \n",
      "Fixed-effects: us.year: 21,  Genre: 21,  Distributor: 55\n",
      "Standard-errors: Clustered (us.year) \n",
      "                         Estimate Std. Error t value   Pr(>|t|)    \n",
      "director_immForeign-born 0.803828   0.182232  4.4110 2.6900e-04 ***\n",
      "director_immNative-born  0.572166   0.160783  3.5586 1.9690e-03 ** \n",
      "director_genderFemale    0.608938   0.289916  2.1004 4.8579e-02 *  \n",
      "director_genderMale      0.360737   0.114756  3.1435 5.1140e-03 ** \n",
      "log(1 + budget_numbers)  1.077700   0.082298 13.0950 2.8600e-11 ***\n",
      "---\n",
      "Signif. codes:  0 '***' 0.001 '**' 0.01 '*' 0.05 '.' 0.1 ' ' 1\n",
      "Log-likelihood: -2,647.47   Adj. R2: 0.45075 \n",
      "                          R2-Within: 0.25894 \n"
     ]
    }
   ],
   "source": [
    "%%R\n",
    "fit2 = feols(log(international_bo + sqrt(1+international_bo^2)) ~\n",
    "                                                      director_imm + director_gender + log(1+budget_numbers) |\n",
    "                                                      us.year + Genre + Distributor,\n",
    "                                                      data = df)\n",
    "summary(fit2);"
   ],
   "metadata": {
    "collapsed": false,
    "pycharm": {
     "name": "#%%\n"
    }
   }
  },
  {
   "cell_type": "markdown",
   "source": [
    "#### Test within clusters"
   ],
   "metadata": {
    "collapsed": false,
    "pycharm": {
     "name": "#%% md\n"
    }
   }
  },
  {
   "cell_type": "code",
   "execution_count": 491,
   "outputs": [
    {
     "name": "stderr",
     "output_type": "stream",
     "text": [
      "R[write to console]: NOTE: 2,223 observations removed because of NA values (LHS: 2,025, RHS: 1,992, Fixed-effects: 0).\n",
      "\n"
     ]
    },
    {
     "name": "stdout",
     "output_type": "stream",
     "text": [
      "\n",
      "t test of coefficients:\n",
      "\n",
      "                         Estimate Std. Error t value  Pr(>|t|)    \n",
      "(Intercept)              -0.43782    0.16772 -2.6105 0.0091384 ** \n",
      "director_immForeign-born  0.62112    0.18112  3.4293 0.0006225 ***\n",
      "director_immNative-born   0.43820    0.14393  3.0445 0.0023741 ** \n",
      "---\n",
      "Signif. codes:  0 ‘***’ 0.001 ‘**’ 0.01 ‘*’ 0.05 ‘.’ 0.1 ‘ ’ 1\n",
      "\n"
     ]
    }
   ],
   "source": [
    "%%R\n",
    "fit21st = feols(log(international_bo + sqrt(1+international_bo^2)) ~ director_gender + log(1+budget_numbers)|\n",
    "                                                                   us.year + Genre + Distributor, df)\n",
    "summary(fit21st)\n",
    "fit22 = lm(resid(fit21st) ~ director_imm, df)\n",
    "fit22cl = coeftest(fit22, vcov. = vcovCL, cluster = df$cluster_tfidf_first)\n",
    "fit22cl"
   ],
   "metadata": {
    "collapsed": false,
    "pycharm": {
     "name": "#%%\n"
    }
   }
  },
  {
   "cell_type": "code",
   "execution_count": 492,
   "outputs": [
    {
     "name": "stdout",
     "output_type": "stream",
     "text": [
      "\n",
      "t test of coefficients:\n",
      "\n",
      "                         Estimate Std. Error t value  Pr(>|t|)    \n",
      "(Intercept)              -0.43782    0.15572 -2.8117 0.0049969 ** \n",
      "director_immForeign-born  0.62112    0.16476  3.7699 0.0001701 ***\n",
      "director_immNative-born   0.43820    0.11522  3.8031 0.0001490 ***\n",
      "---\n",
      "Signif. codes:  0 ‘***’ 0.001 ‘**’ 0.01 ‘*’ 0.05 ‘.’ 0.1 ‘ ’ 1\n",
      "\n"
     ]
    }
   ],
   "source": [
    "%%R\n",
    "fit22cl = coeftest(fit22, vcov. = vcovCL, cluster = df$cluster_tfidf_second)\n",
    "fit22cl"
   ],
   "metadata": {
    "collapsed": false,
    "pycharm": {
     "name": "#%%\n"
    }
   }
  },
  {
   "cell_type": "code",
   "execution_count": 493,
   "outputs": [
    {
     "name": "stdout",
     "output_type": "stream",
     "text": [
      "\n",
      "t test of coefficients:\n",
      "\n",
      "                          Estimate Std. Error t value  Pr(>|t|)    \n",
      "(Intercept)              -0.437824   0.117686 -3.7203 0.0002069 ***\n",
      "director_immForeign-born  0.621122   0.083518  7.4370 1.784e-13 ***\n",
      "director_immNative-born   0.438203   0.094589  4.6327 3.943e-06 ***\n",
      "---\n",
      "Signif. codes:  0 ‘***’ 0.001 ‘**’ 0.01 ‘*’ 0.05 ‘.’ 0.1 ‘ ’ 1\n",
      "\n"
     ]
    }
   ],
   "source": [
    "%%R\n",
    "fit22cl = coeftest(fit22, vcov. = vcovCL, cluster = df$cluster_lda_major_first)\n",
    "fit22cl"
   ],
   "metadata": {
    "collapsed": false,
    "pycharm": {
     "name": "#%%\n"
    }
   }
  },
  {
   "cell_type": "code",
   "execution_count": 494,
   "outputs": [
    {
     "name": "stdout",
     "output_type": "stream",
     "text": [
      "\n",
      "t test of coefficients:\n",
      "\n",
      "                          Estimate Std. Error t value  Pr(>|t|)    \n",
      "(Intercept)              -0.437824   0.111749 -3.9179 9.361e-05 ***\n",
      "director_immForeign-born  0.621122   0.081309  7.6390 4.026e-14 ***\n",
      "director_immNative-born   0.438203   0.126083  3.4755 0.0005254 ***\n",
      "---\n",
      "Signif. codes:  0 ‘***’ 0.001 ‘**’ 0.01 ‘*’ 0.05 ‘.’ 0.1 ‘ ’ 1\n",
      "\n"
     ]
    }
   ],
   "source": [
    "%%R\n",
    "fit22cl = coeftest(fit22, vcov. = vcovCL, cluster = df$cluster_lda_major_second)\n",
    "fit22cl\n"
   ],
   "metadata": {
    "collapsed": false,
    "pycharm": {
     "name": "#%%\n"
    }
   }
  },
  {
   "cell_type": "markdown",
   "source": [
    "# References\n",
    "We report here relevant references:\n",
    "1. author1, article1, journal1, year1, url1\n",
    "2. author2, article2, journal2, year2, url2\n",
    "3. NLTK: @book{bird2009natural,\n",
    "  title={Natural language processing with Python: analyzing text with the natural language toolkit},\n",
    "  author={Bird, Steven and Klein, Ewan and Loper, Edward},\n",
    "  year={2009},\n",
    "  publisher={\" O'Reilly Media, Inc.\"}\n",
    "}\n"
   ],
   "metadata": {
    "collapsed": false
   }
  },
  {
   "cell_type": "markdown",
   "source": [
    "# Appendix"
   ],
   "metadata": {
    "collapsed": false,
    "pycharm": {
     "name": "#%% md\n"
    }
   }
  },
  {
   "cell_type": "markdown",
   "source": [
    "example showing how the preprocessing works"
   ],
   "metadata": {
    "collapsed": false
   }
  },
  {
   "cell_type": "code",
   "execution_count": 30,
   "outputs": [
    {
     "name": "stdout",
     "output_type": "stream",
     "text": [
      "At the Central Park Zoo, Marty the zebra is celebrating his tenth birthday, but has grown bored with his daily routine and longs to experience the wild. Marty's best friend is Alex the lion, who enjoys showing off for the public and his celebrity status as \"the King of New York City\". Alex attempts to cheer Marty up, but Marty, still unsatisfied, gets some tips from the zoo's penguins—Skipper, Kowalski, Rico, and Private—who are trying to escape the zoo, and follows them out. Alex, Melman the giraffe, and Gloria the hippopotamus pursue Marty in an attempt to convince him to return. The four, along with the penguins and two chimpanzees named Mason and Phil, find themselves at Grand Central Station, where they are quickly sedated via tranquillizer gun when Alex's attempt to communicate with humans is mistaken for aggression. The zoo, under pressure from anti-captivity activists, is forced to ship the escaped animals by sea to a Kenyan wildlife preserve. During their travels, the penguins escape from their enclosure and take over the ship, intent on taking it to Antarctica. Their antics on the bridge cause the crates containing Alex, Marty, Melman, and Gloria to fall overboard and wash ashore on Madagascar, because the strap securing the crates broke off due to Alex and Marty fighting.\r\n",
      "The animals are soon able to regroup, initially believing themselves to be at the San Diego Zoo. Upon exploring, however, they come across a pack of lemurs, led by King Julien XIII the ring-tailed lemur, and learn their true location. Alex blames Marty for their predicament and attempts to signal for help to get back to civilization. Marty, on the other hand, finds the wild to be exactly what he was looking for, with Gloria and Melman soon joining him in enjoying the island. Alex eventually comes around, but, deprived from the raw steaks he was provided with at the zoo, his prey drive begins to show as hunger kicks in. The group is accepted by the lemurs, though King Julien's adviser, Maurice the aye-aye, cautions them about Alex's predatory nature. King Julien ignores Maurice's concerns and persuades the group to help the lemurs fend off the fossa, who hunt the lemurs as prey. While Alex initially scares the fossa away and is worshiped by the lemurs, later, compelled by hunger, he attacks Marty. Realizing that Alex is now a threat, King Julien banishes him to the far side of the island where the fossa live. Seeing what has happened to Alex, and how difficult it is to survive with so many predators around the island, Marty begins to regret his decision to leave the zoo.\r\n",
      "The penguins, having been to Antarctica and found that it wasn't what they had in mind, land the ship at Madagascar. Seeing this as a chance to return Alex to New York, Marty rushes after his friend against the wishes of Melman and Gloria. Marty attempts to convince the now grizzled, starving Alex to return, but Alex refuses out of fear of attacking Marty again. The penguins, Gloria, and Melman go to find Marty, but are trapped by the fossa. At the last minute, Alex overcomes his predatory instincts and scares the fossa away from the lemur territory forever. The lemurs regain their respect for Alex, and the penguins help him satisfy his hunger through sushi. As the lemurs throw a farewell celebration for the foursome, the penguins decide not to break the news that the ship has run out of fuel.\n",
      "original document: \n",
      "['At', 'the', 'Central', 'Park', 'Zoo,', 'Marty', 'the', 'zebra', 'is', 'celebrating', 'his', 'tenth', 'birthday,', 'but', 'has', 'grown', 'bored', 'with', 'his', 'daily', 'routine', 'and', 'longs', 'to', 'experience', 'the', 'wild.', \"Marty's\", 'best', 'friend', 'is', 'Alex', 'the', 'lion,', 'who', 'enjoys', 'showing', 'off', 'for', 'the', 'public', 'and', 'his', 'celebrity', 'status', 'as', '\"the', 'King', 'of', 'New', 'York', 'City\".', 'Alex', 'attempts', 'to', 'cheer', 'Marty', 'up,', 'but', 'Marty,', 'still', 'unsatisfied,', 'gets', 'some', 'tips', 'from', 'the', \"zoo's\", 'penguins—Skipper,', 'Kowalski,', 'Rico,', 'and', 'Private—who', 'are', 'trying', 'to', 'escape', 'the', 'zoo,', 'and', 'follows', 'them', 'out.', 'Alex,', 'Melman', 'the', 'giraffe,', 'and', 'Gloria', 'the', 'hippopotamus', 'pursue', 'Marty', 'in', 'an', 'attempt', 'to', 'convince', 'him', 'to', 'return.', 'The', 'four,', 'along', 'with', 'the', 'penguins', 'and', 'two', 'chimpanzees', 'named', 'Mason', 'and', 'Phil,', 'find', 'themselves', 'at', 'Grand', 'Central', 'Station,', 'where', 'they', 'are', 'quickly', 'sedated', 'via', 'tranquillizer', 'gun', 'when', \"Alex's\", 'attempt', 'to', 'communicate', 'with', 'humans', 'is', 'mistaken', 'for', 'aggression.', 'The', 'zoo,', 'under', 'pressure', 'from', 'anti-captivity', 'activists,', 'is', 'forced', 'to', 'ship', 'the', 'escaped', 'animals', 'by', 'sea', 'to', 'a', 'Kenyan', 'wildlife', 'preserve.', 'During', 'their', 'travels,', 'the', 'penguins', 'escape', 'from', 'their', 'enclosure', 'and', 'take', 'over', 'the', 'ship,', 'intent', 'on', 'taking', 'it', 'to', 'Antarctica.', 'Their', 'antics', 'on', 'the', 'bridge', 'cause', 'the', 'crates', 'containing', 'Alex,', 'Marty,', 'Melman,', 'and', 'Gloria', 'to', 'fall', 'overboard', 'and', 'wash', 'ashore', 'on', 'Madagascar,', 'because', 'the', 'strap', 'securing', 'the', 'crates', 'broke', 'off', 'due', 'to', 'Alex', 'and', 'Marty', 'fighting.\\r\\nThe', 'animals', 'are', 'soon', 'able', 'to', 'regroup,', 'initially', 'believing', 'themselves', 'to', 'be', 'at', 'the', 'San', 'Diego', 'Zoo.', 'Upon', 'exploring,', 'however,', 'they', 'come', 'across', 'a', 'pack', 'of', 'lemurs,', 'led', 'by', 'King', 'Julien', 'XIII', 'the', 'ring-tailed', 'lemur,', 'and', 'learn', 'their', 'true', 'location.', 'Alex', 'blames', 'Marty', 'for', 'their', 'predicament', 'and', 'attempts', 'to', 'signal', 'for', 'help', 'to', 'get', 'back', 'to', 'civilization.', 'Marty,', 'on', 'the', 'other', 'hand,', 'finds', 'the', 'wild', 'to', 'be', 'exactly', 'what', 'he', 'was', 'looking', 'for,', 'with', 'Gloria', 'and', 'Melman', 'soon', 'joining', 'him', 'in', 'enjoying', 'the', 'island.', 'Alex', 'eventually', 'comes', 'around,', 'but,', 'deprived', 'from', 'the', 'raw', 'steaks', 'he', 'was', 'provided', 'with', 'at', 'the', 'zoo,', 'his', 'prey', 'drive', 'begins', 'to', 'show', 'as', 'hunger', 'kicks', 'in.', 'The', 'group', 'is', 'accepted', 'by', 'the', 'lemurs,', 'though', 'King', \"Julien's\", 'adviser,', 'Maurice', 'the', 'aye-aye,', 'cautions', 'them', 'about', \"Alex's\", 'predatory', 'nature.', 'King', 'Julien', 'ignores', \"Maurice's\", 'concerns', 'and', 'persuades', 'the', 'group', 'to', 'help', 'the', 'lemurs', 'fend', 'off', 'the', 'fossa,', 'who', 'hunt', 'the', 'lemurs', 'as', 'prey.', 'While', 'Alex', 'initially', 'scares', 'the', 'fossa', 'away', 'and', 'is', 'worshiped', 'by', 'the', 'lemurs,', 'later,', 'compelled', 'by', 'hunger,', 'he', 'attacks', 'Marty.', 'Realizing', 'that', 'Alex', 'is', 'now', 'a', 'threat,', 'King', 'Julien', 'banishes', 'him', 'to', 'the', 'far', 'side', 'of', 'the', 'island', 'where', 'the', 'fossa', 'live.', 'Seeing', 'what', 'has', 'happened', 'to', 'Alex,', 'and', 'how', 'difficult', 'it', 'is', 'to', 'survive', 'with', 'so', 'many', 'predators', 'around', 'the', 'island,', 'Marty', 'begins', 'to', 'regret', 'his', 'decision', 'to', 'leave', 'the', 'zoo.\\r\\nThe', 'penguins,', 'having', 'been', 'to', 'Antarctica', 'and', 'found', 'that', 'it', \"wasn't\", 'what', 'they', 'had', 'in', 'mind,', 'land', 'the', 'ship', 'at', 'Madagascar.', 'Seeing', 'this', 'as', 'a', 'chance', 'to', 'return', 'Alex', 'to', 'New', 'York,', 'Marty', 'rushes', 'after', 'his', 'friend', 'against', 'the', 'wishes', 'of', 'Melman', 'and', 'Gloria.', 'Marty', 'attempts', 'to', 'convince', 'the', 'now', 'grizzled,', 'starving', 'Alex', 'to', 'return,', 'but', 'Alex', 'refuses', 'out', 'of', 'fear', 'of', 'attacking', 'Marty', 'again.', 'The', 'penguins,', 'Gloria,', 'and', 'Melman', 'go', 'to', 'find', 'Marty,', 'but', 'are', 'trapped', 'by', 'the', 'fossa.', 'At', 'the', 'last', 'minute,', 'Alex', 'overcomes', 'his', 'predatory', 'instincts', 'and', 'scares', 'the', 'fossa', 'away', 'from', 'the', 'lemur', 'territory', 'forever.', 'The', 'lemurs', 'regain', 'their', 'respect', 'for', 'Alex,', 'and', 'the', 'penguins', 'help', 'him', 'satisfy', 'his', 'hunger', 'through', 'sushi.', 'As', 'the', 'lemurs', 'throw', 'a', 'farewell', 'celebration', 'for', 'the', 'foursome,', 'the', 'penguins', 'decide', 'not', 'to', 'break', 'the', 'news', 'that', 'the', 'ship', 'has', 'run', 'out', 'of', 'fuel.']\n",
      "\n",
      "\n",
      " tokenized and lemmatized document: \n",
      "['central', 'park', 'marti', 'zebra', 'celebr', 'tenth', 'birthday', 'grow', 'bore', 'daili', 'routin', 'long', 'experi', 'wild', 'marti', 'best', 'friend', 'alex', 'lion', 'enjoy', 'show', 'public', 'celebr', 'status', 'king', 'york', 'citi', 'alex', 'attempt', 'cheer', 'marti', 'marti', 'unsatisfi', 'get', 'tip', 'penguin', 'skipper', 'kowalski', 'rico', 'privat', 'tri', 'escap', 'follow', 'alex', 'melman', 'giraff', 'gloria', 'hippopotamus', 'pursu', 'marti', 'attempt', 'convinc', 'return', 'penguin', 'chimpanze', 'name', 'mason', 'phil', 'grand', 'central', 'station', 'quick', 'sedat', 'tranquil', 'alex', 'attempt', 'communic', 'human', 'mistak', 'aggress', 'pressur', 'anti', 'captiv', 'activist', 'forc', 'ship', 'escap', 'anim', 'kenyan', 'wildlif', 'preserv', 'travel', 'penguin', 'escap', 'enclosur', 'ship', 'intent', 'take', 'antarctica', 'antic', 'bridg', 'caus', 'crate', 'contain', 'alex', 'marti', 'melman', 'gloria', 'fall', 'overboard', 'wash', 'ashor', 'madagascar', 'strap', 'secur', 'crate', 'break', 'alex', 'marti', 'fight', 'anim', 'soon', 'abl', 'regroup', 'initi', 'believ', 'diego', 'explor', 'come', 'pack', 'lemur', 'king', 'julien', 'xiii', 'ring', 'tail', 'lemur', 'learn', 'true', 'locat', 'alex', 'blame', 'marti', 'predica', 'attempt', 'signal', 'help', 'civil', 'marti', 'hand', 'find', 'wild', 'exact', 'look', 'gloria', 'melman', 'soon', 'join', 'enjoy', 'island', 'alex', 'eventu', 'come', 'depriv', 'steak', 'provid', 'prey', 'drive', 'begin', 'hunger', 'kick', 'group', 'accept', 'lemur', 'king', 'julien', 'advis', 'mauric', 'caution', 'alex', 'predatori', 'natur', 'king', 'julien', 'ignor', 'mauric', 'concern', 'persuad', 'group', 'help', 'lemur', 'fend', 'fossa', 'hunt', 'lemur', 'prey', 'alex', 'initi', 'scar', 'fossa', 'away', 'worship', 'lemur', 'later', 'compel', 'hunger', 'attack', 'marti', 'realiz', 'alex', 'threat', 'king', 'julien', 'banish', 'island', 'fossa', 'live', 'see', 'happen', 'alex', 'difficult', 'surviv', 'predat', 'island', 'marti', 'begin', 'regret', 'decis', 'leav', 'penguin', 'have', 'antarctica', 'wasn', 'mind', 'land', 'ship', 'madagascar', 'see', 'chanc', 'return', 'alex', 'york', 'marti', 'rush', 'friend', 'wish', 'melman', 'gloria', 'marti', 'attempt', 'convinc', 'grizzl', 'starv', 'alex', 'return', 'alex', 'refus', 'fear', 'attack', 'marti', 'penguin', 'gloria', 'melman', 'marti', 'trap', 'fossa', 'minut', 'alex', 'overcom', 'predatori', 'instinct', 'scar', 'fossa', 'away', 'lemur', 'territori', 'forev', 'lemur', 'regain', 'respect', 'alex', 'penguin', 'help', 'satisfi', 'hunger', 'sushi', 'lemur', 'throw', 'farewel', 'celebr', 'foursom', 'penguin', 'decid', 'break', 'news', 'ship', 'fuel']\n"
     ]
    }
   ],
   "source": [
    "doc_sample = movies_df_sub[movies_df_sub['Title'] == 'Madagascar'].values[0][7]\n",
    "print(doc_sample)\n",
    "print('original document: ')\n",
    "words = []\n",
    "for word in doc_sample.split(' '):\n",
    "    words.append(word)\n",
    "print(words)\n",
    "print('\\n\\n tokenized and lemmatized document: ')\n",
    "print(preprocess(doc_sample))\n"
   ],
   "metadata": {
    "collapsed": false,
    "pycharm": {
     "name": "#%%\n"
    }
   }
  },
  {
   "cell_type": "markdown",
   "source": [
    "testing with name replacement"
   ],
   "metadata": {
    "collapsed": false,
    "pycharm": {
     "name": "#%% md\n"
    }
   }
  },
  {
   "cell_type": "code",
   "execution_count": null,
   "outputs": [],
   "source": [
    "miniplot = movies_df_sub.Plot[5]\n",
    "# miniplot.head()"
   ],
   "metadata": {
    "collapsed": false,
    "pycharm": {
     "name": "#%%\n"
    }
   }
  },
  {
   "cell_type": "code",
   "execution_count": null,
   "outputs": [],
   "source": [
    "# print(miniplot)\n",
    "# tags = ['Alice', 'John']\n",
    "for tag in names:\n",
    "    miniplot = miniplot.replace(tag, 'Character')\n",
    "\n",
    "print(miniplot)"
   ],
   "metadata": {
    "collapsed": false,
    "pycharm": {
     "name": "#%%\n"
    }
   }
  },
  {
   "cell_type": "code",
   "execution_count": null,
   "outputs": [],
   "source": [
    "for tag in name:\n",
    "    miniplot = re.sub(r'\\b' + tag + r'\\b', 'Character', miniplot)\n",
    "print(miniplot)"
   ],
   "metadata": {
    "collapsed": false,
    "pycharm": {
     "name": "#%%\n"
    }
   }
  },
  {
   "cell_type": "code",
   "execution_count": null,
   "outputs": [],
   "source": [
    "Plot = movies_df_sub.Plot.sample(10)\n",
    "for i in Plot.index:\n",
    "    for tag in name:\n",
    "        Plot[i] = re.sub(r'\\b' + tag + r'\\b', 'Character', Plot[i])\n",
    "print(Plot)\n",
    "# Plot.to_csv('test.csv', index=False)\n"
   ],
   "metadata": {
    "collapsed": false,
    "pycharm": {
     "name": "#%%\n"
    }
   }
  },
  {
   "cell_type": "code",
   "execution_count": null,
   "outputs": [],
   "source": [
    "# %%time\n",
    "# name = allnames.name.to_list()\n",
    "# for tag in name[:100]:\n",
    "#     # print(tag)\n",
    "#     nameexp = re.compile(r'\\b'+tag+r'\\b')\n",
    "#     for i in movies_df_sub.index[:100]:\n",
    "#         movies_df_sub.Plot[i] = nameexp.sub('Character', movies_df_sub.Plot[i])"
   ],
   "metadata": {
    "collapsed": false,
    "pycharm": {
     "name": "#%%\n"
    }
   }
  },
  {
   "cell_type": "code",
   "execution_count": null,
   "outputs": [],
   "source": [
    "# %%time\n",
    "# from multiprocessing import Pool\n",
    "#\n",
    "# name = allnames.name.to_list()\n",
    "#\n",
    "# def f(x):\n",
    "#     for tag in name[:5]:\n",
    "#         re.sub(r'\\b' + tag + r'\\b', 'Character', x)\n",
    "#\n",
    "# if __name__ == '__main__':\n",
    "#     with Pool(4) as p:\n",
    "#         p.map(f, movies_df_sub.Plot[:5])"
   ],
   "metadata": {
    "collapsed": false,
    "pycharm": {
     "name": "#%%\n"
    }
   }
  },
  {
   "cell_type": "code",
   "execution_count": null,
   "outputs": [],
   "source": [
    "'Grace' in name"
   ],
   "metadata": {
    "collapsed": false,
    "pycharm": {
     "name": "#%%\n"
    }
   }
  },
  {
   "cell_type": "code",
   "execution_count": 499,
   "outputs": [
    {
     "name": "stdout",
     "output_type": "stream",
     "text": [
      "[NbConvertApp] Converting notebook groupproject.ipynb to html\r\n",
      "[NbConvertApp] Writing 1011770 bytes to groupproject.html\r\n"
     ]
    }
   ],
   "source": [
    "!jupyter nbconvert --to html groupproject.ipynb\n",
    "# os.system('jupyter nbconvert --to html groupproject.ipynb')\n"
   ],
   "metadata": {
    "collapsed": false,
    "pycharm": {
     "name": "#%%\n"
    }
   }
  },
  {
   "cell_type": "code",
   "execution_count": null,
   "outputs": [],
   "source": [],
   "metadata": {
    "collapsed": false,
    "pycharm": {
     "name": "#%%\n"
    }
   }
  }
 ],
 "metadata": {
  "kernelspec": {
   "display_name": "Python 3",
   "language": "python",
   "name": "python3"
  },
  "language_info": {
   "codemirror_mode": {
    "name": "ipython",
    "version": 3
   },
   "file_extension": ".py",
   "mimetype": "text/x-python",
   "name": "python",
   "nbconvert_exporter": "python",
   "pygments_lexer": "ipython3",
   "version": "3.9.5"
  }
 },
 "nbformat": 4,
 "nbformat_minor": 5
}