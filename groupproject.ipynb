{
 "cells": [
  {
   "cell_type": "markdown",
   "id": "4e4b5528",
   "metadata": {},
   "source": [
    "# NLP for Movie Plots\n",
    "*Hongyuan Jin, Eunseo Kang, Paige Harris, and Viki Papadakis*\n",
    "\n",
    "## Purpose\n",
    "We use natural language processing tools to find similar movies based on their summary plots.\n",
    "\n",
    "## Methodology\n",
    "- TF-IDF\n",
    "- LDA\n",
    "\n",
    "## WIP - improvements\n",
    "Todos:\n",
    "- replace character names with 'character'\n",
    "- verify the clustering efficiency\n",
    "-\n",
    "\n",
    "## Results\n",
    "Describe and comment the most important results.\n",
    "\n",
    "## Suggested next steps\n",
    "State suggested next steps, based on results obtained in this notebook."
   ]
  },
  {
   "cell_type": "markdown",
   "id": "5af9b94b",
   "metadata": {},
   "source": [
    "# Setup\n",
    "\n",
    "## Library import for Python\n",
    "We import all the required Python libraries"
   ]
  },
  {
   "cell_type": "code",
   "execution_count": 205,
   "id": "b533b18b",
   "metadata": {},
   "outputs": [
    {
     "data": {
      "text/html": "        <script type=\"text/javascript\">\n        window.PlotlyConfig = {MathJaxConfig: 'local'};\n        if (window.MathJax) {MathJax.Hub.Config({SVG: {font: \"STIX-Web\"}});}\n        if (typeof require !== 'undefined') {\n        require.undef(\"plotly\");\n        requirejs.config({\n            paths: {\n                'plotly': ['https://cdn.plot.ly/plotly-latest.min']\n            }\n        });\n        require(['plotly'], function(Plotly) {\n            window._Plotly = Plotly;\n        });\n        }\n        </script>\n        "
     },
     "metadata": {},
     "output_type": "display_data"
    },
    {
     "data": {
      "text/html": "        <script type=\"text/javascript\">\n        window.PlotlyConfig = {MathJaxConfig: 'local'};\n        if (window.MathJax) {MathJax.Hub.Config({SVG: {font: \"STIX-Web\"}});}\n        if (typeof require !== 'undefined') {\n        require.undef(\"plotly\");\n        requirejs.config({\n            paths: {\n                'plotly': ['https://cdn.plot.ly/plotly-latest.min']\n            }\n        });\n        require(['plotly'], function(Plotly) {\n            window._Plotly = Plotly;\n        });\n        }\n        </script>\n        "
     },
     "metadata": {},
     "output_type": "display_data"
    }
   ],
   "source": [
    "import os\n",
    "# print(\"Current Working Directory \" , os.getcwd())\n",
    "# Data manipulation\n",
    "import pandas as pd\n",
    "import numpy as np\n",
    "\n",
    "# Options for pandas\n",
    "pd.options.display.max_columns = 50\n",
    "pd.options.display.max_rows = 30\n",
    "\n",
    "# Visualizations\n",
    "import plotly\n",
    "import plotly.graph_objs as go\n",
    "import plotly.offline as ply\n",
    "plotly.offline.init_notebook_mode(connected=True)\n",
    "\n",
    "import cufflinks as cf\n",
    "cf.go_offline(connected=True)\n",
    "cf.set_config_file(theme='white')\n",
    "\n",
    "import matplotlib as plt\n",
    "# import matplotlib.pyplot as pplt\n",
    "\n",
    "import nltk\n",
    "# nltk.download('punkt')\n",
    "# nltk.download('wordnet')\n",
    "import re\n",
    "from nltk.stem import WordNetLemmatizer, SnowballStemmer\n",
    "from nltk.stem.porter import *\n",
    "from nltk.stem.snowball import SnowballStemmer\n",
    "import gensim\n",
    "from gensim.utils import simple_preprocess\n",
    "from gensim.parsing.preprocessing import STOPWORDS\n",
    "\n",
    "from sklearn.pipeline import Pipeline\n",
    "from sklearn.feature_extraction.text import CountVectorizer, TfidfTransformer\n",
    "from sklearn.preprocessing import FunctionTransformer\n",
    "from sklearn.metrics.pairwise import cosine_similarity\n",
    "\n",
    "# Autoreload extension\n",
    "if 'autoreload' not in get_ipython().extension_manager.loaded:\n",
    "    %load_ext autoreload\n",
    "    \n",
    "%autoreload 2"
   ]
  },
  {
   "cell_type": "markdown",
   "source": [
    "## Library import for R\n",
    "We enable R in the notebook and import all the required libraries."
   ],
   "metadata": {
    "collapsed": false,
    "pycharm": {
     "name": "#%% md\n"
    }
   }
  },
  {
   "cell_type": "code",
   "execution_count": 206,
   "outputs": [],
   "source": [
    "%load_ext rpy2.ipython"
   ],
   "metadata": {
    "collapsed": false,
    "pycharm": {
     "name": "#%%\n"
    }
   }
  },
  {
   "cell_type": "code",
   "execution_count": 207,
   "outputs": [
    {
     "name": "stderr",
     "output_type": "stream",
     "text": [
      "R[write to console]: \n",
      "Attaching package: ‘dplyr’\n",
      "\n",
      "\n",
      "R[write to console]: The following objects are masked from ‘package:stats’:\n",
      "\n",
      "    filter, lag\n",
      "\n",
      "\n",
      "R[write to console]: The following objects are masked from ‘package:base’:\n",
      "\n",
      "    intersect, setdiff, setequal, union\n",
      "\n",
      "\n",
      "R[write to console]: ── Attaching packages ─────────────────────────────────────── tidyverse 1.3.0 ──\n",
      "\n",
      "R[write to console]: ✔ tibble  3.0.3     ✔ stringr 1.4.0\n",
      "✔ readr   1.3.1     ✔ forcats 0.5.0\n",
      "✔ purrr   0.3.4     \n",
      "\n",
      "R[write to console]: ── Conflicts ────────────────────────────────────────── tidyverse_conflicts() ──\n",
      "✖ dplyr::filter() masks stats::filter()\n",
      "✖ dplyr::lag()    masks stats::lag()\n",
      "\n",
      "R[write to console]: Loading required package: zoo\n",
      "\n",
      "R[write to console]: \n",
      "Attaching package: ‘zoo’\n",
      "\n",
      "\n",
      "R[write to console]: The following objects are masked from ‘package:base’:\n",
      "\n",
      "    as.Date, as.Date.numeric\n",
      "\n",
      "\n"
     ]
    }
   ],
   "source": [
    "%%R\n",
    "# install.packages(\"ggplot2\", repos='http://cran.us.r-project.org', quiet=TRUE)\n",
    "library(ggplot2)\n",
    "library(fixest)\n",
    "library(dplyr)\n",
    "library(tidyr)\n",
    "library(tidyverse)\n",
    "# install.packages(\"lmtest\")\n",
    "library(lmtest)\n",
    "library(sandwich)"
   ],
   "metadata": {
    "collapsed": false,
    "pycharm": {
     "name": "#%%\n"
    }
   }
  },
  {
   "cell_type": "markdown",
   "id": "b200c9f6",
   "metadata": {
    "pycharm": {
     "name": "#%% md\n"
    }
   },
   "source": [
    "## Local library import\n",
    "We import all the required local libraries"
   ]
  },
  {
   "cell_type": "code",
   "execution_count": 15,
   "id": "3340985b",
   "metadata": {},
   "outputs": [],
   "source": [
    "# Include local library paths\n",
    "import sys\n",
    "# sys.path.append('path/to/local/lib') # uncomment and fill to import local libraries\n",
    "\n",
    "# Import local libraries"
   ]
  },
  {
   "cell_type": "markdown",
   "id": "b3c2f6e8",
   "metadata": {},
   "source": [
    "# Data import\n",
    "- Movie plots (*movies_df*)\n",
    "    - source:\n",
    "\n",
    "- Other movie attributes (*movie_other*)\n",
    "    - source:\n",
    "\n",
    "- Top star list data (*topstar*)\n",
    "    - source:\n",
    "\n",
    "## We first retrieve the data for movie summary plots."
   ]
  },
  {
   "cell_type": "code",
   "execution_count": 208,
   "outputs": [
    {
     "data": {
      "text/plain": "   Release Year                             Title Origin/Ethnicity  \\\n0          1901            Kansas Saloon Smashers         American   \n1          1901     Love by the Light of the Moon         American   \n2          1901           The Martyred Presidents         American   \n3          1901  Terrible Teddy, the Grizzly King         American   \n4          1902            Jack and the Beanstalk         American   \n\n                             Director Cast    Genre  \\\n0                             Unknown  NaN  unknown   \n1                             Unknown  NaN  unknown   \n2                             Unknown  NaN  unknown   \n3                             Unknown  NaN  unknown   \n4  George S. Fleming, Edwin S. Porter  NaN  unknown   \n\n                                           Wiki Page  \\\n0  https://en.wikipedia.org/wiki/Kansas_Saloon_Sm...   \n1  https://en.wikipedia.org/wiki/Love_by_the_Ligh...   \n2  https://en.wikipedia.org/wiki/The_Martyred_Pre...   \n3  https://en.wikipedia.org/wiki/Terrible_Teddy,_...   \n4  https://en.wikipedia.org/wiki/Jack_and_the_Bea...   \n\n                                                Plot  \n0  A bartender is working at a saloon, serving dr...  \n1  The moon, painted with a smiling face hangs ov...  \n2  The film, just over a minute long, is composed...  \n3  Lasting just 61 seconds and consisting of two ...  \n4  The earliest known adaptation of the classic f...  ",
      "text/html": "<div>\n<style scoped>\n    .dataframe tbody tr th:only-of-type {\n        vertical-align: middle;\n    }\n\n    .dataframe tbody tr th {\n        vertical-align: top;\n    }\n\n    .dataframe thead th {\n        text-align: right;\n    }\n</style>\n<table border=\"1\" class=\"dataframe\">\n  <thead>\n    <tr style=\"text-align: right;\">\n      <th></th>\n      <th>Release Year</th>\n      <th>Title</th>\n      <th>Origin/Ethnicity</th>\n      <th>Director</th>\n      <th>Cast</th>\n      <th>Genre</th>\n      <th>Wiki Page</th>\n      <th>Plot</th>\n    </tr>\n  </thead>\n  <tbody>\n    <tr>\n      <th>0</th>\n      <td>1901</td>\n      <td>Kansas Saloon Smashers</td>\n      <td>American</td>\n      <td>Unknown</td>\n      <td>NaN</td>\n      <td>unknown</td>\n      <td>https://en.wikipedia.org/wiki/Kansas_Saloon_Sm...</td>\n      <td>A bartender is working at a saloon, serving dr...</td>\n    </tr>\n    <tr>\n      <th>1</th>\n      <td>1901</td>\n      <td>Love by the Light of the Moon</td>\n      <td>American</td>\n      <td>Unknown</td>\n      <td>NaN</td>\n      <td>unknown</td>\n      <td>https://en.wikipedia.org/wiki/Love_by_the_Ligh...</td>\n      <td>The moon, painted with a smiling face hangs ov...</td>\n    </tr>\n    <tr>\n      <th>2</th>\n      <td>1901</td>\n      <td>The Martyred Presidents</td>\n      <td>American</td>\n      <td>Unknown</td>\n      <td>NaN</td>\n      <td>unknown</td>\n      <td>https://en.wikipedia.org/wiki/The_Martyred_Pre...</td>\n      <td>The film, just over a minute long, is composed...</td>\n    </tr>\n    <tr>\n      <th>3</th>\n      <td>1901</td>\n      <td>Terrible Teddy, the Grizzly King</td>\n      <td>American</td>\n      <td>Unknown</td>\n      <td>NaN</td>\n      <td>unknown</td>\n      <td>https://en.wikipedia.org/wiki/Terrible_Teddy,_...</td>\n      <td>Lasting just 61 seconds and consisting of two ...</td>\n    </tr>\n    <tr>\n      <th>4</th>\n      <td>1902</td>\n      <td>Jack and the Beanstalk</td>\n      <td>American</td>\n      <td>George S. Fleming, Edwin S. Porter</td>\n      <td>NaN</td>\n      <td>unknown</td>\n      <td>https://en.wikipedia.org/wiki/Jack_and_the_Bea...</td>\n      <td>The earliest known adaptation of the classic f...</td>\n    </tr>\n  </tbody>\n</table>\n</div>"
     },
     "execution_count": 208,
     "metadata": {},
     "output_type": "execute_result"
    }
   ],
   "source": [
    "movies_df = pd.read_csv('~/Dropbox/Course/PSTAT234/spr21/pstat234-final-project/wiki_movie_plots_deduped.csv')\n",
    "movies_df.head(5)"
   ],
   "metadata": {
    "collapsed": false,
    "pycharm": {
     "name": "#%%\n"
    }
   }
  },
  {
   "cell_type": "markdown",
   "source": [
    "## Data for Movie Plots\n",
    "We subset the data for movies:\n",
    "- Produced in the US\n",
    "- Released between 1990 and 2010"
   ],
   "metadata": {
    "collapsed": false,
    "pycharm": {
     "name": "#%% md\n"
    }
   }
  },
  {
   "cell_type": "code",
   "execution_count": 211,
   "outputs": [
    {
     "data": {
      "text/plain": "   Release Year                            Title Origin/Ethnicity  \\\n0          1990  The Adventures of Ford Fairlane         American   \n1          1990             After Dark, My Sweet         American   \n2          1990                      Air America         American   \n3          1990                            Alice         American   \n4          1990                  Almost an Angel         American   \n\n             Director                                               Cast  \\\n0        Renny Harlin  Andrew Dice Clay, Wayne Newton, Priscilla Pres...   \n1         James Foley              Jason Patric, Rachel Ward, Bruce Dern   \n2  Roger Spottiswoode       Mel Gibson, Robert Downey, Jr., Nancy Travis   \n3         Woody Allen  Mia Farrow, Joe Mantegna, William Hurt, Alec B...   \n4        John Cornell          Paul Hogan, Elias Koteas, Charlton Heston   \n\n     Genre                                          Wiki Page  \\\n0   comedy  https://en.wikipedia.org/wiki/The_Adventures_o...   \n1  mystery  https://en.wikipedia.org/wiki/After_Dark,_My_S...   \n2   comedy   https://en.wikipedia.org/wiki/Air_America_(film)   \n3   comedy    https://en.wikipedia.org/wiki/Alice_(1990_film)   \n4   comedy      https://en.wikipedia.org/wiki/Almost_an_Angel   \n\n                                                Plot  \n0  Ford Fairlane (Andrew Dice Clay) is seen sitti...  \n1  Ex-boxer Kevin \"Kid\" Collins is a drifter and ...  \n2  In late 1969, Billy Covington (Robert Downey J...  \n3  Alice Tate is an upper-class New York housewif...  \n4  Terry Dean (Paul Hogan), a professional burgla...  ",
      "text/html": "<div>\n<style scoped>\n    .dataframe tbody tr th:only-of-type {\n        vertical-align: middle;\n    }\n\n    .dataframe tbody tr th {\n        vertical-align: top;\n    }\n\n    .dataframe thead th {\n        text-align: right;\n    }\n</style>\n<table border=\"1\" class=\"dataframe\">\n  <thead>\n    <tr style=\"text-align: right;\">\n      <th></th>\n      <th>Release Year</th>\n      <th>Title</th>\n      <th>Origin/Ethnicity</th>\n      <th>Director</th>\n      <th>Cast</th>\n      <th>Genre</th>\n      <th>Wiki Page</th>\n      <th>Plot</th>\n    </tr>\n  </thead>\n  <tbody>\n    <tr>\n      <th>0</th>\n      <td>1990</td>\n      <td>The Adventures of Ford Fairlane</td>\n      <td>American</td>\n      <td>Renny Harlin</td>\n      <td>Andrew Dice Clay, Wayne Newton, Priscilla Pres...</td>\n      <td>comedy</td>\n      <td>https://en.wikipedia.org/wiki/The_Adventures_o...</td>\n      <td>Ford Fairlane (Andrew Dice Clay) is seen sitti...</td>\n    </tr>\n    <tr>\n      <th>1</th>\n      <td>1990</td>\n      <td>After Dark, My Sweet</td>\n      <td>American</td>\n      <td>James Foley</td>\n      <td>Jason Patric, Rachel Ward, Bruce Dern</td>\n      <td>mystery</td>\n      <td>https://en.wikipedia.org/wiki/After_Dark,_My_S...</td>\n      <td>Ex-boxer Kevin \"Kid\" Collins is a drifter and ...</td>\n    </tr>\n    <tr>\n      <th>2</th>\n      <td>1990</td>\n      <td>Air America</td>\n      <td>American</td>\n      <td>Roger Spottiswoode</td>\n      <td>Mel Gibson, Robert Downey, Jr., Nancy Travis</td>\n      <td>comedy</td>\n      <td>https://en.wikipedia.org/wiki/Air_America_(film)</td>\n      <td>In late 1969, Billy Covington (Robert Downey J...</td>\n    </tr>\n    <tr>\n      <th>3</th>\n      <td>1990</td>\n      <td>Alice</td>\n      <td>American</td>\n      <td>Woody Allen</td>\n      <td>Mia Farrow, Joe Mantegna, William Hurt, Alec B...</td>\n      <td>comedy</td>\n      <td>https://en.wikipedia.org/wiki/Alice_(1990_film)</td>\n      <td>Alice Tate is an upper-class New York housewif...</td>\n    </tr>\n    <tr>\n      <th>4</th>\n      <td>1990</td>\n      <td>Almost an Angel</td>\n      <td>American</td>\n      <td>John Cornell</td>\n      <td>Paul Hogan, Elias Koteas, Charlton Heston</td>\n      <td>comedy</td>\n      <td>https://en.wikipedia.org/wiki/Almost_an_Angel</td>\n      <td>Terry Dean (Paul Hogan), a professional burgla...</td>\n    </tr>\n  </tbody>\n</table>\n</div>"
     },
     "execution_count": 211,
     "metadata": {},
     "output_type": "execute_result"
    }
   ],
   "source": [
    "# movies_df_sub = movies_df[(movies_df['Origin/Ethnicity']==\"American\")].reset_index(drop=True)\n",
    "movies_df_sub = movies_df[(movies_df['Release Year']>=1990) &\n",
    "                          (movies_df['Release Year']<=2010) &\n",
    "                          (movies_df['Origin/Ethnicity']==\"American\")].\\\n",
    "    reset_index(drop=True)\n",
    "movies_df_sub.head(5)\n",
    "# 4631 movies to analyze"
   ],
   "metadata": {
    "collapsed": false,
    "pycharm": {
     "name": "#%%\n"
    }
   }
  },
  {
   "cell_type": "code",
   "execution_count": 229,
   "outputs": [
    {
     "data": {
      "text/plain": "count     4631.000000\nmean      3194.705031\nstd       1759.174164\nmin         35.000000\n25%       1916.500000\n50%       3430.000000\n75%       4205.000000\nmax      25123.000000\nName: Plot, dtype: float64"
     },
     "execution_count": 229,
     "metadata": {},
     "output_type": "execute_result"
    }
   ],
   "source": [
    "movies_df_sub['Plot'].apply(len).describe()"
   ],
   "metadata": {
    "collapsed": false,
    "pycharm": {
     "name": "#%%\n"
    }
   }
  },
  {
   "cell_type": "markdown",
   "source": [
    "The above says that each plot has on average 3195 tokens (min: 35 and max: 25123)."
   ],
   "metadata": {
    "collapsed": false,
    "pycharm": {
     "name": "#%% md\n"
    }
   }
  },
  {
   "cell_type": "markdown",
   "id": "cccaef3e",
   "metadata": {},
   "source": [
    "# Data processing for movie plots"
   ]
  },
  {
   "cell_type": "markdown",
   "source": [
    "# NLP\n",
    "We use TF-IDF and LDA to analyze the plot summaries."
   ],
   "metadata": {
    "collapsed": false
   }
  },
  {
   "cell_type": "markdown",
   "source": [
    "## TF-IDF"
   ],
   "metadata": {
    "collapsed": false
   }
  },
  {
   "cell_type": "code",
   "execution_count": 230,
   "id": "4cf8f7e6",
   "metadata": {},
   "outputs": [
    {
     "name": "stdout",
     "output_type": "stream",
     "text": [
      "(4631, 118)\n"
     ]
    }
   ],
   "source": [
    "stemmer = SnowballStemmer(\"english\", ignore_stopwords=False)\n",
    "\n",
    "normalized = []\n",
    "totalvocab_tokenized = []\n",
    "def normalize(X):\n",
    "    normalized = []\n",
    "    # totalvocab_tokenized = []\n",
    "    for x in X:\n",
    "        words = nltk.word_tokenize(x)\n",
    "        normalized.append(' '.join([stemmer.stem(word) for word in words if re.match('[a-zA-Z]+', word)]))\n",
    "        totalvocab_tokenized.extend(words)\n",
    "    return normalized\n",
    "\n",
    "pipe = Pipeline([\n",
    "    ('normalize', FunctionTransformer(normalize, validate=False)),\n",
    "    ('counter_vectorizer', CountVectorizer(\n",
    "        max_df=0.8, max_features=200000,\n",
    "        min_df=0.2, stop_words='english',\n",
    "        ngram_range=(1, 3)\n",
    "    )),\n",
    "    ('tfidf_transform', TfidfTransformer())\n",
    "])\n",
    "\n",
    "tfidf_matrix = pipe.fit_transform([x for x in movies_df_sub['Plot']])\n",
    "print(tfidf_matrix.shape)"
   ]
  },
  {
   "cell_type": "code",
   "execution_count": 231,
   "outputs": [],
   "source": [
    "similarity_distance = 1 - cosine_similarity(tfidf_matrix)\n",
    "# similarity_distance"
   ],
   "metadata": {
    "collapsed": false,
    "pycharm": {
     "name": "#%%\n"
    }
   }
  },
  {
   "cell_type": "markdown",
   "source": [
    "We test for finding similar movies for a given title"
   ],
   "metadata": {
    "collapsed": false,
    "pycharm": {
     "name": "#%% md\n"
    }
   }
  },
  {
   "cell_type": "code",
   "execution_count": 193,
   "outputs": [],
   "source": [
    "def find_similar(title):\n",
    "    index = movies_df_sub[movies_df_sub['Title'] == title].index[0]\n",
    "    vector = similarity_distance[index, :]\n",
    "    most_similar = movies_df_sub.iloc[np.argsort(vector)[0:10], 0:2]\n",
    "    return most_similar"
   ],
   "metadata": {
    "collapsed": false,
    "pycharm": {
     "name": "#%%\n"
    }
   }
  },
  {
   "cell_type": "markdown",
   "source": [
    "### Example\n",
    "The movies similar to *Madagascar (2005)* according to TF-IDF."
   ],
   "metadata": {
    "collapsed": false,
    "pycharm": {
     "name": "#%% md\n"
    }
   }
  },
  {
   "cell_type": "code",
   "execution_count": 194,
   "outputs": [
    {
     "name": "stdout",
     "output_type": "stream",
     "text": [
      "      Release Year                           Title\n",
      "3374          2005                      Madagascar\n",
      "1194          1995      The Pebble and the Penguin\n",
      "3607          2006                      Happy Feet\n",
      "1775          1997                 Robinson Crusoe\n",
      "2602          2001                Saving Silverman\n",
      "3094          2004     Clifford's Really Big Movie\n",
      "4497          2010                          Frozen\n",
      "1269          1996  Alien Nation: The Enemy Within\n",
      "1955          1998                      The Mighty\n",
      "1306          1996           Cannibal! The Musical\n"
     ]
    }
   ],
   "source": [
    "print(find_similar('Madagascar'))\n"
   ],
   "metadata": {
    "collapsed": false,
    "pycharm": {
     "name": "#%%\n"
    }
   }
  },
  {
   "cell_type": "markdown",
   "source": [
    "### Cluster the movies based on the similarity metric from TF-IDF"
   ],
   "metadata": {
    "collapsed": false,
    "pycharm": {
     "name": "#%% md\n"
    }
   }
  },
  {
   "cell_type": "code",
   "execution_count": 233,
   "outputs": [
    {
     "name": "stdout",
     "output_type": "stream",
     "text": [
      "4     475\n",
      "16    452\n",
      "12    434\n",
      "1     284\n",
      "9     249\n",
      "11    205\n",
      "20    191\n",
      "7     182\n",
      "17    178\n",
      "2     172\n",
      "0     163\n",
      "19    160\n",
      "15    157\n",
      "21    156\n",
      "13    155\n",
      "6     145\n",
      "18    142\n",
      "22    136\n",
      "10    133\n",
      "8     131\n",
      "5     123\n",
      "14    120\n",
      "3      88\n",
      "Name: cluster_tfidf_first, dtype: int64\n"
     ]
    }
   ],
   "source": [
    "from sklearn.cluster import KMeans\n",
    "\n",
    "num_clusters = 23\n",
    "# print(num_clusters)\n",
    "km = KMeans(n_clusters=num_clusters)\n",
    "\n",
    "km.fit(tfidf_matrix)\n",
    "\n",
    "clusters_tfidf = km.labels_.tolist()\n",
    "\n",
    "import joblib\n",
    "\n",
    "joblib.dump(km, 'doc_cluster.pkl')\n",
    "\n",
    "km = joblib.load('doc_cluster.pkl')\n",
    "clusters_tfidf_first = km.labels_.tolist()\n",
    "\n",
    "films = {'title': movies_df_sub[\"Title\"], 'Release_year':  movies_df_sub[\"Release Year\"],\n",
    "         'Plot':  movies_df_sub['Plot'], 'cluster_tfidf_first': clusters_tfidf_first,\n",
    "         'Director':  movies_df_sub['Director'], 'Genre':  movies_df_sub['Genre']}\n",
    "# print(films)\n",
    "frame = pd.DataFrame(data=films, columns=['title', 'cluster_tfidf_first', 'Genre', 'Release_year', 'Director'])\n",
    "# print(frame)\n",
    "print(frame['cluster_tfidf_first'].value_counts())\n",
    "# # frame.to_csv(r'~/Dropbox/ImmInnHollywood/data/wiki_film_plot/plot_cluster.csv', index=False)"
   ],
   "metadata": {
    "collapsed": false,
    "pycharm": {
     "name": "#%%\n"
    }
   }
  },
  {
   "cell_type": "markdown",
   "source": [
    "#### Visualize the movies within a certain similarity range"
   ],
   "metadata": {
    "collapsed": false
   }
  },
  {
   "cell_type": "code",
   "execution_count": 247,
   "outputs": [
    {
     "data": {
      "text/plain": "                                          title  cluster_tfidf_first  \\\n2226                    The Talented Mr. Ripley                    0   \n1641                           Fierce Creatures                    0   \n2856  44 Minutes: The North Hollywood Shoot-Out                    0   \n2867                                  Bad Santa                    0   \n457                                 Fifty/Fifty                    1   \n958                       The Road to Wellville                    1   \n3545                           The Death of Poe                    1   \n3544                              The Dead Girl                    1   \n1086                             Empire Records                    2   \n2385                        Requiem for a Dream                    2   \n4555                                 Middle Men                    2   \n4404                        The Slammin' Salmon                    2   \n3386                           Mr. & Mrs. Smith                    3   \n1588                             Bloodsport III                    3   \n4293                                   Fighting                    3   \n4488                            The Expendables                    3   \n4494                                    Flipped                    4   \n4495                          For Colored Girls                    4   \n3053                           After the Sunset                    4   \n3207                                   Sideways                    4   \n2634                             Town & Country                    5   \n1506                                 Striptease                    5   \n3262                The Ballad of Jack and Rose                    5   \n1001                                  True Lies                    5   \n1513                                   Swingers                    6   \n2978                                        May                    6   \n2208                             She's All That                    6   \n3092                         A Cinderella Story                    6   \n\n                    Genre  Release_year  \n2226             thriller          1999  \n1641               comedy          1997  \n2856               action          2003  \n2867        comedy, crime          2003  \n457                comedy          1992  \n958     comedy, biography          1994  \n3545               horror          2006  \n3544                drama          2006  \n1086        comedy, drama          1995  \n2385                drama          2000  \n4555  comedy-drama, crime          2010  \n4404               comedy          2009  \n3386               action          2005  \n1588               action          1997  \n4293               action          2009  \n4488               action          2010  \n4494      romantic comedy          2010  \n4495                drama          2010  \n3053                crime          2004  \n3207               comedy          2004  \n2634               comedy          2001  \n1506               comedy          1996  \n3262                drama          2005  \n1001       action, comedy          1994  \n1513               comedy          1996  \n2978               horror          2003  \n2208      romantic comedy          1999  \n3092               comedy          2004  ",
      "text/html": "<div>\n<style scoped>\n    .dataframe tbody tr th:only-of-type {\n        vertical-align: middle;\n    }\n\n    .dataframe tbody tr th {\n        vertical-align: top;\n    }\n\n    .dataframe thead th {\n        text-align: right;\n    }\n</style>\n<table border=\"1\" class=\"dataframe\">\n  <thead>\n    <tr style=\"text-align: right;\">\n      <th></th>\n      <th>title</th>\n      <th>cluster_tfidf_first</th>\n      <th>Genre</th>\n      <th>Release_year</th>\n    </tr>\n  </thead>\n  <tbody>\n    <tr>\n      <th>2226</th>\n      <td>The Talented Mr. Ripley</td>\n      <td>0</td>\n      <td>thriller</td>\n      <td>1999</td>\n    </tr>\n    <tr>\n      <th>1641</th>\n      <td>Fierce Creatures</td>\n      <td>0</td>\n      <td>comedy</td>\n      <td>1997</td>\n    </tr>\n    <tr>\n      <th>2856</th>\n      <td>44 Minutes: The North Hollywood Shoot-Out</td>\n      <td>0</td>\n      <td>action</td>\n      <td>2003</td>\n    </tr>\n    <tr>\n      <th>2867</th>\n      <td>Bad Santa</td>\n      <td>0</td>\n      <td>comedy, crime</td>\n      <td>2003</td>\n    </tr>\n    <tr>\n      <th>457</th>\n      <td>Fifty/Fifty</td>\n      <td>1</td>\n      <td>comedy</td>\n      <td>1992</td>\n    </tr>\n    <tr>\n      <th>958</th>\n      <td>The Road to Wellville</td>\n      <td>1</td>\n      <td>comedy, biography</td>\n      <td>1994</td>\n    </tr>\n    <tr>\n      <th>3545</th>\n      <td>The Death of Poe</td>\n      <td>1</td>\n      <td>horror</td>\n      <td>2006</td>\n    </tr>\n    <tr>\n      <th>3544</th>\n      <td>The Dead Girl</td>\n      <td>1</td>\n      <td>drama</td>\n      <td>2006</td>\n    </tr>\n    <tr>\n      <th>1086</th>\n      <td>Empire Records</td>\n      <td>2</td>\n      <td>comedy, drama</td>\n      <td>1995</td>\n    </tr>\n    <tr>\n      <th>2385</th>\n      <td>Requiem for a Dream</td>\n      <td>2</td>\n      <td>drama</td>\n      <td>2000</td>\n    </tr>\n    <tr>\n      <th>4555</th>\n      <td>Middle Men</td>\n      <td>2</td>\n      <td>comedy-drama, crime</td>\n      <td>2010</td>\n    </tr>\n    <tr>\n      <th>4404</th>\n      <td>The Slammin' Salmon</td>\n      <td>2</td>\n      <td>comedy</td>\n      <td>2009</td>\n    </tr>\n    <tr>\n      <th>3386</th>\n      <td>Mr. &amp; Mrs. Smith</td>\n      <td>3</td>\n      <td>action</td>\n      <td>2005</td>\n    </tr>\n    <tr>\n      <th>1588</th>\n      <td>Bloodsport III</td>\n      <td>3</td>\n      <td>action</td>\n      <td>1997</td>\n    </tr>\n    <tr>\n      <th>4293</th>\n      <td>Fighting</td>\n      <td>3</td>\n      <td>action</td>\n      <td>2009</td>\n    </tr>\n    <tr>\n      <th>4488</th>\n      <td>The Expendables</td>\n      <td>3</td>\n      <td>action</td>\n      <td>2010</td>\n    </tr>\n    <tr>\n      <th>4494</th>\n      <td>Flipped</td>\n      <td>4</td>\n      <td>romantic comedy</td>\n      <td>2010</td>\n    </tr>\n    <tr>\n      <th>4495</th>\n      <td>For Colored Girls</td>\n      <td>4</td>\n      <td>drama</td>\n      <td>2010</td>\n    </tr>\n    <tr>\n      <th>3053</th>\n      <td>After the Sunset</td>\n      <td>4</td>\n      <td>crime</td>\n      <td>2004</td>\n    </tr>\n    <tr>\n      <th>3207</th>\n      <td>Sideways</td>\n      <td>4</td>\n      <td>comedy</td>\n      <td>2004</td>\n    </tr>\n    <tr>\n      <th>2634</th>\n      <td>Town &amp; Country</td>\n      <td>5</td>\n      <td>comedy</td>\n      <td>2001</td>\n    </tr>\n    <tr>\n      <th>1506</th>\n      <td>Striptease</td>\n      <td>5</td>\n      <td>comedy</td>\n      <td>1996</td>\n    </tr>\n    <tr>\n      <th>3262</th>\n      <td>The Ballad of Jack and Rose</td>\n      <td>5</td>\n      <td>drama</td>\n      <td>2005</td>\n    </tr>\n    <tr>\n      <th>1001</th>\n      <td>True Lies</td>\n      <td>5</td>\n      <td>action, comedy</td>\n      <td>1994</td>\n    </tr>\n    <tr>\n      <th>1513</th>\n      <td>Swingers</td>\n      <td>6</td>\n      <td>comedy</td>\n      <td>1996</td>\n    </tr>\n    <tr>\n      <th>2978</th>\n      <td>May</td>\n      <td>6</td>\n      <td>horror</td>\n      <td>2003</td>\n    </tr>\n    <tr>\n      <th>2208</th>\n      <td>She's All That</td>\n      <td>6</td>\n      <td>romantic comedy</td>\n      <td>1999</td>\n    </tr>\n    <tr>\n      <th>3092</th>\n      <td>A Cinderella Story</td>\n      <td>6</td>\n      <td>comedy</td>\n      <td>2004</td>\n    </tr>\n  </tbody>\n</table>\n</div>"
     },
     "execution_count": 247,
     "metadata": {},
     "output_type": "execute_result"
    }
   ],
   "source": [
    "frame_select = frame[['title', 'cluster_tfidf_first', 'Genre', 'Release_year']]\n",
    "frame_select.sort_values(['cluster_tfidf_first']).groupby('cluster_tfidf_first').head(4)[:28]"
   ],
   "metadata": {
    "collapsed": false,
    "pycharm": {
     "name": "#%%\n"
    }
   }
  },
  {
   "cell_type": "markdown",
   "source": [
    "top words in each cluster by TF-IDF"
   ],
   "metadata": {
    "collapsed": false,
    "pycharm": {
     "name": "#%% md\n"
    }
   }
  },
  {
   "cell_type": "code",
   "execution_count": null,
   "outputs": [],
   "source": [],
   "metadata": {
    "collapsed": false,
    "pycharm": {
     "name": "#%%\n"
    }
   }
  },
  {
   "cell_type": "markdown",
   "source": [
    "## LDA\n",
    "\n",
    "TBU-Text explanation"
   ],
   "metadata": {
    "collapsed": false
   }
  },
  {
   "cell_type": "code",
   "execution_count": 248,
   "outputs": [
    {
     "name": "stdout",
     "output_type": "stream",
     "text": [
      "Topic: 0 \n",
      "Words: 0.008*\"peter\" + 0.006*\"barri\" + 0.006*\"kati\" + 0.005*\"mari\" + 0.005*\"sophi\" + 0.004*\"hotel\" + 0.004*\"alli\" + 0.004*\"simon\" + 0.004*\"aaron\" + 0.004*\"robot\"\n",
      "Topic: 1 \n",
      "Words: 0.008*\"michael\" + 0.005*\"bobbi\" + 0.004*\"carter\" + 0.004*\"jam\" + 0.004*\"anim\" + 0.003*\"maggi\" + 0.003*\"ross\" + 0.003*\"wade\" + 0.003*\"helen\" + 0.003*\"david\"\n",
      "Topic: 2 \n",
      "Words: 0.010*\"frank\" + 0.007*\"mike\" + 0.005*\"scott\" + 0.005*\"crew\" + 0.004*\"cole\" + 0.003*\"carl\" + 0.003*\"rick\" + 0.003*\"ship\" + 0.003*\"edward\" + 0.002*\"kenni\"\n",
      "Topic: 3 \n",
      "Words: 0.020*\"jimmi\" + 0.010*\"steve\" + 0.006*\"chris\" + 0.005*\"mari\" + 0.005*\"frank\" + 0.004*\"chip\" + 0.003*\"peter\" + 0.003*\"truck\" + 0.003*\"scott\" + 0.003*\"alan\"\n",
      "Topic: 4 \n",
      "Words: 0.027*\"jack\" + 0.006*\"frank\" + 0.005*\"rachel\" + 0.004*\"kate\" + 0.004*\"joseph\" + 0.004*\"ann\" + 0.003*\"stone\" + 0.003*\"beth\" + 0.003*\"matt\" + 0.003*\"traci\"\n",
      "Topic: 5 \n",
      "Words: 0.007*\"frank\" + 0.006*\"anna\" + 0.005*\"danni\" + 0.003*\"josh\" + 0.003*\"nanci\" + 0.003*\"oliv\" + 0.003*\"katherin\" + 0.003*\"larri\" + 0.003*\"danc\" + 0.003*\"william\"\n",
      "Topic: 6 \n",
      "Words: 0.009*\"matt\" + 0.007*\"lisa\" + 0.006*\"adam\" + 0.005*\"david\" + 0.005*\"crew\" + 0.004*\"laura\" + 0.004*\"luke\" + 0.004*\"paul\" + 0.004*\"tommi\" + 0.004*\"billi\"\n",
      "Topic: 7 \n",
      "Words: 0.013*\"alex\" + 0.009*\"emili\" + 0.006*\"marti\" + 0.006*\"sean\" + 0.005*\"frank\" + 0.004*\"johnni\" + 0.004*\"martin\" + 0.004*\"eric\" + 0.003*\"jacki\" + 0.003*\"troy\"\n",
      "Topic: 8 \n",
      "Words: 0.013*\"andi\" + 0.012*\"georg\" + 0.008*\"nick\" + 0.008*\"michael\" + 0.007*\"mark\" + 0.004*\"steven\" + 0.003*\"band\" + 0.003*\"greg\" + 0.003*\"mari\" + 0.003*\"joey\"\n",
      "Topic: 9 \n",
      "Words: 0.009*\"jack\" + 0.005*\"edward\" + 0.004*\"wish\" + 0.004*\"kevin\" + 0.004*\"david\" + 0.003*\"juli\" + 0.003*\"vampir\" + 0.003*\"maggi\" + 0.002*\"wood\" + 0.002*\"princ\"\n",
      "Topic: 10 \n",
      "Words: 0.008*\"alien\" + 0.008*\"billi\" + 0.006*\"robert\" + 0.006*\"charli\" + 0.005*\"robin\" + 0.005*\"jonathan\" + 0.004*\"david\" + 0.004*\"marcus\" + 0.004*\"juli\" + 0.003*\"luca\"\n",
      "Topic: 11 \n",
      "Words: 0.005*\"killer\" + 0.004*\"human\" + 0.004*\"grace\" + 0.003*\"kirk\" + 0.003*\"natali\" + 0.003*\"smith\" + 0.003*\"laura\" + 0.003*\"strike\" + 0.003*\"blood\" + 0.002*\"paul\"\n",
      "Topic: 12 \n",
      "Words: 0.007*\"fred\" + 0.006*\"kevin\" + 0.005*\"jessica\" + 0.004*\"harri\" + 0.004*\"elliot\" + 0.003*\"derek\" + 0.003*\"christma\" + 0.003*\"buddi\" + 0.003*\"anni\" + 0.003*\"race\"\n",
      "Topic: 13 \n",
      "Words: 0.007*\"billi\" + 0.004*\"craig\" + 0.004*\"crew\" + 0.004*\"kyle\" + 0.003*\"danc\" + 0.003*\"paul\" + 0.003*\"edward\" + 0.003*\"domin\" + 0.003*\"natali\" + 0.002*\"lili\"\n",
      "Topic: 14 \n",
      "Words: 0.007*\"loui\" + 0.006*\"henri\" + 0.006*\"christin\" + 0.005*\"peter\" + 0.005*\"west\" + 0.004*\"walter\" + 0.004*\"band\" + 0.003*\"alexand\" + 0.003*\"howard\" + 0.003*\"vincent\"\n",
      "Topic: 15 \n",
      "Words: 0.011*\"jane\" + 0.007*\"codi\" + 0.006*\"jack\" + 0.006*\"jess\" + 0.005*\"rise\" + 0.004*\"sean\" + 0.004*\"helen\" + 0.003*\"amanda\" + 0.003*\"freddi\" + 0.003*\"richard\"\n",
      "Topic: 16 \n",
      "Words: 0.018*\"harri\" + 0.006*\"kate\" + 0.006*\"paul\" + 0.004*\"patrick\" + 0.004*\"marcus\" + 0.003*\"babi\" + 0.003*\"emma\" + 0.003*\"anim\" + 0.003*\"bruce\" + 0.003*\"jack\"\n",
      "Topic: 17 \n",
      "Words: 0.007*\"michael\" + 0.005*\"peter\" + 0.005*\"adam\" + 0.005*\"mari\" + 0.004*\"kate\" + 0.004*\"jack\" + 0.003*\"norman\" + 0.003*\"simon\" + 0.003*\"charli\" + 0.003*\"terri\"\n",
      "Topic: 18 \n",
      "Words: 0.010*\"jack\" + 0.006*\"jess\" + 0.005*\"henri\" + 0.004*\"ship\" + 0.004*\"michael\" + 0.004*\"anna\" + 0.004*\"crew\" + 0.004*\"tommi\" + 0.003*\"luci\" + 0.003*\"stone\"\n",
      "Topic: 19 \n",
      "Words: 0.010*\"eddi\" + 0.010*\"jake\" + 0.009*\"nick\" + 0.005*\"luci\" + 0.004*\"angela\" + 0.003*\"betti\" + 0.003*\"paul\" + 0.003*\"fresh\" + 0.003*\"earth\" + 0.003*\"holli\"\n",
      "Topic: 20 \n",
      "Words: 0.008*\"alic\" + 0.008*\"king\" + 0.005*\"bobbi\" + 0.005*\"jack\" + 0.005*\"brian\" + 0.005*\"danni\" + 0.004*\"charli\" + 0.004*\"mari\" + 0.003*\"michael\" + 0.003*\"willi\"\n",
      "Topic: 21 \n",
      "Words: 0.013*\"charli\" + 0.012*\"mike\" + 0.005*\"sarah\" + 0.004*\"harri\" + 0.004*\"bear\" + 0.004*\"doug\" + 0.004*\"martin\" + 0.004*\"karen\" + 0.004*\"harold\" + 0.003*\"nick\"\n",
      "Topic: 22 \n",
      "Words: 0.014*\"david\" + 0.010*\"ryan\" + 0.006*\"molli\" + 0.005*\"alex\" + 0.005*\"elizabeth\" + 0.004*\"chuck\" + 0.003*\"robert\" + 0.003*\"jane\" + 0.003*\"catherin\" + 0.003*\"book\"\n",
      "Topic: 0 Word: 0.003*\"alien\" + 0.003*\"jacki\" + 0.002*\"rubi\" + 0.002*\"terri\" + 0.002*\"chip\" + 0.002*\"zombi\" + 0.002*\"jess\" + 0.002*\"marcus\" + 0.002*\"basebal\" + 0.002*\"bat\"\n",
      "Topic: 1 Word: 0.003*\"robot\" + 0.002*\"trevor\" + 0.002*\"rachel\" + 0.002*\"georg\" + 0.002*\"monica\" + 0.002*\"women\" + 0.002*\"kate\" + 0.002*\"vinc\" + 0.002*\"king\" + 0.002*\"franki\"\n",
      "Topic: 2 Word: 0.004*\"maggi\" + 0.003*\"matt\" + 0.003*\"harri\" + 0.003*\"jake\" + 0.002*\"duke\" + 0.002*\"david\" + 0.002*\"villag\" + 0.002*\"sandi\" + 0.002*\"alex\" + 0.002*\"rachel\"\n",
      "Topic: 3 Word: 0.004*\"doug\" + 0.003*\"michael\" + 0.003*\"peter\" + 0.002*\"emili\" + 0.002*\"jack\" + 0.002*\"kate\" + 0.002*\"king\" + 0.002*\"alien\" + 0.002*\"star\" + 0.002*\"ship\"\n",
      "Topic: 4 Word: 0.003*\"charli\" + 0.002*\"chris\" + 0.002*\"georg\" + 0.002*\"nina\" + 0.002*\"band\" + 0.002*\"andi\" + 0.002*\"jill\" + 0.002*\"greg\" + 0.002*\"randi\" + 0.002*\"kate\"\n",
      "Topic: 5 Word: 0.004*\"harri\" + 0.003*\"karen\" + 0.003*\"blake\" + 0.003*\"alex\" + 0.002*\"carolyn\" + 0.002*\"richard\" + 0.002*\"juli\" + 0.002*\"brenda\" + 0.002*\"frank\" + 0.002*\"mari\"\n",
      "Topic: 6 Word: 0.005*\"marcus\" + 0.004*\"jack\" + 0.003*\"johnni\" + 0.002*\"nick\" + 0.002*\"brad\" + 0.002*\"kelli\" + 0.002*\"georg\" + 0.002*\"luci\" + 0.002*\"jimmi\" + 0.002*\"juli\"\n",
      "Topic: 7 Word: 0.005*\"danni\" + 0.003*\"david\" + 0.003*\"jack\" + 0.002*\"clair\" + 0.002*\"nick\" + 0.002*\"peter\" + 0.002*\"jimmi\" + 0.002*\"michael\" + 0.002*\"tyler\" + 0.002*\"jessica\"\n",
      "Topic: 8 Word: 0.003*\"bobbi\" + 0.003*\"paul\" + 0.002*\"alex\" + 0.002*\"marti\" + 0.002*\"henri\" + 0.002*\"edward\" + 0.002*\"grace\" + 0.002*\"charli\" + 0.002*\"eddi\" + 0.002*\"johnni\"\n",
      "Topic: 9 Word: 0.006*\"mike\" + 0.003*\"dave\" + 0.003*\"alic\" + 0.003*\"linda\" + 0.002*\"catherin\" + 0.002*\"jimmi\" + 0.002*\"beth\" + 0.002*\"jess\" + 0.002*\"jack\" + 0.002*\"mari\"\n",
      "Topic: 10 Word: 0.003*\"juli\" + 0.002*\"alex\" + 0.002*\"jane\" + 0.002*\"earth\" + 0.002*\"david\" + 0.002*\"chuck\" + 0.002*\"matt\" + 0.002*\"enterpris\" + 0.002*\"danni\" + 0.002*\"anna\"\n",
      "Topic: 11 Word: 0.008*\"charli\" + 0.004*\"nick\" + 0.004*\"kate\" + 0.003*\"vampir\" + 0.003*\"carl\" + 0.002*\"frank\" + 0.002*\"molli\" + 0.002*\"anna\" + 0.002*\"jack\" + 0.002*\"chris\"\n",
      "Topic: 12 Word: 0.004*\"paul\" + 0.003*\"georg\" + 0.003*\"nick\" + 0.002*\"molli\" + 0.002*\"craig\" + 0.002*\"christin\" + 0.002*\"roger\" + 0.002*\"anim\" + 0.002*\"jack\" + 0.002*\"castl\"\n",
      "Topic: 13 Word: 0.005*\"tommi\" + 0.004*\"jack\" + 0.003*\"casey\" + 0.003*\"anna\" + 0.002*\"scott\" + 0.002*\"jimmi\" + 0.002*\"peter\" + 0.002*\"matt\" + 0.002*\"larri\" + 0.002*\"david\"\n",
      "Topic: 14 Word: 0.003*\"jimmi\" + 0.003*\"ryan\" + 0.003*\"billi\" + 0.003*\"jack\" + 0.003*\"frank\" + 0.003*\"jess\" + 0.002*\"helen\" + 0.002*\"steve\" + 0.002*\"michael\" + 0.002*\"martin\"\n",
      "Topic: 15 Word: 0.005*\"michael\" + 0.002*\"abbi\" + 0.002*\"kate\" + 0.002*\"jessica\" + 0.002*\"diana\" + 0.002*\"oliv\" + 0.002*\"katherin\" + 0.002*\"west\" + 0.002*\"jami\" + 0.002*\"mike\"\n",
      "Topic: 16 Word: 0.003*\"frank\" + 0.003*\"lili\" + 0.003*\"edward\" + 0.002*\"anni\" + 0.002*\"crew\" + 0.002*\"billi\" + 0.002*\"jane\" + 0.002*\"martin\" + 0.002*\"carolin\" + 0.002*\"michael\"\n",
      "Topic: 17 Word: 0.004*\"peter\" + 0.003*\"sarah\" + 0.003*\"rocki\" + 0.003*\"mari\" + 0.003*\"daniel\" + 0.003*\"clair\" + 0.003*\"edward\" + 0.003*\"ryan\" + 0.002*\"luca\" + 0.002*\"charli\"\n",
      "Topic: 18 Word: 0.003*\"jack\" + 0.003*\"peter\" + 0.002*\"jane\" + 0.002*\"elizabeth\" + 0.002*\"carter\" + 0.002*\"harold\" + 0.002*\"claudia\" + 0.002*\"aircraft\" + 0.002*\"henri\" + 0.002*\"mari\"\n",
      "Topic: 19 Word: 0.003*\"frank\" + 0.003*\"billi\" + 0.003*\"bobbi\" + 0.002*\"jack\" + 0.002*\"robert\" + 0.002*\"david\" + 0.002*\"jake\" + 0.002*\"luci\" + 0.002*\"castl\" + 0.002*\"sean\"\n",
      "Topic: 20 Word: 0.003*\"jack\" + 0.003*\"maggi\" + 0.003*\"lisa\" + 0.003*\"alex\" + 0.003*\"josh\" + 0.002*\"michael\" + 0.002*\"mari\" + 0.002*\"sophi\" + 0.002*\"emma\" + 0.002*\"austin\"\n",
      "Topic: 21 Word: 0.003*\"kyle\" + 0.003*\"jimmi\" + 0.003*\"charlott\" + 0.003*\"simon\" + 0.002*\"david\" + 0.002*\"william\" + 0.002*\"billi\" + 0.002*\"luke\" + 0.002*\"sarah\" + 0.002*\"emma\"\n",
      "Topic: 22 Word: 0.003*\"michael\" + 0.003*\"david\" + 0.003*\"derek\" + 0.003*\"ross\" + 0.003*\"mitch\" + 0.002*\"alex\" + 0.002*\"harri\" + 0.002*\"emili\" + 0.002*\"jesus\" + 0.002*\"andi\"\n",
      "\n",
      "Score: 0.35371196269989014\t \n",
      "Topic: 0.004*\"paul\" + 0.003*\"georg\" + 0.003*\"nick\" + 0.002*\"molli\" + 0.002*\"craig\" + 0.002*\"christin\" + 0.002*\"roger\" + 0.002*\"anim\" + 0.002*\"jack\" + 0.002*\"castl\"\n",
      "\n",
      "Score: 0.30698108673095703\t \n",
      "Topic: 0.003*\"bobbi\" + 0.003*\"paul\" + 0.002*\"alex\" + 0.002*\"marti\" + 0.002*\"henri\" + 0.002*\"edward\" + 0.002*\"grace\" + 0.002*\"charli\" + 0.002*\"eddi\" + 0.002*\"johnni\"\n",
      "\n",
      "Score: 0.17796161770820618\t \n",
      "Topic: 0.003*\"jimmi\" + 0.003*\"ryan\" + 0.003*\"billi\" + 0.003*\"jack\" + 0.003*\"frank\" + 0.003*\"jess\" + 0.002*\"helen\" + 0.002*\"steve\" + 0.002*\"michael\" + 0.002*\"martin\"\n",
      "\n",
      "Score: 0.10022100806236267\t \n",
      "Topic: 0.006*\"mike\" + 0.003*\"dave\" + 0.003*\"alic\" + 0.003*\"linda\" + 0.002*\"catherin\" + 0.002*\"jimmi\" + 0.002*\"beth\" + 0.002*\"jess\" + 0.002*\"jack\" + 0.002*\"mari\"\n",
      "\n",
      "Score: 0.024094993248581886\t \n",
      "Topic: 0.003*\"frank\" + 0.003*\"billi\" + 0.003*\"bobbi\" + 0.002*\"jack\" + 0.002*\"robert\" + 0.002*\"david\" + 0.002*\"jake\" + 0.002*\"luci\" + 0.002*\"castl\" + 0.002*\"sean\"\n",
      "\n",
      "Score: 0.02164497785270214\t \n",
      "Topic: 0.004*\"maggi\" + 0.003*\"matt\" + 0.003*\"harri\" + 0.003*\"jake\" + 0.002*\"duke\" + 0.002*\"david\" + 0.002*\"villag\" + 0.002*\"sandi\" + 0.002*\"alex\" + 0.002*\"rachel\"\n",
      "\n",
      "Score: 0.011887948960065842\t \n",
      "Topic: 0.005*\"tommi\" + 0.004*\"jack\" + 0.003*\"casey\" + 0.003*\"anna\" + 0.002*\"scott\" + 0.002*\"jimmi\" + 0.002*\"peter\" + 0.002*\"matt\" + 0.002*\"larri\" + 0.002*\"david\"\n"
     ]
    }
   ],
   "source": [
    "def lemmatize_stemming(text):\n",
    "    return stemmer.stem(WordNetLemmatizer().lemmatize(text, pos='v'))\n",
    "def preprocess(text):\n",
    "    result = []\n",
    "    for token in gensim.utils.simple_preprocess(text):\n",
    "        if token not in gensim.parsing.preprocessing.STOPWORDS and len(token) > 3:\n",
    "            result.append(lemmatize_stemming(token))\n",
    "    return result\n",
    "\n",
    "processed_docs = movies_df_sub['Plot'].map(preprocess)\n",
    "processed_docs[:10]\n",
    "\n",
    "dictionary = gensim.corpora.Dictionary(processed_docs)\n",
    "count = 0\n",
    "for k, v in dictionary.iteritems():\n",
    "    # print(k, v)\n",
    "    count += 1\n",
    "    if count > 15:\n",
    "        break\n",
    "\n",
    "dictionary.filter_extremes(no_below=20, no_above=0.1, keep_n=100000)\n",
    "bow_corpus = [dictionary.doc2bow(doc) for doc in processed_docs]\n",
    "\n",
    "from gensim import corpora, models\n",
    "tfidf = models.TfidfModel(bow_corpus)\n",
    "corpus_tfidf = tfidf[bow_corpus]\n",
    "\n",
    "# from pprint import pprint\n",
    "# for doc in corpus_tfidf:\n",
    "#     pprint(doc)\n",
    "#     break\n",
    "\n",
    "lda_model = gensim.models.LdaMulticore(bow_corpus, num_topics=23, id2word=dictionary, passes=2, workers=4)\n",
    "for idx, topic in lda_model.print_topics(-1):\n",
    "    print('Topic: {} \\nWords: {}'.format(idx, topic))\n",
    "\n",
    "lda_model_tfidf = gensim.models.LdaMulticore(corpus_tfidf, num_topics=23, id2word=dictionary, passes=2, workers=4)\n",
    "for idx, topic in lda_model_tfidf.print_topics(-1):\n",
    "    print('Topic: {} Word: {}'.format(idx, topic))\n",
    "\n",
    "mdiff, annotation = lda_model_tfidf.diff(lda_model_tfidf)\n",
    "for index, score in sorted(lda_model_tfidf[bow_corpus[4]], key=lambda tup: -1*tup[1]):\n",
    "    print(\"\\nScore: {}\\t \\nTopic: {}\".format(score, lda_model_tfidf.print_topic(index, 10)))"
   ],
   "metadata": {
    "collapsed": false,
    "pycharm": {
     "name": "#%%\n"
    }
   }
  },
  {
   "cell_type": "markdown",
   "source": [
    "## Import data for names and replace the character names with string 'character'\n",
    "\n",
    "We find that the topic modeling is affected by the character names.\n",
    "Below we will replace the names with the string 'Character'\n",
    "\n",
    "*Data source: Social Security https://www.ssa.gov/oact/babynames/limits.html*"
   ],
   "metadata": {
    "collapsed": false,
    "pycharm": {
     "name": "#%% md\n"
    }
   }
  },
  {
   "cell_type": "code",
   "execution_count": 251,
   "outputs": [
    {
     "name": "stdout",
     "output_type": "stream",
     "text": [
      "              name gender  count\n",
      "19456          Zoe      M      5\n",
      "11575      Natacia      F      5\n",
      "11574      Nasreen      F      5\n",
      "11573     Nashanda      F      5\n",
      "11572       Narine      F      5\n",
      "...            ...    ...    ...\n",
      "12165        David      M  41920\n",
      "12164        Jason      M  48170\n",
      "12163  Christopher      M  49096\n",
      "0         Jennifer      F  58379\n",
      "12162      Michael      M  68704\n",
      "\n",
      "[19457 rows x 3 columns]\n"
     ]
    }
   ],
   "source": [
    "# filename = '~/Dropbox/Course/PSTAT234/spr21/pstat234-final-project/yob1980.txt'\n",
    "# names = pd.read_csv(filename, delimiter = \",\", header=None)\n",
    "# names.columns = [\"name\", 'gender', 'count']\n",
    "# names.head(5)\n",
    "# names = names.sort_values('count')\n",
    "# # keep the names with more than 1000 counts\n",
    "# # names = names[names['count']>=100]\n",
    "# print(names)"
   ],
   "metadata": {
    "collapsed": false,
    "pycharm": {
     "name": "#%%\n"
    }
   }
  },
  {
   "cell_type": "code",
   "execution_count": 200,
   "outputs": [
    {
     "ename": "NameError",
     "evalue": "name 'names' is not defined",
     "output_type": "error",
     "traceback": [
      "\u001B[0;31m---------------------------------------------------------------------------\u001B[0m",
      "\u001B[0;31mNameError\u001B[0m                                 Traceback (most recent call last)",
      "\u001B[0;32m<ipython-input-200-004a1e3131c2>\u001B[0m in \u001B[0;36m<module>\u001B[0;34m\u001B[0m\n\u001B[0;32m----> 1\u001B[0;31m \u001B[0mname\u001B[0m \u001B[0;34m=\u001B[0m \u001B[0mnames\u001B[0m\u001B[0;34m.\u001B[0m\u001B[0mname\u001B[0m\u001B[0;34m.\u001B[0m\u001B[0mtolist\u001B[0m\u001B[0;34m(\u001B[0m\u001B[0;34m)\u001B[0m\u001B[0;34m\u001B[0m\u001B[0;34m\u001B[0m\u001B[0m\n\u001B[0m\u001B[1;32m      2\u001B[0m \u001B[0;31m# print(name)\u001B[0m\u001B[0;34m\u001B[0m\u001B[0;34m\u001B[0m\u001B[0;34m\u001B[0m\u001B[0m\n\u001B[1;32m      3\u001B[0m \u001B[0;34m'Alice'\u001B[0m \u001B[0;32min\u001B[0m \u001B[0mname\u001B[0m\u001B[0;34m\u001B[0m\u001B[0;34m\u001B[0m\u001B[0m\n\u001B[1;32m      4\u001B[0m \u001B[0;34m\u001B[0m\u001B[0m\n",
      "\u001B[0;31mNameError\u001B[0m: name 'names' is not defined"
     ]
    }
   ],
   "source": [
    "# name = names.name.tolist()\n",
    "# # print(name)\n",
    "# 'Alice' in name"
   ],
   "metadata": {
    "collapsed": false,
    "pycharm": {
     "name": "#%%\n"
    }
   }
  },
  {
   "cell_type": "code",
   "execution_count": 249,
   "outputs": [],
   "source": [
    "# load names.zip which has more names data txt files\n",
    "import zipfile\n",
    "with zipfile.ZipFile('/Users/aj/Dropbox/Course/PSTAT234/spr21/pstat234-final-project/names.zip', 'r') as zip_ref:\n",
    "    zip_ref.extractall('names/')"
   ],
   "metadata": {
    "collapsed": false,
    "pycharm": {
     "name": "#%%\n"
    }
   }
  },
  {
   "cell_type": "code",
   "execution_count": 250,
   "outputs": [],
   "source": [
    "from pathlib import Path\n",
    "\n",
    "allnames_files = Path('names').glob('yob*')\n",
    "# print(allnames_files)\n",
    "# allnames_files.sort()\n",
    "allnames_list = list()\n",
    "\n",
    "for f in allnames_files:\n",
    "    step_1 = pd.read_csv(f, delimiter = ',', header=None)\n",
    "    allnames_list.append(step_1)\n",
    "allnames = pd.concat(allnames_list)\n",
    "allnames.columns = [\"name\", 'gender', 'count']\n",
    "allnames.shape\n",
    "# drop gender and aggregate the counts groupby names\n",
    "allnames.drop(['gender'], axis = 1, inplace = True)"
   ],
   "metadata": {
    "collapsed": false,
    "pycharm": {
     "name": "#%%\n"
    }
   }
  },
  {
   "cell_type": "code",
   "execution_count": 251,
   "outputs": [
    {
     "data": {
      "text/plain": "         totalcount\ncount  2.020863e+06\nmean   3.401396e+04\nstd    1.910011e+05\nmin    5.000000e+00\n25%    2.540000e+02\n50%    9.560000e+02\n75%    5.048000e+03\nmax    5.213689e+06",
      "text/html": "<div>\n<style scoped>\n    .dataframe tbody tr th:only-of-type {\n        vertical-align: middle;\n    }\n\n    .dataframe tbody tr th {\n        vertical-align: top;\n    }\n\n    .dataframe thead th {\n        text-align: right;\n    }\n</style>\n<table border=\"1\" class=\"dataframe\">\n  <thead>\n    <tr style=\"text-align: right;\">\n      <th></th>\n      <th>totalcount</th>\n    </tr>\n  </thead>\n  <tbody>\n    <tr>\n      <th>count</th>\n      <td>2.020863e+06</td>\n    </tr>\n    <tr>\n      <th>mean</th>\n      <td>3.401396e+04</td>\n    </tr>\n    <tr>\n      <th>std</th>\n      <td>1.910011e+05</td>\n    </tr>\n    <tr>\n      <th>min</th>\n      <td>5.000000e+00</td>\n    </tr>\n    <tr>\n      <th>25%</th>\n      <td>2.540000e+02</td>\n    </tr>\n    <tr>\n      <th>50%</th>\n      <td>9.560000e+02</td>\n    </tr>\n    <tr>\n      <th>75%</th>\n      <td>5.048000e+03</td>\n    </tr>\n    <tr>\n      <th>max</th>\n      <td>5.213689e+06</td>\n    </tr>\n  </tbody>\n</table>\n</div>"
     },
     "execution_count": 251,
     "metadata": {},
     "output_type": "execute_result"
    }
   ],
   "source": [
    "# allnames.dtypes\n",
    "allnames['totalcount'] = allnames['count'].\\\n",
    "    groupby(allnames['name']).transform('sum')\n",
    "allnames.drop('count', axis = 1, inplace=True)\n",
    "allnames.head\n",
    "allnames.describe()"
   ],
   "metadata": {
    "collapsed": false,
    "pycharm": {
     "name": "#%%\n"
    }
   }
  },
  {
   "cell_type": "code",
   "execution_count": 252,
   "outputs": [
    {
     "data": {
      "text/plain": "         name  totalcount\n3359    James     5213689\n4466     John     5163958\n5114   Robert     4849738\n1567  Michael     4405274\n3521  William     4159868",
      "text/html": "<div>\n<style scoped>\n    .dataframe tbody tr th:only-of-type {\n        vertical-align: middle;\n    }\n\n    .dataframe tbody tr th {\n        vertical-align: top;\n    }\n\n    .dataframe thead th {\n        text-align: right;\n    }\n</style>\n<table border=\"1\" class=\"dataframe\">\n  <thead>\n    <tr style=\"text-align: right;\">\n      <th></th>\n      <th>name</th>\n      <th>totalcount</th>\n    </tr>\n  </thead>\n  <tbody>\n    <tr>\n      <th>3359</th>\n      <td>James</td>\n      <td>5213689</td>\n    </tr>\n    <tr>\n      <th>4466</th>\n      <td>John</td>\n      <td>5163958</td>\n    </tr>\n    <tr>\n      <th>5114</th>\n      <td>Robert</td>\n      <td>4849738</td>\n    </tr>\n    <tr>\n      <th>1567</th>\n      <td>Michael</td>\n      <td>4405274</td>\n    </tr>\n    <tr>\n      <th>3521</th>\n      <td>William</td>\n      <td>4159868</td>\n    </tr>\n  </tbody>\n</table>\n</div>"
     },
     "execution_count": 252,
     "metadata": {},
     "output_type": "execute_result"
    }
   ],
   "source": [
    "# drop duplicates and keep only the names with count larger than 100\n",
    "allnames.drop_duplicates(subset='name', inplace= True)\n",
    "allnames = allnames.sort_values(by = ['totalcount'], ascending=False)\n",
    "# allnames = allnames[allnames['totalcount']>=5000]\n",
    "allnames.head()\n",
    "# there are in total 100364 unique names in the dataset, we will use \\\n",
    "# top 2000 names by the totalcount"
   ],
   "metadata": {
    "collapsed": false,
    "pycharm": {
     "name": "#%%\n"
    }
   }
  },
  {
   "cell_type": "markdown",
   "source": [
    "replace every name in the plot with character"
   ],
   "metadata": {
    "collapsed": false,
    "pycharm": {
     "name": "#%% md\n"
    }
   }
  },
  {
   "cell_type": "code",
   "execution_count": 233,
   "outputs": [
    {
     "ename": "TypeError",
     "evalue": "'Series' object is not callable",
     "output_type": "error",
     "traceback": [
      "\u001B[0;31m---------------------------------------------------------------------------\u001B[0m",
      "\u001B[0;31mTypeError\u001B[0m                                 Traceback (most recent call last)",
      "\u001B[0;32m<ipython-input-233-69bae71a3a30>\u001B[0m in \u001B[0;36m<module>\u001B[0;34m\u001B[0m\n\u001B[1;32m      3\u001B[0m     \u001B[0;32mfor\u001B[0m \u001B[0mtag\u001B[0m \u001B[0;32min\u001B[0m \u001B[0mname\u001B[0m\u001B[0;34m:\u001B[0m\u001B[0;34m\u001B[0m\u001B[0;34m\u001B[0m\u001B[0m\n\u001B[1;32m      4\u001B[0m         \u001B[0mmovies_df_sub\u001B[0m\u001B[0;34m.\u001B[0m\u001B[0mPlot\u001B[0m\u001B[0;34m[\u001B[0m\u001B[0mi\u001B[0m\u001B[0;34m]\u001B[0m \u001B[0;34m=\u001B[0m \u001B[0mre\u001B[0m\u001B[0;34m.\u001B[0m\u001B[0msub\u001B[0m\u001B[0;34m(\u001B[0m\u001B[0;34mr'\\b'\u001B[0m \u001B[0;34m+\u001B[0m \u001B[0mtag\u001B[0m \u001B[0;34m+\u001B[0m \u001B[0;34mr'\\b'\u001B[0m\u001B[0;34m,\u001B[0m \u001B[0;34m'Character'\u001B[0m\u001B[0;34m,\u001B[0m \u001B[0mmovies_df_sub\u001B[0m\u001B[0;34m.\u001B[0m\u001B[0mPlot\u001B[0m\u001B[0;34m[\u001B[0m\u001B[0mi\u001B[0m\u001B[0;34m]\u001B[0m\u001B[0;34m)\u001B[0m\u001B[0;34m\u001B[0m\u001B[0;34m\u001B[0m\u001B[0m\n\u001B[0;32m----> 5\u001B[0;31m \u001B[0mprint\u001B[0m\u001B[0;34m(\u001B[0m\u001B[0mmovies_df_sub\u001B[0m\u001B[0;34m.\u001B[0m\u001B[0mPlot\u001B[0m\u001B[0;34m(\u001B[0m\u001B[0;36m5\u001B[0m\u001B[0;34m)\u001B[0m\u001B[0;34m)\u001B[0m\u001B[0;34m\u001B[0m\u001B[0;34m\u001B[0m\u001B[0m\n\u001B[0m\u001B[1;32m      6\u001B[0m \u001B[0;31m# Plot.to_csv('test.csv', index=False)\u001B[0m\u001B[0;34m\u001B[0m\u001B[0;34m\u001B[0m\u001B[0;34m\u001B[0m\u001B[0m\n\u001B[1;32m      7\u001B[0m \u001B[0;34m\u001B[0m\u001B[0m\n",
      "\u001B[0;31mTypeError\u001B[0m: 'Series' object is not callable"
     ]
    }
   ],
   "source": [
    "# # DO NOT NEED TO RUN\n",
    "# # ALERT: THIS CELL TAKES VERY LONG TO RUN\n",
    "# # The name is a list from the names data of yob1980.txt\n",
    "# for i in movies_df_sub.index:\n",
    "#     for tag in name:\n",
    "#         movies_df_sub.Plot[i] = re.sub(r'\\b' + tag + r'\\b', 'Character', movies_df_sub.Plot[i])\n",
    "#\n",
    "# # Plot.to_csv('test.csv', index=False)"
   ],
   "metadata": {
    "collapsed": false,
    "pycharm": {
     "name": "#%%\n"
    }
   }
  },
  {
   "cell_type": "code",
   "execution_count": null,
   "outputs": [],
   "source": [
    "%%time\n",
    "# # DO NOT NEED TO RUN\n",
    "# ALERT: THIS CELL TAKES EVEN LONGER TO RUN\n",
    "# The name is a list from the all names data\n",
    "# there are in total 100364 unique names in the dataset, we will use \\\n",
    "# top 2000 names by the totalcount\n",
    "name = allnames.name.to_list()\n",
    "for i in movies_df_sub.index:\n",
    "    for tag in name[:2000]:\n",
    "        movies_df_sub.Plot[i] = re.sub(r'\\b' + tag + r'\\b', 'Character', movies_df_sub.Plot[i])"
   ],
   "metadata": {
    "collapsed": false,
    "pycharm": {
     "name": "#%%\n",
     "is_executing": true
    }
   }
  },
  {
   "cell_type": "code",
   "execution_count": 146,
   "outputs": [],
   "source": [
    "# save the new movie plot to data\n",
    "movies_df_sub.to_csv('replaced_character_movie_plots.csv', index=False)"
   ],
   "metadata": {
    "collapsed": false,
    "pycharm": {
     "name": "#%%\n"
    }
   }
  },
  {
   "cell_type": "code",
   "execution_count": null,
   "outputs": [],
   "source": [
    "# replace the plots with the rest of the names\n",
    "for i in movies_df_sub.index:\n",
    "    for tag in name[:400]:\n",
    "        movies_df_sub.Plot[i] = re.sub(r'\\b' + tag + r'\\b', 'Character', movies_df_sub.Plot[i])"
   ],
   "metadata": {
    "collapsed": false,
    "pycharm": {
     "name": "#%%\n"
    }
   }
  },
  {
   "cell_type": "code",
   "execution_count": 106,
   "outputs": [
    {
     "name": "stdout",
     "output_type": "stream",
     "text": [
      "CPU times: user 4.85 s, sys: 62.3 ms, total: 4.91 s\n",
      "Wall time: 4.91 s\n"
     ]
    }
   ],
   "source": [
    "# %%time\n",
    "# name = allnames.name.to_list()\n",
    "# for tag in name[:100]:\n",
    "#     # print(tag)\n",
    "#     nameexp = re.compile(r'\\b'+tag+r'\\b')\n",
    "#     for i in movies_df_sub.index[:100]:\n",
    "#         movies_df_sub.Plot[i] = nameexp.sub('Character', movies_df_sub.Plot[i])"
   ],
   "metadata": {
    "collapsed": false,
    "pycharm": {
     "name": "#%%\n"
    }
   }
  },
  {
   "cell_type": "code",
   "execution_count": 114,
   "outputs": [
    {
     "ename": "KeyboardInterrupt",
     "evalue": "",
     "output_type": "error",
     "traceback": [
      "\u001B[0;31m---------------------------------------------------------------------------\u001B[0m",
      "\u001B[0;31mKeyboardInterrupt\u001B[0m                         Traceback (most recent call last)",
      "\u001B[0;32m<timed exec>\u001B[0m in \u001B[0;36m<module>\u001B[0;34m\u001B[0m\n",
      "\u001B[0;32m/Library/Frameworks/Python.framework/Versions/3.9/lib/python3.9/multiprocessing/pool.py\u001B[0m in \u001B[0;36mmap\u001B[0;34m(self, func, iterable, chunksize)\u001B[0m\n\u001B[1;32m    362\u001B[0m         \u001B[0;32min\u001B[0m \u001B[0ma\u001B[0m \u001B[0mlist\u001B[0m \u001B[0mthat\u001B[0m \u001B[0;32mis\u001B[0m \u001B[0mreturned\u001B[0m\u001B[0;34m.\u001B[0m\u001B[0;34m\u001B[0m\u001B[0;34m\u001B[0m\u001B[0m\n\u001B[1;32m    363\u001B[0m         '''\n\u001B[0;32m--> 364\u001B[0;31m         \u001B[0;32mreturn\u001B[0m \u001B[0mself\u001B[0m\u001B[0;34m.\u001B[0m\u001B[0m_map_async\u001B[0m\u001B[0;34m(\u001B[0m\u001B[0mfunc\u001B[0m\u001B[0;34m,\u001B[0m \u001B[0miterable\u001B[0m\u001B[0;34m,\u001B[0m \u001B[0mmapstar\u001B[0m\u001B[0;34m,\u001B[0m \u001B[0mchunksize\u001B[0m\u001B[0;34m)\u001B[0m\u001B[0;34m.\u001B[0m\u001B[0mget\u001B[0m\u001B[0;34m(\u001B[0m\u001B[0;34m)\u001B[0m\u001B[0;34m\u001B[0m\u001B[0;34m\u001B[0m\u001B[0m\n\u001B[0m\u001B[1;32m    365\u001B[0m \u001B[0;34m\u001B[0m\u001B[0m\n\u001B[1;32m    366\u001B[0m     \u001B[0;32mdef\u001B[0m \u001B[0mstarmap\u001B[0m\u001B[0;34m(\u001B[0m\u001B[0mself\u001B[0m\u001B[0;34m,\u001B[0m \u001B[0mfunc\u001B[0m\u001B[0;34m,\u001B[0m \u001B[0miterable\u001B[0m\u001B[0;34m,\u001B[0m \u001B[0mchunksize\u001B[0m\u001B[0;34m=\u001B[0m\u001B[0;32mNone\u001B[0m\u001B[0;34m)\u001B[0m\u001B[0;34m:\u001B[0m\u001B[0;34m\u001B[0m\u001B[0;34m\u001B[0m\u001B[0m\n",
      "\u001B[0;32m/Library/Frameworks/Python.framework/Versions/3.9/lib/python3.9/multiprocessing/pool.py\u001B[0m in \u001B[0;36mget\u001B[0;34m(self, timeout)\u001B[0m\n\u001B[1;32m    763\u001B[0m \u001B[0;34m\u001B[0m\u001B[0m\n\u001B[1;32m    764\u001B[0m     \u001B[0;32mdef\u001B[0m \u001B[0mget\u001B[0m\u001B[0;34m(\u001B[0m\u001B[0mself\u001B[0m\u001B[0;34m,\u001B[0m \u001B[0mtimeout\u001B[0m\u001B[0;34m=\u001B[0m\u001B[0;32mNone\u001B[0m\u001B[0;34m)\u001B[0m\u001B[0;34m:\u001B[0m\u001B[0;34m\u001B[0m\u001B[0;34m\u001B[0m\u001B[0m\n\u001B[0;32m--> 765\u001B[0;31m         \u001B[0mself\u001B[0m\u001B[0;34m.\u001B[0m\u001B[0mwait\u001B[0m\u001B[0;34m(\u001B[0m\u001B[0mtimeout\u001B[0m\u001B[0;34m)\u001B[0m\u001B[0;34m\u001B[0m\u001B[0;34m\u001B[0m\u001B[0m\n\u001B[0m\u001B[1;32m    766\u001B[0m         \u001B[0;32mif\u001B[0m \u001B[0;32mnot\u001B[0m \u001B[0mself\u001B[0m\u001B[0;34m.\u001B[0m\u001B[0mready\u001B[0m\u001B[0;34m(\u001B[0m\u001B[0;34m)\u001B[0m\u001B[0;34m:\u001B[0m\u001B[0;34m\u001B[0m\u001B[0;34m\u001B[0m\u001B[0m\n\u001B[1;32m    767\u001B[0m             \u001B[0;32mraise\u001B[0m \u001B[0mTimeoutError\u001B[0m\u001B[0;34m\u001B[0m\u001B[0;34m\u001B[0m\u001B[0m\n",
      "\u001B[0;32m/Library/Frameworks/Python.framework/Versions/3.9/lib/python3.9/multiprocessing/pool.py\u001B[0m in \u001B[0;36mwait\u001B[0;34m(self, timeout)\u001B[0m\n\u001B[1;32m    760\u001B[0m \u001B[0;34m\u001B[0m\u001B[0m\n\u001B[1;32m    761\u001B[0m     \u001B[0;32mdef\u001B[0m \u001B[0mwait\u001B[0m\u001B[0;34m(\u001B[0m\u001B[0mself\u001B[0m\u001B[0;34m,\u001B[0m \u001B[0mtimeout\u001B[0m\u001B[0;34m=\u001B[0m\u001B[0;32mNone\u001B[0m\u001B[0;34m)\u001B[0m\u001B[0;34m:\u001B[0m\u001B[0;34m\u001B[0m\u001B[0;34m\u001B[0m\u001B[0m\n\u001B[0;32m--> 762\u001B[0;31m         \u001B[0mself\u001B[0m\u001B[0;34m.\u001B[0m\u001B[0m_event\u001B[0m\u001B[0;34m.\u001B[0m\u001B[0mwait\u001B[0m\u001B[0;34m(\u001B[0m\u001B[0mtimeout\u001B[0m\u001B[0;34m)\u001B[0m\u001B[0;34m\u001B[0m\u001B[0;34m\u001B[0m\u001B[0m\n\u001B[0m\u001B[1;32m    763\u001B[0m \u001B[0;34m\u001B[0m\u001B[0m\n\u001B[1;32m    764\u001B[0m     \u001B[0;32mdef\u001B[0m \u001B[0mget\u001B[0m\u001B[0;34m(\u001B[0m\u001B[0mself\u001B[0m\u001B[0;34m,\u001B[0m \u001B[0mtimeout\u001B[0m\u001B[0;34m=\u001B[0m\u001B[0;32mNone\u001B[0m\u001B[0;34m)\u001B[0m\u001B[0;34m:\u001B[0m\u001B[0;34m\u001B[0m\u001B[0;34m\u001B[0m\u001B[0m\n",
      "\u001B[0;32m/Library/Frameworks/Python.framework/Versions/3.9/lib/python3.9/threading.py\u001B[0m in \u001B[0;36mwait\u001B[0;34m(self, timeout)\u001B[0m\n\u001B[1;32m    572\u001B[0m             \u001B[0msignaled\u001B[0m \u001B[0;34m=\u001B[0m \u001B[0mself\u001B[0m\u001B[0;34m.\u001B[0m\u001B[0m_flag\u001B[0m\u001B[0;34m\u001B[0m\u001B[0;34m\u001B[0m\u001B[0m\n\u001B[1;32m    573\u001B[0m             \u001B[0;32mif\u001B[0m \u001B[0;32mnot\u001B[0m \u001B[0msignaled\u001B[0m\u001B[0;34m:\u001B[0m\u001B[0;34m\u001B[0m\u001B[0;34m\u001B[0m\u001B[0m\n\u001B[0;32m--> 574\u001B[0;31m                 \u001B[0msignaled\u001B[0m \u001B[0;34m=\u001B[0m \u001B[0mself\u001B[0m\u001B[0;34m.\u001B[0m\u001B[0m_cond\u001B[0m\u001B[0;34m.\u001B[0m\u001B[0mwait\u001B[0m\u001B[0;34m(\u001B[0m\u001B[0mtimeout\u001B[0m\u001B[0;34m)\u001B[0m\u001B[0;34m\u001B[0m\u001B[0;34m\u001B[0m\u001B[0m\n\u001B[0m\u001B[1;32m    575\u001B[0m             \u001B[0;32mreturn\u001B[0m \u001B[0msignaled\u001B[0m\u001B[0;34m\u001B[0m\u001B[0;34m\u001B[0m\u001B[0m\n\u001B[1;32m    576\u001B[0m \u001B[0;34m\u001B[0m\u001B[0m\n",
      "\u001B[0;32m/Library/Frameworks/Python.framework/Versions/3.9/lib/python3.9/threading.py\u001B[0m in \u001B[0;36mwait\u001B[0;34m(self, timeout)\u001B[0m\n\u001B[1;32m    310\u001B[0m         \u001B[0;32mtry\u001B[0m\u001B[0;34m:\u001B[0m    \u001B[0;31m# restore state no matter what (e.g., KeyboardInterrupt)\u001B[0m\u001B[0;34m\u001B[0m\u001B[0;34m\u001B[0m\u001B[0m\n\u001B[1;32m    311\u001B[0m             \u001B[0;32mif\u001B[0m \u001B[0mtimeout\u001B[0m \u001B[0;32mis\u001B[0m \u001B[0;32mNone\u001B[0m\u001B[0;34m:\u001B[0m\u001B[0;34m\u001B[0m\u001B[0;34m\u001B[0m\u001B[0m\n\u001B[0;32m--> 312\u001B[0;31m                 \u001B[0mwaiter\u001B[0m\u001B[0;34m.\u001B[0m\u001B[0macquire\u001B[0m\u001B[0;34m(\u001B[0m\u001B[0;34m)\u001B[0m\u001B[0;34m\u001B[0m\u001B[0;34m\u001B[0m\u001B[0m\n\u001B[0m\u001B[1;32m    313\u001B[0m                 \u001B[0mgotit\u001B[0m \u001B[0;34m=\u001B[0m \u001B[0;32mTrue\u001B[0m\u001B[0;34m\u001B[0m\u001B[0;34m\u001B[0m\u001B[0m\n\u001B[1;32m    314\u001B[0m             \u001B[0;32melse\u001B[0m\u001B[0;34m:\u001B[0m\u001B[0;34m\u001B[0m\u001B[0;34m\u001B[0m\u001B[0m\n",
      "\u001B[0;31mKeyboardInterrupt\u001B[0m: "
     ]
    },
    {
     "ename": "KeyboardInterrupt",
     "evalue": "",
     "output_type": "error",
     "traceback": [
      "\u001B[0;31m---------------------------------------------------------------------------\u001B[0m",
      "\u001B[0;31mKeyboardInterrupt\u001B[0m                         Traceback (most recent call last)",
      "\u001B[0;32m<timed exec>\u001B[0m in \u001B[0;36m<module>\u001B[0;34m\u001B[0m\n",
      "\u001B[0;32m/Library/Frameworks/Python.framework/Versions/3.9/lib/python3.9/multiprocessing/pool.py\u001B[0m in \u001B[0;36mmap\u001B[0;34m(self, func, iterable, chunksize)\u001B[0m\n\u001B[1;32m    362\u001B[0m         \u001B[0;32min\u001B[0m \u001B[0ma\u001B[0m \u001B[0mlist\u001B[0m \u001B[0mthat\u001B[0m \u001B[0;32mis\u001B[0m \u001B[0mreturned\u001B[0m\u001B[0;34m.\u001B[0m\u001B[0;34m\u001B[0m\u001B[0;34m\u001B[0m\u001B[0m\n\u001B[1;32m    363\u001B[0m         '''\n\u001B[0;32m--> 364\u001B[0;31m         \u001B[0;32mreturn\u001B[0m \u001B[0mself\u001B[0m\u001B[0;34m.\u001B[0m\u001B[0m_map_async\u001B[0m\u001B[0;34m(\u001B[0m\u001B[0mfunc\u001B[0m\u001B[0;34m,\u001B[0m \u001B[0miterable\u001B[0m\u001B[0;34m,\u001B[0m \u001B[0mmapstar\u001B[0m\u001B[0;34m,\u001B[0m \u001B[0mchunksize\u001B[0m\u001B[0;34m)\u001B[0m\u001B[0;34m.\u001B[0m\u001B[0mget\u001B[0m\u001B[0;34m(\u001B[0m\u001B[0;34m)\u001B[0m\u001B[0;34m\u001B[0m\u001B[0;34m\u001B[0m\u001B[0m\n\u001B[0m\u001B[1;32m    365\u001B[0m \u001B[0;34m\u001B[0m\u001B[0m\n\u001B[1;32m    366\u001B[0m     \u001B[0;32mdef\u001B[0m \u001B[0mstarmap\u001B[0m\u001B[0;34m(\u001B[0m\u001B[0mself\u001B[0m\u001B[0;34m,\u001B[0m \u001B[0mfunc\u001B[0m\u001B[0;34m,\u001B[0m \u001B[0miterable\u001B[0m\u001B[0;34m,\u001B[0m \u001B[0mchunksize\u001B[0m\u001B[0;34m=\u001B[0m\u001B[0;32mNone\u001B[0m\u001B[0;34m)\u001B[0m\u001B[0;34m:\u001B[0m\u001B[0;34m\u001B[0m\u001B[0;34m\u001B[0m\u001B[0m\n",
      "\u001B[0;32m/Library/Frameworks/Python.framework/Versions/3.9/lib/python3.9/multiprocessing/pool.py\u001B[0m in \u001B[0;36mget\u001B[0;34m(self, timeout)\u001B[0m\n\u001B[1;32m    763\u001B[0m \u001B[0;34m\u001B[0m\u001B[0m\n\u001B[1;32m    764\u001B[0m     \u001B[0;32mdef\u001B[0m \u001B[0mget\u001B[0m\u001B[0;34m(\u001B[0m\u001B[0mself\u001B[0m\u001B[0;34m,\u001B[0m \u001B[0mtimeout\u001B[0m\u001B[0;34m=\u001B[0m\u001B[0;32mNone\u001B[0m\u001B[0;34m)\u001B[0m\u001B[0;34m:\u001B[0m\u001B[0;34m\u001B[0m\u001B[0;34m\u001B[0m\u001B[0m\n\u001B[0;32m--> 765\u001B[0;31m         \u001B[0mself\u001B[0m\u001B[0;34m.\u001B[0m\u001B[0mwait\u001B[0m\u001B[0;34m(\u001B[0m\u001B[0mtimeout\u001B[0m\u001B[0;34m)\u001B[0m\u001B[0;34m\u001B[0m\u001B[0;34m\u001B[0m\u001B[0m\n\u001B[0m\u001B[1;32m    766\u001B[0m         \u001B[0;32mif\u001B[0m \u001B[0;32mnot\u001B[0m \u001B[0mself\u001B[0m\u001B[0;34m.\u001B[0m\u001B[0mready\u001B[0m\u001B[0;34m(\u001B[0m\u001B[0;34m)\u001B[0m\u001B[0;34m:\u001B[0m\u001B[0;34m\u001B[0m\u001B[0;34m\u001B[0m\u001B[0m\n\u001B[1;32m    767\u001B[0m             \u001B[0;32mraise\u001B[0m \u001B[0mTimeoutError\u001B[0m\u001B[0;34m\u001B[0m\u001B[0;34m\u001B[0m\u001B[0m\n",
      "\u001B[0;32m/Library/Frameworks/Python.framework/Versions/3.9/lib/python3.9/multiprocessing/pool.py\u001B[0m in \u001B[0;36mwait\u001B[0;34m(self, timeout)\u001B[0m\n\u001B[1;32m    760\u001B[0m \u001B[0;34m\u001B[0m\u001B[0m\n\u001B[1;32m    761\u001B[0m     \u001B[0;32mdef\u001B[0m \u001B[0mwait\u001B[0m\u001B[0;34m(\u001B[0m\u001B[0mself\u001B[0m\u001B[0;34m,\u001B[0m \u001B[0mtimeout\u001B[0m\u001B[0;34m=\u001B[0m\u001B[0;32mNone\u001B[0m\u001B[0;34m)\u001B[0m\u001B[0;34m:\u001B[0m\u001B[0;34m\u001B[0m\u001B[0;34m\u001B[0m\u001B[0m\n\u001B[0;32m--> 762\u001B[0;31m         \u001B[0mself\u001B[0m\u001B[0;34m.\u001B[0m\u001B[0m_event\u001B[0m\u001B[0;34m.\u001B[0m\u001B[0mwait\u001B[0m\u001B[0;34m(\u001B[0m\u001B[0mtimeout\u001B[0m\u001B[0;34m)\u001B[0m\u001B[0;34m\u001B[0m\u001B[0;34m\u001B[0m\u001B[0m\n\u001B[0m\u001B[1;32m    763\u001B[0m \u001B[0;34m\u001B[0m\u001B[0m\n\u001B[1;32m    764\u001B[0m     \u001B[0;32mdef\u001B[0m \u001B[0mget\u001B[0m\u001B[0;34m(\u001B[0m\u001B[0mself\u001B[0m\u001B[0;34m,\u001B[0m \u001B[0mtimeout\u001B[0m\u001B[0;34m=\u001B[0m\u001B[0;32mNone\u001B[0m\u001B[0;34m)\u001B[0m\u001B[0;34m:\u001B[0m\u001B[0;34m\u001B[0m\u001B[0;34m\u001B[0m\u001B[0m\n",
      "\u001B[0;32m/Library/Frameworks/Python.framework/Versions/3.9/lib/python3.9/threading.py\u001B[0m in \u001B[0;36mwait\u001B[0;34m(self, timeout)\u001B[0m\n\u001B[1;32m    572\u001B[0m             \u001B[0msignaled\u001B[0m \u001B[0;34m=\u001B[0m \u001B[0mself\u001B[0m\u001B[0;34m.\u001B[0m\u001B[0m_flag\u001B[0m\u001B[0;34m\u001B[0m\u001B[0;34m\u001B[0m\u001B[0m\n\u001B[1;32m    573\u001B[0m             \u001B[0;32mif\u001B[0m \u001B[0;32mnot\u001B[0m \u001B[0msignaled\u001B[0m\u001B[0;34m:\u001B[0m\u001B[0;34m\u001B[0m\u001B[0;34m\u001B[0m\u001B[0m\n\u001B[0;32m--> 574\u001B[0;31m                 \u001B[0msignaled\u001B[0m \u001B[0;34m=\u001B[0m \u001B[0mself\u001B[0m\u001B[0;34m.\u001B[0m\u001B[0m_cond\u001B[0m\u001B[0;34m.\u001B[0m\u001B[0mwait\u001B[0m\u001B[0;34m(\u001B[0m\u001B[0mtimeout\u001B[0m\u001B[0;34m)\u001B[0m\u001B[0;34m\u001B[0m\u001B[0;34m\u001B[0m\u001B[0m\n\u001B[0m\u001B[1;32m    575\u001B[0m             \u001B[0;32mreturn\u001B[0m \u001B[0msignaled\u001B[0m\u001B[0;34m\u001B[0m\u001B[0;34m\u001B[0m\u001B[0m\n\u001B[1;32m    576\u001B[0m \u001B[0;34m\u001B[0m\u001B[0m\n",
      "\u001B[0;32m/Library/Frameworks/Python.framework/Versions/3.9/lib/python3.9/threading.py\u001B[0m in \u001B[0;36mwait\u001B[0;34m(self, timeout)\u001B[0m\n\u001B[1;32m    310\u001B[0m         \u001B[0;32mtry\u001B[0m\u001B[0;34m:\u001B[0m    \u001B[0;31m# restore state no matter what (e.g., KeyboardInterrupt)\u001B[0m\u001B[0;34m\u001B[0m\u001B[0;34m\u001B[0m\u001B[0m\n\u001B[1;32m    311\u001B[0m             \u001B[0;32mif\u001B[0m \u001B[0mtimeout\u001B[0m \u001B[0;32mis\u001B[0m \u001B[0;32mNone\u001B[0m\u001B[0;34m:\u001B[0m\u001B[0;34m\u001B[0m\u001B[0;34m\u001B[0m\u001B[0m\n\u001B[0;32m--> 312\u001B[0;31m                 \u001B[0mwaiter\u001B[0m\u001B[0;34m.\u001B[0m\u001B[0macquire\u001B[0m\u001B[0;34m(\u001B[0m\u001B[0;34m)\u001B[0m\u001B[0;34m\u001B[0m\u001B[0;34m\u001B[0m\u001B[0m\n\u001B[0m\u001B[1;32m    313\u001B[0m                 \u001B[0mgotit\u001B[0m \u001B[0;34m=\u001B[0m \u001B[0;32mTrue\u001B[0m\u001B[0;34m\u001B[0m\u001B[0;34m\u001B[0m\u001B[0m\n\u001B[1;32m    314\u001B[0m             \u001B[0;32melse\u001B[0m\u001B[0;34m:\u001B[0m\u001B[0;34m\u001B[0m\u001B[0;34m\u001B[0m\u001B[0m\n",
      "\u001B[0;31mKeyboardInterrupt\u001B[0m: "
     ]
    }
   ],
   "source": [
    "# %%time\n",
    "# from multiprocessing import Pool\n",
    "#\n",
    "# name = allnames.name.to_list()\n",
    "#\n",
    "# def f(x):\n",
    "#     for tag in name[:5]:\n",
    "#         re.sub(r'\\b' + tag + r'\\b', 'Character', x)\n",
    "#\n",
    "# if __name__ == '__main__':\n",
    "#     with Pool(4) as p:\n",
    "#         p.map(f, movies_df_sub.Plot[:5])\n"
   ],
   "metadata": {
    "collapsed": false,
    "pycharm": {
     "name": "#%%\n"
    }
   }
  },
  {
   "cell_type": "markdown",
   "source": [
    "TF-IDF with the updated plot summaries"
   ],
   "metadata": {
    "collapsed": false,
    "pycharm": {
     "name": "#%% md\n"
    }
   }
  },
  {
   "cell_type": "markdown",
   "source": [
    "load the data for updated plots"
   ],
   "metadata": {
    "collapsed": false,
    "pycharm": {
     "name": "#%% md\n"
    }
   }
  },
  {
   "cell_type": "code",
   "execution_count": 165,
   "outputs": [
    {
     "data": {
      "text/plain": "'Character follows a large white rabbit down a \"Rabbit-hole\". She finds a tiny door. When she finds a bottle labeled \"Drink me\", she does, and shrinks, but not enough to pass through the door. She then eats something labeled \"Eat me\" and grows larger. She finds a fan when enables her to shrink enough to get into the \"Garden\" and try to get a \"Dog\" to play with her. She enters the \"White Rabbit\\'s tiny House,\" but suddenly resumes her normal size. In order to get out, she has to use the \"magic fan.\"\\r\\nShe enters a kitchen, in which there is a cook and a woman holding a baby. She persuades the woman to give her the child and takes the infant outside after the cook starts throwing things around. The baby then turns into a pig and squirms out of her grip. \"The Duchess\\'s Cheshire Cat\" appears and disappears a couple of times to Character and directs her to the Mad Hatter\\'s \"Mad Tea-Party.\" After a while, she leaves.\\r\\nThe Character invites Character to join the \"ROYAL PROCESSION\": a parade of marching playing cards and others headed by the White Rabbit. When Character \"unintentionally offends the Character\", the latter summons the \"Executioner\". Character \"boxes the ears\", then flees when all the playing cards come for her. Then she wakes up and realizes it was all a dream.'"
     },
     "execution_count": 165,
     "metadata": {},
     "output_type": "execute_result"
    }
   ],
   "source": [
    "new_movies_df = pd.read_csv(\"replaced_character_movie_plots.csv\")\n",
    "new_movies_df.Plot[5]"
   ],
   "metadata": {
    "collapsed": false,
    "pycharm": {
     "name": "#%%\n"
    }
   }
  },
  {
   "cell_type": "code",
   "execution_count": 168,
   "outputs": [
    {
     "name": "stdout",
     "output_type": "stream",
     "text": [
      "(17377, 79)\n",
      "6     1559\n",
      "12    1306\n",
      "17    1145\n",
      "16    1133\n",
      "14     925\n",
      "18     814\n",
      "11     807\n",
      "3      752\n",
      "21     727\n",
      "8      721\n",
      "20     687\n",
      "2      680\n",
      "5      659\n",
      "13     625\n",
      "1      618\n",
      "22     616\n",
      "9      551\n",
      "0      550\n",
      "15     546\n",
      "10     531\n",
      "19     491\n",
      "7      472\n",
      "4      462\n",
      "Name: cluster, dtype: int64\n"
     ]
    }
   ],
   "source": [
    "tfidf_matrix = pipe.fit_transform([x for x in new_movies_df['Plot']])\n",
    "print(tfidf_matrix.shape)\n",
    "\n",
    "from sklearn.cluster import KMeans\n",
    "\n",
    "num_clusters = 23\n",
    "# print(num_clusters)\n",
    "km = KMeans(n_clusters=num_clusters)\n",
    "\n",
    "km.fit(tfidf_matrix)\n",
    "\n",
    "clusters_tfidf = km.labels_.tolist()\n",
    "\n",
    "import joblib\n",
    "\n",
    "joblib.dump(km, 'doc_cluster.pkl')\n",
    "\n",
    "km = joblib.load('doc_cluster.pkl')\n",
    "clusters = km.labels_.tolist()\n",
    "\n",
    "films = {'title': new_movies_df[\"Title\"], 'Release_year':  new_movies_df[\"Release Year\"],\n",
    "         'Plot':  new_movies_df['Plot'], 'cluster': clusters_tfidf,\n",
    "         'Director':  new_movies_df['Director'], 'Genre': new_movies_df['Genre']}\n",
    "# print(films)\n",
    "frame = pd.DataFrame(data=films, columns=['title', 'cluster', 'Genre', 'Release_year', 'Director'])\n",
    "# print(frame)\n",
    "print(frame['cluster'].value_counts())\n",
    "# frame.to_csv(r'~/Dropbox/ImmInnHollywood/data/wiki_film_plot/plot_cluster.csv', index=False)"
   ],
   "metadata": {
    "collapsed": false,
    "pycharm": {
     "name": "#%%\n"
    }
   }
  },
  {
   "cell_type": "markdown",
   "source": [
    "Word Cloud for the TF-IDF"
   ],
   "metadata": {
    "collapsed": false,
    "pycharm": {
     "name": "#%% md\n"
    }
   }
  },
  {
   "cell_type": "code",
   "execution_count": 202,
   "outputs": [],
   "source": [
    "from nltk.corpus import stopwords\n",
    "plots = []\n",
    "stop_words = set(stopwords.words('english'))\n",
    "from nltk.stem import WordNetLemmatizer\n",
    "\n",
    "wordnet_lemmatizer = WordNetLemmatizer()\n",
    "for words in new_movies_df.Plot:\n",
    "    only_letters = re.sub(\"[^a-zA-Z]\", \" \", words)\n",
    "    tokens = nltk.word_tokenize(only_letters) #tokenize the sentences\n",
    "    lower_case = [l.lower() for l in tokens] #convert all letters to lower case\n",
    "    filtered_result = list(filter(lambda l: l not in stop_words, lower_case)) #Remove stopwords from the comments\n",
    "    lemmas = [wordnet_lemmatizer.lemmatize(t) for t in filtered_result] #lemmatizes the words i.e convert similar words to their\n",
    "    # base form while still considering the context in which the words are used\n",
    "    plots.append(' '.join(lemmas))"
   ],
   "metadata": {
    "collapsed": false,
    "pycharm": {
     "name": "#%%\n"
    }
   }
  },
  {
   "cell_type": "markdown",
   "source": [
    "Word Cloud with all movie plots"
   ],
   "metadata": {
    "collapsed": false,
    "pycharm": {
     "name": "#%% md\n"
    }
   }
  },
  {
   "cell_type": "code",
   "execution_count": 203,
   "outputs": [
    {
     "data": {
      "text/plain": "<Figure size 432x288 with 1 Axes>",
      "image/png": "[encoded data removed]"
     },
     "metadata": {
      "needs_background": "light"
     },
     "output_type": "display_data"
    }
   ],
   "source": [
    "from wordcloud import WordCloud, STOPWORDS\n",
    "unique_string=(\" \").join(plots)\n",
    "wordcloud = WordCloud(width = 2000, height = 1000,background_color='white').generate(unique_string)\n",
    "plt.pyplot.imshow(wordcloud, interpolation='bilinear')\n",
    "plt.pyplot.axis(\"off\")\n",
    "plt.pyplot.show()"
   ],
   "metadata": {
    "collapsed": false,
    "pycharm": {
     "name": "#%%\n"
    }
   }
  },
  {
   "cell_type": "markdown",
   "source": [
    "Word cloud with all movie plots for the most important words using countervectorizer"
   ],
   "metadata": {
    "collapsed": false
   }
  },
  {
   "cell_type": "code",
   "execution_count": 204,
   "outputs": [
    {
     "data": {
      "text/plain": "<Figure size 432x288 with 1 Axes>",
      "image/png": "[encoded data removed]"
     },
     "metadata": {
      "needs_background": "light"
     },
     "output_type": "display_data"
    }
   ],
   "source": [
    "# the most important words in messages using countvectorizer\n",
    "cv = CountVectorizer(analyzer = \"word\",stop_words = 'english', max_features = 100, ngram_range=(2,2))\n",
    "important_words = cv.fit_transform(plots)\n",
    "fig_words = cv.vocabulary_\n",
    "\n",
    "#wordcloud for important words\n",
    "unique_data=(\" \").join(fig_words)\n",
    "wordcloud = WordCloud(width = 1000, height = 500, background_color=\"white\").generate(unique_data)\n",
    "plt.pyplot.imshow(wordcloud)\n",
    "plt.pyplot.axis(\"off\")\n",
    "plt.pyplot.show()\n",
    "plt.pyplot.close()"
   ],
   "metadata": {
    "collapsed": false,
    "pycharm": {
     "name": "#%%\n"
    }
   }
  },
  {
   "cell_type": "markdown",
   "source": [
    "LDA with the updated plot summaries"
   ],
   "metadata": {
    "collapsed": false,
    "pycharm": {
     "name": "#%% md\n"
    }
   }
  },
  {
   "cell_type": "code",
   "execution_count": 172,
   "outputs": [
    {
     "name": "stdout",
     "output_type": "stream",
     "text": [
      "0 appear\n",
      "1 assault\n",
      "2 bartend\n",
      "3 beer\n",
      "4 begin\n",
      "5 break\n",
      "6 bucket\n",
      "7 burst\n",
      "8 cash\n",
      "9 charact\n",
      "10 custom\n",
      "11 drink\n",
      "12 dump\n",
      "13 everybodi\n",
      "14 eye\n",
      "15 face\n",
      "[(0, 0.13227954703913156),\n",
      " (1, 0.3790397673199794),\n",
      " (2, 0.374438855287237),\n",
      " (3, 0.2172397731360707),\n",
      " (4, 0.15173497760613988),\n",
      " (5, 0.1399498994366303),\n",
      " (6, 0.14142404420842042),\n",
      " (7, 0.14506212816523342),\n",
      " (8, 0.1793527179919929),\n",
      " (9, 0.13013718763569648),\n",
      " (10, 0.1350117256373554),\n",
      " (11, 0.3686891209949009),\n",
      " (12, 0.16259719029079714),\n",
      " (13, 0.26063277479936975),\n",
      " (14, 0.18848108896763566),\n",
      " (15, 0.20067540564150227),\n",
      " (16, 0.17125349985356006),\n",
      " (17, 0.1172126069805695),\n",
      " (18, 0.15900581156216126),\n",
      " (19, 0.19577237362575506),\n",
      " (20, 0.22411229640680644),\n",
      " (21, 0.10452823017669358),\n",
      " (22, 0.1628664933090168)]\n",
      "Topic: 0 \n",
      "Words: 0.005*\"team\" + 0.004*\"jeff\" + 0.003*\"alien\" + 0.002*\"compani\" + 0.002*\"power\" + 0.002*\"gang\" + 0.002*\"parent\" + 0.002*\"agent\" + 0.002*\"smith\" + 0.002*\"bomb\"\n",
      "Topic: 1 \n",
      "Words: 0.003*\"gang\" + 0.002*\"chris\" + 0.002*\"boss\" + 0.002*\"nick\" + 0.002*\"wed\" + 0.002*\"sophi\" + 0.002*\"band\" + 0.002*\"race\" + 0.002*\"driver\" + 0.002*\"littl\"\n",
      "Topic: 2 \n",
      "Words: 0.005*\"ship\" + 0.003*\"kate\" + 0.002*\"crew\" + 0.002*\"power\" + 0.002*\"beth\" + 0.002*\"dave\" + 0.002*\"team\" + 0.002*\"earth\" + 0.002*\"parent\" + 0.002*\"human\"\n",
      "Topic: 3 \n",
      "Words: 0.004*\"andi\" + 0.004*\"island\" + 0.003*\"ship\" + 0.003*\"crew\" + 0.003*\"chris\" + 0.003*\"shark\" + 0.003*\"captain\" + 0.003*\"dave\" + 0.002*\"armi\" + 0.002*\"soldier\"\n",
      "Topic: 4 \n",
      "Words: 0.003*\"matt\" + 0.002*\"parent\" + 0.002*\"danc\" + 0.002*\"phone\" + 0.002*\"coupl\" + 0.002*\"book\" + 0.002*\"write\" + 0.002*\"rick\" + 0.002*\"ladi\" + 0.002*\"wed\"\n",
      "Topic: 5 \n",
      "Words: 0.005*\"jake\" + 0.002*\"earth\" + 0.002*\"mission\" + 0.002*\"human\" + 0.002*\"station\" + 0.002*\"battl\" + 0.002*\"crew\" + 0.002*\"command\" + 0.002*\"princ\" + 0.002*\"captain\"\n",
      "Topic: 6 \n",
      "Words: 0.007*\"team\" + 0.005*\"game\" + 0.004*\"tommi\" + 0.003*\"greg\" + 0.002*\"nick\" + 0.002*\"player\" + 0.002*\"student\" + 0.002*\"colleg\" + 0.002*\"marti\" + 0.002*\"member\"\n",
      "Topic: 7 \n",
      "Words: 0.005*\"nick\" + 0.004*\"king\" + 0.002*\"woodi\" + 0.002*\"castl\" + 0.002*\"queen\" + 0.002*\"parent\" + 0.002*\"hotel\" + 0.002*\"power\" + 0.002*\"agent\" + 0.002*\"blood\"\n",
      "Topic: 8 \n",
      "Words: 0.004*\"babi\" + 0.003*\"maggi\" + 0.002*\"drug\" + 0.002*\"child\" + 0.002*\"malcolm\" + 0.002*\"human\" + 0.002*\"gang\" + 0.002*\"student\" + 0.002*\"book\" + 0.002*\"sell\"\n",
      "Topic: 9 \n",
      "Words: 0.003*\"agent\" + 0.003*\"nick\" + 0.003*\"bug\" + 0.003*\"camp\" + 0.002*\"drug\" + 0.002*\"truck\" + 0.002*\"wound\" + 0.002*\"ship\" + 0.002*\"japanes\" + 0.002*\"soldier\"\n",
      "Topic: 0 Word: 0.004*\"tommi\" + 0.003*\"dwight\" + 0.003*\"wade\" + 0.002*\"missi\" + 0.002*\"pope\" + 0.002*\"sebastian\" + 0.002*\"lara\" + 0.002*\"gina\" + 0.002*\"babi\" + 0.002*\"roxi\"\n",
      "Topic: 1 Word: 0.002*\"robot\" + 0.002*\"snow\" + 0.002*\"abbi\" + 0.002*\"gang\" + 0.002*\"sandi\" + 0.001*\"maggi\" + 0.001*\"white\" + 0.001*\"drug\" + 0.001*\"green\" + 0.001*\"whale\"\n",
      "Topic: 2 Word: 0.004*\"zombi\" + 0.003*\"video\" + 0.003*\"cartel\" + 0.003*\"bella\" + 0.003*\"nikki\" + 0.002*\"virus\" + 0.002*\"ranger\" + 0.002*\"dean\" + 0.002*\"elliot\" + 0.002*\"colin\"\n",
      "Topic: 3 Word: 0.004*\"alien\" + 0.002*\"human\" + 0.002*\"earth\" + 0.002*\"king\" + 0.002*\"ship\" + 0.002*\"creatur\" + 0.002*\"soldier\" + 0.002*\"team\" + 0.002*\"crew\" + 0.002*\"beth\"\n",
      "Topic: 4 Word: 0.002*\"nick\" + 0.002*\"brad\" + 0.002*\"parent\" + 0.002*\"chris\" + 0.001*\"jenni\" + 0.001*\"drug\" + 0.001*\"babi\" + 0.001*\"team\" + 0.001*\"doug\" + 0.001*\"jacki\"\n",
      "Topic: 5 Word: 0.006*\"sophi\" + 0.004*\"donni\" + 0.003*\"teddi\" + 0.003*\"terrorist\" + 0.002*\"chuck\" + 0.002*\"bug\" + 0.002*\"shark\" + 0.002*\"coven\" + 0.002*\"game\" + 0.002*\"andr\"\n",
      "Topic: 6 Word: 0.004*\"josh\" + 0.002*\"christma\" + 0.002*\"marti\" + 0.002*\"clyde\" + 0.002*\"student\" + 0.002*\"elli\" + 0.002*\"erik\" + 0.001*\"chris\" + 0.001*\"lili\" + 0.001*\"vampir\"\n",
      "Topic: 7 Word: 0.002*\"jake\" + 0.002*\"team\" + 0.002*\"pete\" + 0.002*\"greg\" + 0.002*\"agent\" + 0.001*\"compani\" + 0.001*\"chris\" + 0.001*\"ship\" + 0.001*\"drug\" + 0.001*\"bomb\"\n",
      "Topic: 8 Word: 0.005*\"matt\" + 0.005*\"nick\" + 0.003*\"jeff\" + 0.003*\"tommi\" + 0.002*\"dracula\" + 0.002*\"violet\" + 0.002*\"nicki\" + 0.002*\"mose\" + 0.002*\"zeus\" + 0.002*\"mikey\"\n",
      "Topic: 9 Word: 0.003*\"kate\" + 0.002*\"malcolm\" + 0.002*\"maddi\" + 0.002*\"dave\" + 0.002*\"hank\" + 0.002*\"spider\" + 0.002*\"jonah\" + 0.002*\"simon\" + 0.001*\"paint\" + 0.001*\"gang\"\n"
     ]
    }
   ],
   "source": [
    "processed_docs = new_movies_df['Plot'].map(preprocess)\n",
    "dictionary = gensim.corpora.Dictionary(processed_docs)\n",
    "count = 0\n",
    "for k, v in dictionary.iteritems():\n",
    "    print(k, v)\n",
    "    count += 1\n",
    "    if count > 15:\n",
    "        break\n",
    "\n",
    "dictionary.filter_extremes(no_below=20, no_above=0.1, keep_n=100000)\n",
    "bow_corpus = [dictionary.doc2bow(doc) for doc in processed_docs]\n",
    "\n",
    "tfidf = models.TfidfModel(bow_corpus)\n",
    "corpus_tfidf = tfidf[bow_corpus]\n",
    "\n",
    "for doc in corpus_tfidf:\n",
    "    pprint(doc)\n",
    "    break\n",
    "\n",
    "lda_model = gensim.models.LdaMulticore(bow_corpus, num_topics=10, id2word=dictionary, passes=2, workers=4)\n",
    "for idx, topic in lda_model.print_topics(-1):\n",
    "    print('Topic: {} \\nWords: {}'.format(idx, topic))\n",
    "\n",
    "lda_model_tfidf = gensim.models.LdaMulticore(corpus_tfidf, num_topics=10, id2word=dictionary, passes=2, workers=4)\n",
    "for idx, topic in lda_model_tfidf.print_topics(-1):\n",
    "    print('Topic: {} Word: {}'.format(idx, topic))\n",
    "\n",
    "# mdiff, annotation = lda_model_tfidf.diff(lda_model_tfidf)\n",
    "# for index, score in sorted(lda_model_tfidf[bow_corpus[4]], key=lambda tup: -1*tup[1]):\n",
    "#     print(\"\\nScore: {}\\t \\nTopic: {}\".format(score, lda_model_tfidf.print_topic(index, 10)))"
   ],
   "metadata": {
    "collapsed": false,
    "pycharm": {
     "name": "#%%\n"
    }
   }
  },
  {
   "cell_type": "markdown",
   "source": [
    "### Visualize the plot text (word cloud)\n",
    "\n",
    "- Overall topic\n",
    "- US-born director\n",
    "- Foreign-born director\n",
    "- Genre"
   ],
   "metadata": {
    "collapsed": false,
    "pycharm": {
     "name": "#%% md\n"
    }
   }
  },
  {
   "cell_type": "code",
   "execution_count": null,
   "outputs": [],
   "source": [],
   "metadata": {
    "collapsed": false,
    "pycharm": {
     "name": "#%%\n"
    }
   }
  },
  {
   "cell_type": "markdown",
   "source": [
    "## Import the data with other movie attributes"
   ],
   "metadata": {
    "collapsed": false,
    "pycharm": {
     "name": "#%% md\n"
    }
   }
  },
  {
   "cell_type": "code",
   "execution_count": 175,
   "outputs": [
    {
     "data": {
      "text/plain": "True"
     },
     "execution_count": 175,
     "metadata": {},
     "output_type": "execute_result"
    }
   ],
   "source": [
    "'Jeffrey' in allnames.name.to_list()"
   ],
   "metadata": {
    "collapsed": false,
    "pycharm": {
     "name": "#%%\n"
    }
   }
  },
  {
   "cell_type": "code",
   "execution_count": 169,
   "outputs": [
    {
     "data": {
      "text/plain": "                      Name          Dirct1          Prodc1  \\\n0         300 Year Weekend  Victor Stoloff             NaN   \n1  A Bullet For Pretty Boy  Larry Buchanan  Larry Buchanan   \n2       A Day at the Beach    Simon Hesera  Roman Polanski   \n3      A Man Called Sledge      Vic Morrow     Harry Bloom   \n4      A Run For the Money   Robert Canton   Robert Canton   \n\n                      Distributor Cinematographer1         Actor1  \\\n0  Cinerama Releasing Corporation      Joseph Brun  Michael Tolan   \n1                             NaN              NaN         Fabian   \n2              Paramount Pictures   Gilbert Taylor     Mark Burns   \n3                   Sony Pictures  Luigi Kuveiller   James Garner   \n4                             NaN   Ken Van Sickle    Fred Dennis   \n\n            Actor2         Actor3          Actor4           Actor5   Genre  \\\n0  Sharon Laughlin     Roy Cooper    Gabriel Dell        M'el Dowd   Drama   \n1     Jocelyn Lane  Astrid Warner  Michael Haynes      Adam Roarke  Action   \n2   Beatrice Edney  Peter Sellers             NaN              NaN   Drama   \n3    Dennis Weaver   Claude Akins     John Marley  Laura Antonelli  Action   \n4         Kim Pope     Bob Walden      Lisa Emmet     Eileen Dietz   Crime   \n\n   us.year  us.quarter  domestic_bo  internaional_bo  budget_nielsen  \\\n0     1970         NaN          NaN              NaN             NaN   \n1     1970         NaN          NaN              NaN             NaN   \n2     1970         NaN          NaN              NaN             NaN   \n3     1970         NaN          NaN              NaN             NaN   \n4     1970         NaN          NaN              NaN             NaN   \n\n   budget_numbers  director_imm director_continent director_country  \\\n0             NaN  Foreign-born                NaN         Russian    \n1             NaN           NaN                NaN              NaN   \n2             NaN           NaN                NaN              NaN   \n3             NaN           NaN                NaN              NaN   \n4             NaN           NaN                NaN              NaN   \n\n  director_gender director_race  international_bo  \n0             NaN           NaN               NaN  \n1             NaN           NaN               NaN  \n2             NaN           NaN               NaN  \n3             NaN           NaN               NaN  \n4             NaN           NaN               NaN  ",
      "text/html": "<div>\n<style scoped>\n    .dataframe tbody tr th:only-of-type {\n        vertical-align: middle;\n    }\n\n    .dataframe tbody tr th {\n        vertical-align: top;\n    }\n\n    .dataframe thead th {\n        text-align: right;\n    }\n</style>\n<table border=\"1\" class=\"dataframe\">\n  <thead>\n    <tr style=\"text-align: right;\">\n      <th></th>\n      <th>Name</th>\n      <th>Dirct1</th>\n      <th>Prodc1</th>\n      <th>Distributor</th>\n      <th>Cinematographer1</th>\n      <th>Actor1</th>\n      <th>Actor2</th>\n      <th>Actor3</th>\n      <th>Actor4</th>\n      <th>Actor5</th>\n      <th>Genre</th>\n      <th>us.year</th>\n      <th>us.quarter</th>\n      <th>domestic_bo</th>\n      <th>internaional_bo</th>\n      <th>budget_nielsen</th>\n      <th>budget_numbers</th>\n      <th>director_imm</th>\n      <th>director_continent</th>\n      <th>director_country</th>\n      <th>director_gender</th>\n      <th>director_race</th>\n      <th>international_bo</th>\n    </tr>\n  </thead>\n  <tbody>\n    <tr>\n      <th>0</th>\n      <td>300 Year Weekend</td>\n      <td>Victor Stoloff</td>\n      <td>NaN</td>\n      <td>Cinerama Releasing Corporation</td>\n      <td>Joseph Brun</td>\n      <td>Michael Tolan</td>\n      <td>Sharon Laughlin</td>\n      <td>Roy Cooper</td>\n      <td>Gabriel Dell</td>\n      <td>M'el Dowd</td>\n      <td>Drama</td>\n      <td>1970</td>\n      <td>NaN</td>\n      <td>NaN</td>\n      <td>NaN</td>\n      <td>NaN</td>\n      <td>NaN</td>\n      <td>Foreign-born</td>\n      <td>NaN</td>\n      <td>Russian</td>\n      <td>NaN</td>\n      <td>NaN</td>\n      <td>NaN</td>\n    </tr>\n    <tr>\n      <th>1</th>\n      <td>A Bullet For Pretty Boy</td>\n      <td>Larry Buchanan</td>\n      <td>Larry Buchanan</td>\n      <td>NaN</td>\n      <td>NaN</td>\n      <td>Fabian</td>\n      <td>Jocelyn Lane</td>\n      <td>Astrid Warner</td>\n      <td>Michael Haynes</td>\n      <td>Adam Roarke</td>\n      <td>Action</td>\n      <td>1970</td>\n      <td>NaN</td>\n      <td>NaN</td>\n      <td>NaN</td>\n      <td>NaN</td>\n      <td>NaN</td>\n      <td>NaN</td>\n      <td>NaN</td>\n      <td>NaN</td>\n      <td>NaN</td>\n      <td>NaN</td>\n      <td>NaN</td>\n    </tr>\n    <tr>\n      <th>2</th>\n      <td>A Day at the Beach</td>\n      <td>Simon Hesera</td>\n      <td>Roman Polanski</td>\n      <td>Paramount Pictures</td>\n      <td>Gilbert Taylor</td>\n      <td>Mark Burns</td>\n      <td>Beatrice Edney</td>\n      <td>Peter Sellers</td>\n      <td>NaN</td>\n      <td>NaN</td>\n      <td>Drama</td>\n      <td>1970</td>\n      <td>NaN</td>\n      <td>NaN</td>\n      <td>NaN</td>\n      <td>NaN</td>\n      <td>NaN</td>\n      <td>NaN</td>\n      <td>NaN</td>\n      <td>NaN</td>\n      <td>NaN</td>\n      <td>NaN</td>\n      <td>NaN</td>\n    </tr>\n    <tr>\n      <th>3</th>\n      <td>A Man Called Sledge</td>\n      <td>Vic Morrow</td>\n      <td>Harry Bloom</td>\n      <td>Sony Pictures</td>\n      <td>Luigi Kuveiller</td>\n      <td>James Garner</td>\n      <td>Dennis Weaver</td>\n      <td>Claude Akins</td>\n      <td>John Marley</td>\n      <td>Laura Antonelli</td>\n      <td>Action</td>\n      <td>1970</td>\n      <td>NaN</td>\n      <td>NaN</td>\n      <td>NaN</td>\n      <td>NaN</td>\n      <td>NaN</td>\n      <td>NaN</td>\n      <td>NaN</td>\n      <td>NaN</td>\n      <td>NaN</td>\n      <td>NaN</td>\n      <td>NaN</td>\n    </tr>\n    <tr>\n      <th>4</th>\n      <td>A Run For the Money</td>\n      <td>Robert Canton</td>\n      <td>Robert Canton</td>\n      <td>NaN</td>\n      <td>Ken Van Sickle</td>\n      <td>Fred Dennis</td>\n      <td>Kim Pope</td>\n      <td>Bob Walden</td>\n      <td>Lisa Emmet</td>\n      <td>Eileen Dietz</td>\n      <td>Crime</td>\n      <td>1970</td>\n      <td>NaN</td>\n      <td>NaN</td>\n      <td>NaN</td>\n      <td>NaN</td>\n      <td>NaN</td>\n      <td>NaN</td>\n      <td>NaN</td>\n      <td>NaN</td>\n      <td>NaN</td>\n      <td>NaN</td>\n      <td>NaN</td>\n    </tr>\n  </tbody>\n</table>\n</div>"
     },
     "execution_count": 169,
     "metadata": {},
     "output_type": "execute_result"
    }
   ],
   "source": [
    "movies_other = pd.read_csv('~/Dropbox/Course/PSTAT234/spr21/pstat234-final-project/df_pstat234.csv')\n",
    "movies_other.head(5)\n"
   ],
   "metadata": {
    "collapsed": false,
    "pycharm": {
     "name": "#%%\n"
    }
   }
  },
  {
   "cell_type": "markdown",
   "source": [
    "## Import the data with big star names\n",
    "*Source: https://www.imdb.com/list/ls058011111/?sort=list_order,asc&mode=detail*\n",
    "*Scraped, code attached separately*"
   ],
   "metadata": {
    "collapsed": false,
    "pycharm": {
     "name": "#%% md\n"
    }
   }
  },
  {
   "cell_type": "code",
   "execution_count": 158,
   "outputs": [
    {
     "data": {
      "text/plain": "                 Name\n0      Robert De Niro\n1      Jack Nicholson\n2       Marlon Brando\n3   Denzel Washington\n4   Katharine Hepburn",
      "text/html": "<div>\n<style scoped>\n    .dataframe tbody tr th:only-of-type {\n        vertical-align: middle;\n    }\n\n    .dataframe tbody tr th {\n        vertical-align: top;\n    }\n\n    .dataframe thead th {\n        text-align: right;\n    }\n</style>\n<table border=\"1\" class=\"dataframe\">\n  <thead>\n    <tr style=\"text-align: right;\">\n      <th></th>\n      <th>Name</th>\n    </tr>\n  </thead>\n  <tbody>\n    <tr>\n      <th>0</th>\n      <td>Robert De Niro</td>\n    </tr>\n    <tr>\n      <th>1</th>\n      <td>Jack Nicholson</td>\n    </tr>\n    <tr>\n      <th>2</th>\n      <td>Marlon Brando</td>\n    </tr>\n    <tr>\n      <th>3</th>\n      <td>Denzel Washington</td>\n    </tr>\n    <tr>\n      <th>4</th>\n      <td>Katharine Hepburn</td>\n    </tr>\n  </tbody>\n</table>\n</div>"
     },
     "execution_count": 158,
     "metadata": {},
     "output_type": "execute_result"
    }
   ],
   "source": [
    "topstar = pd.read_csv('~/Dropbox/Course/PSTAT234/spr21/pstat234-final-project/topstar.csv')\n",
    "topstar.head(5)"
   ],
   "metadata": {
    "collapsed": false,
    "pycharm": {
     "name": "#%%\n"
    }
   }
  },
  {
   "cell_type": "markdown",
   "source": [
    "## merge the data frames\n",
    "- other movie attributes (*movies_other*)\n",
    "- plot clustering with updated plots (*frame*)\n",
    "- top star indicator (*topstar*)"
   ],
   "metadata": {
    "collapsed": false,
    "pycharm": {
     "name": "#%% md\n"
    }
   }
  },
  {
   "cell_type": "code",
   "execution_count": 170,
   "outputs": [
    {
     "data": {
      "text/plain": "                      Name           Dirct1          Prodc1  \\\n0         300 Year Weekend   Victor Stoloff             NaN   \n1  A Bullet For Pretty Boy   Larry Buchanan  Larry Buchanan   \n2       A Day at the Beach     Simon Hesera  Roman Polanski   \n3      A Man Called Sledge       Vic Morrow     Harry Bloom   \n4      A Run For the Money    Robert Canton   Robert Canton   \n5      A.K.A. Cassius Clay       Jim Jacobs  William Cayton   \n6      About Me: A Musical     Robert Frank             NaN   \n7           Adam at 6 A.M.  Robert Scheerer  Rick Rosenberg   \n8                  Airport    George Seaton     Ross Hunter   \n9       Alex in Wonderland    Paul Mazursky    Larry Tucker   \n\n                      Distributor    Cinematographer1             Actor1  \\\n0  Cinerama Releasing Corporation         Joseph Brun      Michael Tolan   \n1                             NaN                 NaN             Fabian   \n2              Paramount Pictures      Gilbert Taylor         Mark Burns   \n3                   Sony Pictures     Luigi Kuveiller       James Garner   \n4                             NaN      Ken Van Sickle        Fred Dennis   \n5                             NaN   Isidore Mankofsky                NaN   \n6                             NaN                 NaN                NaN   \n7       National General Pictures  Charles Rosher Jr.    Michael Douglas   \n8                       Universal       Ernest Laszlo     Burt Lancaster   \n9                             NaN       Laszlo Kovacs  Donald Sutherland   \n\n            Actor2         Actor3              Actor4           Actor5  \\\n0  Sharon Laughlin     Roy Cooper        Gabriel Dell        M'el Dowd   \n1     Jocelyn Lane  Astrid Warner      Michael Haynes      Adam Roarke   \n2   Beatrice Edney  Peter Sellers                 NaN              NaN   \n3    Dennis Weaver   Claude Akins         John Marley  Laura Antonelli   \n4         Kim Pope     Bob Walden          Lisa Emmet     Eileen Dietz   \n5              NaN            NaN                 NaN              NaN   \n6              NaN            NaN                 NaN              NaN   \n7      Lee Purcell  Joe Don Baker        Grayson Hall   Charles Aidman   \n8      Dean Martin    Jean Seberg  Jacqueline Bisset)   George Kennedy   \n9    Ellen Burstyn   Meg Mazursky      Glenna Sergent     Viola Spolin   \n\n          Genre  us.year  us.quarter  domestic_bo  internaional_bo  \\\n0         Drama     1970         NaN          NaN              NaN   \n1        Action     1970         NaN          NaN              NaN   \n2         Drama     1970         NaN          NaN              NaN   \n3        Action     1970         NaN          NaN              NaN   \n4         Crime     1970         NaN          NaN              NaN   \n5   Documentary     1970         NaN          NaN              NaN   \n6  Experimental     1971         NaN          NaN              NaN   \n7         Drama     1970         NaN          NaN              NaN   \n8      Thriller     1970         NaN          NaN              NaN   \n9        Comedy     1970         NaN          NaN              NaN   \n\n   budget_nielsen  budget_numbers  director_imm  director_continent  \\\n0             NaN             NaN  Foreign-born                 NaN   \n1             NaN             NaN           NaN                 NaN   \n2             NaN             NaN           NaN                 NaN   \n3             NaN             NaN           NaN                 NaN   \n4             NaN             NaN           NaN                 NaN   \n5             NaN             NaN           NaN                 NaN   \n6             NaN             NaN   Native-born  North America (US)   \n7             NaN             NaN           NaN                 NaN   \n8      10000000.0             NaN   Native-born  North America (US)   \n9             NaN             NaN   Native-born  North America (US)   \n\n  director_country director_gender director_race  international_bo  \n0         Russian              NaN           NaN               NaN  \n1              NaN             NaN           NaN               NaN  \n2              NaN             NaN           NaN               NaN  \n3              NaN             NaN           NaN               NaN  \n4              NaN             NaN           NaN               NaN  \n5              NaN             NaN           NaN               NaN  \n6               US             NaN           NaN               NaN  \n7              NaN             NaN           NaN               NaN  \n8               US             NaN           NaN               NaN  \n9               US             NaN           NaN               NaN  ",
      "text/html": "<div>\n<style scoped>\n    .dataframe tbody tr th:only-of-type {\n        vertical-align: middle;\n    }\n\n    .dataframe tbody tr th {\n        vertical-align: top;\n    }\n\n    .dataframe thead th {\n        text-align: right;\n    }\n</style>\n<table border=\"1\" class=\"dataframe\">\n  <thead>\n    <tr style=\"text-align: right;\">\n      <th></th>\n      <th>Name</th>\n      <th>Dirct1</th>\n      <th>Prodc1</th>\n      <th>Distributor</th>\n      <th>Cinematographer1</th>\n      <th>Actor1</th>\n      <th>Actor2</th>\n      <th>Actor3</th>\n      <th>Actor4</th>\n      <th>Actor5</th>\n      <th>Genre</th>\n      <th>us.year</th>\n      <th>us.quarter</th>\n      <th>domestic_bo</th>\n      <th>internaional_bo</th>\n      <th>budget_nielsen</th>\n      <th>budget_numbers</th>\n      <th>director_imm</th>\n      <th>director_continent</th>\n      <th>director_country</th>\n      <th>director_gender</th>\n      <th>director_race</th>\n      <th>international_bo</th>\n    </tr>\n  </thead>\n  <tbody>\n    <tr>\n      <th>0</th>\n      <td>300 Year Weekend</td>\n      <td>Victor Stoloff</td>\n      <td>NaN</td>\n      <td>Cinerama Releasing Corporation</td>\n      <td>Joseph Brun</td>\n      <td>Michael Tolan</td>\n      <td>Sharon Laughlin</td>\n      <td>Roy Cooper</td>\n      <td>Gabriel Dell</td>\n      <td>M'el Dowd</td>\n      <td>Drama</td>\n      <td>1970</td>\n      <td>NaN</td>\n      <td>NaN</td>\n      <td>NaN</td>\n      <td>NaN</td>\n      <td>NaN</td>\n      <td>Foreign-born</td>\n      <td>NaN</td>\n      <td>Russian</td>\n      <td>NaN</td>\n      <td>NaN</td>\n      <td>NaN</td>\n    </tr>\n    <tr>\n      <th>1</th>\n      <td>A Bullet For Pretty Boy</td>\n      <td>Larry Buchanan</td>\n      <td>Larry Buchanan</td>\n      <td>NaN</td>\n      <td>NaN</td>\n      <td>Fabian</td>\n      <td>Jocelyn Lane</td>\n      <td>Astrid Warner</td>\n      <td>Michael Haynes</td>\n      <td>Adam Roarke</td>\n      <td>Action</td>\n      <td>1970</td>\n      <td>NaN</td>\n      <td>NaN</td>\n      <td>NaN</td>\n      <td>NaN</td>\n      <td>NaN</td>\n      <td>NaN</td>\n      <td>NaN</td>\n      <td>NaN</td>\n      <td>NaN</td>\n      <td>NaN</td>\n      <td>NaN</td>\n    </tr>\n    <tr>\n      <th>2</th>\n      <td>A Day at the Beach</td>\n      <td>Simon Hesera</td>\n      <td>Roman Polanski</td>\n      <td>Paramount Pictures</td>\n      <td>Gilbert Taylor</td>\n      <td>Mark Burns</td>\n      <td>Beatrice Edney</td>\n      <td>Peter Sellers</td>\n      <td>NaN</td>\n      <td>NaN</td>\n      <td>Drama</td>\n      <td>1970</td>\n      <td>NaN</td>\n      <td>NaN</td>\n      <td>NaN</td>\n      <td>NaN</td>\n      <td>NaN</td>\n      <td>NaN</td>\n      <td>NaN</td>\n      <td>NaN</td>\n      <td>NaN</td>\n      <td>NaN</td>\n      <td>NaN</td>\n    </tr>\n    <tr>\n      <th>3</th>\n      <td>A Man Called Sledge</td>\n      <td>Vic Morrow</td>\n      <td>Harry Bloom</td>\n      <td>Sony Pictures</td>\n      <td>Luigi Kuveiller</td>\n      <td>James Garner</td>\n      <td>Dennis Weaver</td>\n      <td>Claude Akins</td>\n      <td>John Marley</td>\n      <td>Laura Antonelli</td>\n      <td>Action</td>\n      <td>1970</td>\n      <td>NaN</td>\n      <td>NaN</td>\n      <td>NaN</td>\n      <td>NaN</td>\n      <td>NaN</td>\n      <td>NaN</td>\n      <td>NaN</td>\n      <td>NaN</td>\n      <td>NaN</td>\n      <td>NaN</td>\n      <td>NaN</td>\n    </tr>\n    <tr>\n      <th>4</th>\n      <td>A Run For the Money</td>\n      <td>Robert Canton</td>\n      <td>Robert Canton</td>\n      <td>NaN</td>\n      <td>Ken Van Sickle</td>\n      <td>Fred Dennis</td>\n      <td>Kim Pope</td>\n      <td>Bob Walden</td>\n      <td>Lisa Emmet</td>\n      <td>Eileen Dietz</td>\n      <td>Crime</td>\n      <td>1970</td>\n      <td>NaN</td>\n      <td>NaN</td>\n      <td>NaN</td>\n      <td>NaN</td>\n      <td>NaN</td>\n      <td>NaN</td>\n      <td>NaN</td>\n      <td>NaN</td>\n      <td>NaN</td>\n      <td>NaN</td>\n      <td>NaN</td>\n    </tr>\n    <tr>\n      <th>5</th>\n      <td>A.K.A. Cassius Clay</td>\n      <td>Jim Jacobs</td>\n      <td>William Cayton</td>\n      <td>NaN</td>\n      <td>Isidore Mankofsky</td>\n      <td>NaN</td>\n      <td>NaN</td>\n      <td>NaN</td>\n      <td>NaN</td>\n      <td>NaN</td>\n      <td>Documentary</td>\n      <td>1970</td>\n      <td>NaN</td>\n      <td>NaN</td>\n      <td>NaN</td>\n      <td>NaN</td>\n      <td>NaN</td>\n      <td>NaN</td>\n      <td>NaN</td>\n      <td>NaN</td>\n      <td>NaN</td>\n      <td>NaN</td>\n      <td>NaN</td>\n    </tr>\n    <tr>\n      <th>6</th>\n      <td>About Me: A Musical</td>\n      <td>Robert Frank</td>\n      <td>NaN</td>\n      <td>NaN</td>\n      <td>NaN</td>\n      <td>NaN</td>\n      <td>NaN</td>\n      <td>NaN</td>\n      <td>NaN</td>\n      <td>NaN</td>\n      <td>Experimental</td>\n      <td>1971</td>\n      <td>NaN</td>\n      <td>NaN</td>\n      <td>NaN</td>\n      <td>NaN</td>\n      <td>NaN</td>\n      <td>Native-born</td>\n      <td>North America (US)</td>\n      <td>US</td>\n      <td>NaN</td>\n      <td>NaN</td>\n      <td>NaN</td>\n    </tr>\n    <tr>\n      <th>7</th>\n      <td>Adam at 6 A.M.</td>\n      <td>Robert Scheerer</td>\n      <td>Rick Rosenberg</td>\n      <td>National General Pictures</td>\n      <td>Charles Rosher Jr.</td>\n      <td>Michael Douglas</td>\n      <td>Lee Purcell</td>\n      <td>Joe Don Baker</td>\n      <td>Grayson Hall</td>\n      <td>Charles Aidman</td>\n      <td>Drama</td>\n      <td>1970</td>\n      <td>NaN</td>\n      <td>NaN</td>\n      <td>NaN</td>\n      <td>NaN</td>\n      <td>NaN</td>\n      <td>NaN</td>\n      <td>NaN</td>\n      <td>NaN</td>\n      <td>NaN</td>\n      <td>NaN</td>\n      <td>NaN</td>\n    </tr>\n    <tr>\n      <th>8</th>\n      <td>Airport</td>\n      <td>George Seaton</td>\n      <td>Ross Hunter</td>\n      <td>Universal</td>\n      <td>Ernest Laszlo</td>\n      <td>Burt Lancaster</td>\n      <td>Dean Martin</td>\n      <td>Jean Seberg</td>\n      <td>Jacqueline Bisset)</td>\n      <td>George Kennedy</td>\n      <td>Thriller</td>\n      <td>1970</td>\n      <td>NaN</td>\n      <td>NaN</td>\n      <td>NaN</td>\n      <td>10000000.0</td>\n      <td>NaN</td>\n      <td>Native-born</td>\n      <td>North America (US)</td>\n      <td>US</td>\n      <td>NaN</td>\n      <td>NaN</td>\n      <td>NaN</td>\n    </tr>\n    <tr>\n      <th>9</th>\n      <td>Alex in Wonderland</td>\n      <td>Paul Mazursky</td>\n      <td>Larry Tucker</td>\n      <td>NaN</td>\n      <td>Laszlo Kovacs</td>\n      <td>Donald Sutherland</td>\n      <td>Ellen Burstyn</td>\n      <td>Meg Mazursky</td>\n      <td>Glenna Sergent</td>\n      <td>Viola Spolin</td>\n      <td>Comedy</td>\n      <td>1970</td>\n      <td>NaN</td>\n      <td>NaN</td>\n      <td>NaN</td>\n      <td>NaN</td>\n      <td>NaN</td>\n      <td>Native-born</td>\n      <td>North America (US)</td>\n      <td>US</td>\n      <td>NaN</td>\n      <td>NaN</td>\n      <td>NaN</td>\n    </tr>\n  </tbody>\n</table>\n</div>"
     },
     "execution_count": 170,
     "metadata": {},
     "output_type": "execute_result"
    }
   ],
   "source": [],
   "metadata": {
    "collapsed": false,
    "pycharm": {
     "name": "#%%\n"
    }
   }
  },
  {
   "cell_type": "markdown",
   "source": [
    "generate top star indicator for each movie if one of the main actors is on the list of top star from the above source."
   ],
   "metadata": {
    "collapsed": false
   }
  },
  {
   "cell_type": "code",
   "execution_count": null,
   "outputs": [],
   "source": [],
   "metadata": {
    "collapsed": false,
    "pycharm": {
     "name": "#%%\n"
    }
   }
  },
  {
   "cell_type": "code",
   "execution_count": 176,
   "outputs": [
    {
     "name": "stdout",
     "output_type": "stream",
     "text": [
      "              Name         Dirct1 Prodc1                    Distributor\n",
      "1 300 Year Weekend Victor Stoloff   <NA> Cinerama Releasing Corporation\n",
      "  Cinematographer1        Actor1          Actor2     Actor3       Actor4\n",
      "1      Joseph Brun Michael Tolan Sharon Laughlin Roy Cooper Gabriel Dell\n",
      "     Actor5 Genre us.year us.quarter domestic_bo internaional_bo budget_nielsen\n",
      "1 M'el Dowd Drama    1970         NA          NA              NA             NA\n",
      "  budget_numbers director_imm director_continent director_country\n",
      "1             NA Foreign-born               <NA>         Russian \n",
      "  director_gender director_race international_bo\n",
      "1            <NA>          <NA>               NA\n"
     ]
    }
   ],
   "source": [
    "%%R\n",
    "\n",
    "movies_other = read.csv('~/Dropbox/Course/PSTAT234/spr21/pstat234-final-project/df_pstat234.csv')\n",
    "movies_other[1, ]"
   ],
   "metadata": {
    "collapsed": false,
    "pycharm": {
     "name": "#%%\n"
    }
   }
  },
  {
   "cell_type": "markdown",
   "source": [
    "## Exploratory analysis\n",
    "\n",
    "TBU\n",
    "\n",
    "*with figures and summary statistics*"
   ],
   "metadata": {
    "collapsed": false,
    "pycharm": {
     "name": "#%% md\n"
    }
   }
  },
  {
   "cell_type": "code",
   "execution_count": 43,
   "id": "7f261e30",
   "metadata": {},
   "outputs": [
    {
     "name": "stdout",
     "output_type": "stream",
     "text": [
      "NULL\n"
     ]
    }
   ],
   "source": [
    "%%R\n",
    "# -i df -w 5 -h 5 --units in -r 200\n",
    "# import df from global environment\n",
    "# make default figure size 5 by 5 inches with 200 dpi resolution"
   ]
  },
  {
   "cell_type": "markdown",
   "source": [
    "# Regression analysis\n"
   ],
   "metadata": {
    "collapsed": false,
    "pycharm": {
     "name": "#%% md\n"
    }
   }
  },
  {
   "cell_type": "code",
   "execution_count": 188,
   "outputs": [
    {
     "name": "stderr",
     "output_type": "stream",
     "text": [
      "R[write to console]: NOTE: 21,559 observations removed because of NA values (LHS: 15,404, RHS: 21,248, Fixed-effects: 7,917).\n",
      "\n",
      "R[write to console]: Warning:\n",
      "R[write to console]:  In print.fixest(object, useS4 = FALSE):\n",
      " 'useS4' is not a valid argument of function print.fixest (fyi, some of\n",
      "its main arguments are 'n', 'type', 'se' and 'cluster').\n",
      "\n"
     ]
    },
    {
     "name": "stdout",
     "output_type": "stream",
     "text": [
      "OLS estimation, Dep. Var.: log(domestic_bo + sqrt(1 + domestic_bo^2))\n",
      "Observations: 3,319 \n",
      "Fixed-effects: us.year: 40,  Genre: 21,  Distributor: 268\n",
      "Standard-errors: Clustered (us.year) \n",
      "                        Estimate Std. Error   t value    Pr(>|t|)    \n",
      "director_immNative-born 0.329304   0.067021  4.913500 1.60000e-05 ***\n",
      "director_genderMale     0.000707   0.142389  0.004966 9.96063e-01    \n",
      "log(1 + budget_nielsen) 0.700227   0.052000 13.466000 3.02000e-16 ***\n",
      "---\n",
      "Signif. codes:  0 '***' 0.001 '**' 0.01 '*' 0.05 '.' 0.1 ' ' 1\n",
      "Log-likelihood: -5,967.91   Adj. R2: 0.64172 \n",
      "                          R2-Within: 0.16848 \n"
     ]
    }
   ],
   "source": [
    "%%R\n",
    "fit1 = feols(log(domestic_bo + sqrt(1+domestic_bo^2)) ~ director_imm + director_gender + log(1+budget_nielsen)  | us.year + Genre + Distributor, data =movies_other)\n",
    "summary(fit1)\n",
    "\n",
    "# fit2 = feols(log(international_bo + sqrt(1+international_bo^2)) ~ director_imm + log(1+budget_numbers) | us.year + Genre + Distributor, movies_other)\n",
    "# summary(fit2)"
   ],
   "metadata": {
    "collapsed": false,
    "pycharm": {
     "name": "#%%\n"
    }
   }
  },
  {
   "cell_type": "code",
   "execution_count": 189,
   "outputs": [
    {
     "name": "stderr",
     "output_type": "stream",
     "text": [
      "R[write to console]: NOTE: 21,330 observations removed because of NA values (LHS: 15,404, RHS: 20,927, Fixed-effects: 7,917).\n",
      "\n",
      "R[write to console]: Warning:\n",
      "R[write to console]:  In print.fixest(object, useS4 = FALSE):\n",
      " 'useS4' is not a valid argument of function print.fixest (fyi, some of\n",
      "its main arguments are 'n', 'type', 'se' and 'cluster').\n",
      "\n"
     ]
    },
    {
     "name": "stdout",
     "output_type": "stream",
     "text": [
      "OLS estimation, Dep. Var.: log(domestic_bo + sqrt(1 + domestic_bo^2))\n",
      "Observations: 3,548 \n",
      "Fixed-effects: us.year: 40,  Genre: 21,  Distributor: 315\n",
      "Standard-errors: Clustered (us.year) \n",
      "                        Estimate Std. Error   t value    Pr(>|t|)    \n",
      "log(1 + budget_nielsen) 0.676808   0.050244 13.471000 2.98000e-16 ***\n",
      "director_genderMale     0.016215   0.134817  0.120277 9.04881e-01    \n",
      "---\n",
      "Signif. codes:  0 '***' 0.001 '**' 0.01 '*' 0.05 '.' 0.1 ' ' 1\n",
      "Log-likelihood: -6,415.09   Adj. R2: 0.66227 \n",
      "                          R2-Within: 0.16042 \n"
     ]
    }
   ],
   "source": [
    "%%R\n",
    "fit11st = feols(log(domestic_bo + sqrt(1+domestic_bo^2)) ~ log(1+budget_nielsen) + director_gender | us.year + Genre + Distributor, data =movies_other)\n",
    "summary(fit11st)"
   ],
   "metadata": {
    "collapsed": false,
    "pycharm": {
     "name": "#%%\n"
    }
   }
  },
  {
   "cell_type": "code",
   "execution_count": 190,
   "outputs": [
    {
     "name": "stdout",
     "output_type": "stream",
     "text": [
      "\n",
      "Call:\n",
      "lm(formula = resid(fit11st) ~ director_imm, data = movies_other)\n",
      "\n",
      "Residuals:\n",
      "    Min      1Q  Median      3Q     Max \n",
      "-9.2280 -0.5893  0.1672  0.8513  6.3669 \n",
      "\n",
      "Coefficients:\n",
      "                        Estimate Std. Error t value Pr(>|t|)    \n",
      "(Intercept)             -0.16719    0.04340  -3.853 0.000119 ***\n",
      "director_immNative-born  0.27472    0.05363   5.122 3.19e-07 ***\n",
      "---\n",
      "Signif. codes:  0 ‘***’ 0.001 ‘**’ 0.01 ‘*’ 0.05 ‘.’ 0.1 ‘ ’ 1\n",
      "\n",
      "Residual standard error: 1.469 on 3317 degrees of freedom\n",
      "  (21559 observations deleted due to missingness)\n",
      "Multiple R-squared:  0.007848,\tAdjusted R-squared:  0.007548 \n",
      "F-statistic: 26.24 on 1 and 3317 DF,  p-value: 3.193e-07\n",
      "\n"
     ]
    }
   ],
   "source": [
    "%%R\n",
    "fit11 = lm(resid(fit11st) ~ director_imm, movies_other)\n",
    "summary(fit11)\n",
    "# fit11cl = coeftest(fit11, vcov. = vcovCL, cluster = ~cluster)\n",
    "# fit11cl\n",
    "\n",
    "# fit21st = feols(log(intNationbo_numbers + sqrt(1+intNationbo_numbers^2)) ~ log(1+budget_numbers)| us.year + Genre.Recode + Distributor, df)\n",
    "# summary(fit21st)\n",
    "# fit22 = lm(resid(fit21st) ~ dir1.imm, df)\n",
    "# fit22cl = coeftest(fit22, vcov. = vcovCL, cluster = ~cluster)\n",
    "# fit22cl\n"
   ],
   "metadata": {
    "collapsed": false,
    "pycharm": {
     "name": "#%%\n"
    }
   }
  },
  {
   "cell_type": "markdown",
   "source": [
    "# References\n",
    "We report here relevant references:\n",
    "1. author1, article1, journal1, year1, url1\n",
    "2. author2, article2, journal2, year2, url2\n",
    "3. NLTK: @book{bird2009natural,\n",
    "  title={Natural language processing with Python: analyzing text with the natural language toolkit},\n",
    "  author={Bird, Steven and Klein, Ewan and Loper, Edward},\n",
    "  year={2009},\n",
    "  publisher={\" O'Reilly Media, Inc.\"}\n",
    "}\n"
   ],
   "metadata": {
    "collapsed": false
   }
  },
  {
   "cell_type": "markdown",
   "source": [
    "# Appendix"
   ],
   "metadata": {
    "collapsed": false,
    "pycharm": {
     "name": "#%% md\n"
    }
   }
  },
  {
   "cell_type": "markdown",
   "source": [
    "example showing how the preprocessing works"
   ],
   "metadata": {
    "collapsed": false
   }
  },
  {
   "cell_type": "code",
   "execution_count": 30,
   "outputs": [
    {
     "name": "stdout",
     "output_type": "stream",
     "text": [
      "At the Central Park Zoo, Marty the zebra is celebrating his tenth birthday, but has grown bored with his daily routine and longs to experience the wild. Marty's best friend is Alex the lion, who enjoys showing off for the public and his celebrity status as \"the King of New York City\". Alex attempts to cheer Marty up, but Marty, still unsatisfied, gets some tips from the zoo's penguins—Skipper, Kowalski, Rico, and Private—who are trying to escape the zoo, and follows them out. Alex, Melman the giraffe, and Gloria the hippopotamus pursue Marty in an attempt to convince him to return. The four, along with the penguins and two chimpanzees named Mason and Phil, find themselves at Grand Central Station, where they are quickly sedated via tranquillizer gun when Alex's attempt to communicate with humans is mistaken for aggression. The zoo, under pressure from anti-captivity activists, is forced to ship the escaped animals by sea to a Kenyan wildlife preserve. During their travels, the penguins escape from their enclosure and take over the ship, intent on taking it to Antarctica. Their antics on the bridge cause the crates containing Alex, Marty, Melman, and Gloria to fall overboard and wash ashore on Madagascar, because the strap securing the crates broke off due to Alex and Marty fighting.\r\n",
      "The animals are soon able to regroup, initially believing themselves to be at the San Diego Zoo. Upon exploring, however, they come across a pack of lemurs, led by King Julien XIII the ring-tailed lemur, and learn their true location. Alex blames Marty for their predicament and attempts to signal for help to get back to civilization. Marty, on the other hand, finds the wild to be exactly what he was looking for, with Gloria and Melman soon joining him in enjoying the island. Alex eventually comes around, but, deprived from the raw steaks he was provided with at the zoo, his prey drive begins to show as hunger kicks in. The group is accepted by the lemurs, though King Julien's adviser, Maurice the aye-aye, cautions them about Alex's predatory nature. King Julien ignores Maurice's concerns and persuades the group to help the lemurs fend off the fossa, who hunt the lemurs as prey. While Alex initially scares the fossa away and is worshiped by the lemurs, later, compelled by hunger, he attacks Marty. Realizing that Alex is now a threat, King Julien banishes him to the far side of the island where the fossa live. Seeing what has happened to Alex, and how difficult it is to survive with so many predators around the island, Marty begins to regret his decision to leave the zoo.\r\n",
      "The penguins, having been to Antarctica and found that it wasn't what they had in mind, land the ship at Madagascar. Seeing this as a chance to return Alex to New York, Marty rushes after his friend against the wishes of Melman and Gloria. Marty attempts to convince the now grizzled, starving Alex to return, but Alex refuses out of fear of attacking Marty again. The penguins, Gloria, and Melman go to find Marty, but are trapped by the fossa. At the last minute, Alex overcomes his predatory instincts and scares the fossa away from the lemur territory forever. The lemurs regain their respect for Alex, and the penguins help him satisfy his hunger through sushi. As the lemurs throw a farewell celebration for the foursome, the penguins decide not to break the news that the ship has run out of fuel.\n",
      "original document: \n",
      "['At', 'the', 'Central', 'Park', 'Zoo,', 'Marty', 'the', 'zebra', 'is', 'celebrating', 'his', 'tenth', 'birthday,', 'but', 'has', 'grown', 'bored', 'with', 'his', 'daily', 'routine', 'and', 'longs', 'to', 'experience', 'the', 'wild.', \"Marty's\", 'best', 'friend', 'is', 'Alex', 'the', 'lion,', 'who', 'enjoys', 'showing', 'off', 'for', 'the', 'public', 'and', 'his', 'celebrity', 'status', 'as', '\"the', 'King', 'of', 'New', 'York', 'City\".', 'Alex', 'attempts', 'to', 'cheer', 'Marty', 'up,', 'but', 'Marty,', 'still', 'unsatisfied,', 'gets', 'some', 'tips', 'from', 'the', \"zoo's\", 'penguins—Skipper,', 'Kowalski,', 'Rico,', 'and', 'Private—who', 'are', 'trying', 'to', 'escape', 'the', 'zoo,', 'and', 'follows', 'them', 'out.', 'Alex,', 'Melman', 'the', 'giraffe,', 'and', 'Gloria', 'the', 'hippopotamus', 'pursue', 'Marty', 'in', 'an', 'attempt', 'to', 'convince', 'him', 'to', 'return.', 'The', 'four,', 'along', 'with', 'the', 'penguins', 'and', 'two', 'chimpanzees', 'named', 'Mason', 'and', 'Phil,', 'find', 'themselves', 'at', 'Grand', 'Central', 'Station,', 'where', 'they', 'are', 'quickly', 'sedated', 'via', 'tranquillizer', 'gun', 'when', \"Alex's\", 'attempt', 'to', 'communicate', 'with', 'humans', 'is', 'mistaken', 'for', 'aggression.', 'The', 'zoo,', 'under', 'pressure', 'from', 'anti-captivity', 'activists,', 'is', 'forced', 'to', 'ship', 'the', 'escaped', 'animals', 'by', 'sea', 'to', 'a', 'Kenyan', 'wildlife', 'preserve.', 'During', 'their', 'travels,', 'the', 'penguins', 'escape', 'from', 'their', 'enclosure', 'and', 'take', 'over', 'the', 'ship,', 'intent', 'on', 'taking', 'it', 'to', 'Antarctica.', 'Their', 'antics', 'on', 'the', 'bridge', 'cause', 'the', 'crates', 'containing', 'Alex,', 'Marty,', 'Melman,', 'and', 'Gloria', 'to', 'fall', 'overboard', 'and', 'wash', 'ashore', 'on', 'Madagascar,', 'because', 'the', 'strap', 'securing', 'the', 'crates', 'broke', 'off', 'due', 'to', 'Alex', 'and', 'Marty', 'fighting.\\r\\nThe', 'animals', 'are', 'soon', 'able', 'to', 'regroup,', 'initially', 'believing', 'themselves', 'to', 'be', 'at', 'the', 'San', 'Diego', 'Zoo.', 'Upon', 'exploring,', 'however,', 'they', 'come', 'across', 'a', 'pack', 'of', 'lemurs,', 'led', 'by', 'King', 'Julien', 'XIII', 'the', 'ring-tailed', 'lemur,', 'and', 'learn', 'their', 'true', 'location.', 'Alex', 'blames', 'Marty', 'for', 'their', 'predicament', 'and', 'attempts', 'to', 'signal', 'for', 'help', 'to', 'get', 'back', 'to', 'civilization.', 'Marty,', 'on', 'the', 'other', 'hand,', 'finds', 'the', 'wild', 'to', 'be', 'exactly', 'what', 'he', 'was', 'looking', 'for,', 'with', 'Gloria', 'and', 'Melman', 'soon', 'joining', 'him', 'in', 'enjoying', 'the', 'island.', 'Alex', 'eventually', 'comes', 'around,', 'but,', 'deprived', 'from', 'the', 'raw', 'steaks', 'he', 'was', 'provided', 'with', 'at', 'the', 'zoo,', 'his', 'prey', 'drive', 'begins', 'to', 'show', 'as', 'hunger', 'kicks', 'in.', 'The', 'group', 'is', 'accepted', 'by', 'the', 'lemurs,', 'though', 'King', \"Julien's\", 'adviser,', 'Maurice', 'the', 'aye-aye,', 'cautions', 'them', 'about', \"Alex's\", 'predatory', 'nature.', 'King', 'Julien', 'ignores', \"Maurice's\", 'concerns', 'and', 'persuades', 'the', 'group', 'to', 'help', 'the', 'lemurs', 'fend', 'off', 'the', 'fossa,', 'who', 'hunt', 'the', 'lemurs', 'as', 'prey.', 'While', 'Alex', 'initially', 'scares', 'the', 'fossa', 'away', 'and', 'is', 'worshiped', 'by', 'the', 'lemurs,', 'later,', 'compelled', 'by', 'hunger,', 'he', 'attacks', 'Marty.', 'Realizing', 'that', 'Alex', 'is', 'now', 'a', 'threat,', 'King', 'Julien', 'banishes', 'him', 'to', 'the', 'far', 'side', 'of', 'the', 'island', 'where', 'the', 'fossa', 'live.', 'Seeing', 'what', 'has', 'happened', 'to', 'Alex,', 'and', 'how', 'difficult', 'it', 'is', 'to', 'survive', 'with', 'so', 'many', 'predators', 'around', 'the', 'island,', 'Marty', 'begins', 'to', 'regret', 'his', 'decision', 'to', 'leave', 'the', 'zoo.\\r\\nThe', 'penguins,', 'having', 'been', 'to', 'Antarctica', 'and', 'found', 'that', 'it', \"wasn't\", 'what', 'they', 'had', 'in', 'mind,', 'land', 'the', 'ship', 'at', 'Madagascar.', 'Seeing', 'this', 'as', 'a', 'chance', 'to', 'return', 'Alex', 'to', 'New', 'York,', 'Marty', 'rushes', 'after', 'his', 'friend', 'against', 'the', 'wishes', 'of', 'Melman', 'and', 'Gloria.', 'Marty', 'attempts', 'to', 'convince', 'the', 'now', 'grizzled,', 'starving', 'Alex', 'to', 'return,', 'but', 'Alex', 'refuses', 'out', 'of', 'fear', 'of', 'attacking', 'Marty', 'again.', 'The', 'penguins,', 'Gloria,', 'and', 'Melman', 'go', 'to', 'find', 'Marty,', 'but', 'are', 'trapped', 'by', 'the', 'fossa.', 'At', 'the', 'last', 'minute,', 'Alex', 'overcomes', 'his', 'predatory', 'instincts', 'and', 'scares', 'the', 'fossa', 'away', 'from', 'the', 'lemur', 'territory', 'forever.', 'The', 'lemurs', 'regain', 'their', 'respect', 'for', 'Alex,', 'and', 'the', 'penguins', 'help', 'him', 'satisfy', 'his', 'hunger', 'through', 'sushi.', 'As', 'the', 'lemurs', 'throw', 'a', 'farewell', 'celebration', 'for', 'the', 'foursome,', 'the', 'penguins', 'decide', 'not', 'to', 'break', 'the', 'news', 'that', 'the', 'ship', 'has', 'run', 'out', 'of', 'fuel.']\n",
      "\n",
      "\n",
      " tokenized and lemmatized document: \n",
      "['central', 'park', 'marti', 'zebra', 'celebr', 'tenth', 'birthday', 'grow', 'bore', 'daili', 'routin', 'long', 'experi', 'wild', 'marti', 'best', 'friend', 'alex', 'lion', 'enjoy', 'show', 'public', 'celebr', 'status', 'king', 'york', 'citi', 'alex', 'attempt', 'cheer', 'marti', 'marti', 'unsatisfi', 'get', 'tip', 'penguin', 'skipper', 'kowalski', 'rico', 'privat', 'tri', 'escap', 'follow', 'alex', 'melman', 'giraff', 'gloria', 'hippopotamus', 'pursu', 'marti', 'attempt', 'convinc', 'return', 'penguin', 'chimpanze', 'name', 'mason', 'phil', 'grand', 'central', 'station', 'quick', 'sedat', 'tranquil', 'alex', 'attempt', 'communic', 'human', 'mistak', 'aggress', 'pressur', 'anti', 'captiv', 'activist', 'forc', 'ship', 'escap', 'anim', 'kenyan', 'wildlif', 'preserv', 'travel', 'penguin', 'escap', 'enclosur', 'ship', 'intent', 'take', 'antarctica', 'antic', 'bridg', 'caus', 'crate', 'contain', 'alex', 'marti', 'melman', 'gloria', 'fall', 'overboard', 'wash', 'ashor', 'madagascar', 'strap', 'secur', 'crate', 'break', 'alex', 'marti', 'fight', 'anim', 'soon', 'abl', 'regroup', 'initi', 'believ', 'diego', 'explor', 'come', 'pack', 'lemur', 'king', 'julien', 'xiii', 'ring', 'tail', 'lemur', 'learn', 'true', 'locat', 'alex', 'blame', 'marti', 'predica', 'attempt', 'signal', 'help', 'civil', 'marti', 'hand', 'find', 'wild', 'exact', 'look', 'gloria', 'melman', 'soon', 'join', 'enjoy', 'island', 'alex', 'eventu', 'come', 'depriv', 'steak', 'provid', 'prey', 'drive', 'begin', 'hunger', 'kick', 'group', 'accept', 'lemur', 'king', 'julien', 'advis', 'mauric', 'caution', 'alex', 'predatori', 'natur', 'king', 'julien', 'ignor', 'mauric', 'concern', 'persuad', 'group', 'help', 'lemur', 'fend', 'fossa', 'hunt', 'lemur', 'prey', 'alex', 'initi', 'scar', 'fossa', 'away', 'worship', 'lemur', 'later', 'compel', 'hunger', 'attack', 'marti', 'realiz', 'alex', 'threat', 'king', 'julien', 'banish', 'island', 'fossa', 'live', 'see', 'happen', 'alex', 'difficult', 'surviv', 'predat', 'island', 'marti', 'begin', 'regret', 'decis', 'leav', 'penguin', 'have', 'antarctica', 'wasn', 'mind', 'land', 'ship', 'madagascar', 'see', 'chanc', 'return', 'alex', 'york', 'marti', 'rush', 'friend', 'wish', 'melman', 'gloria', 'marti', 'attempt', 'convinc', 'grizzl', 'starv', 'alex', 'return', 'alex', 'refus', 'fear', 'attack', 'marti', 'penguin', 'gloria', 'melman', 'marti', 'trap', 'fossa', 'minut', 'alex', 'overcom', 'predatori', 'instinct', 'scar', 'fossa', 'away', 'lemur', 'territori', 'forev', 'lemur', 'regain', 'respect', 'alex', 'penguin', 'help', 'satisfi', 'hunger', 'sushi', 'lemur', 'throw', 'farewel', 'celebr', 'foursom', 'penguin', 'decid', 'break', 'news', 'ship', 'fuel']\n"
     ]
    }
   ],
   "source": [
    "doc_sample = movies_df_sub[movies_df_sub['Title'] == 'Madagascar'].values[0][7]\n",
    "print(doc_sample)\n",
    "print('original document: ')\n",
    "words = []\n",
    "for word in doc_sample.split(' '):\n",
    "    words.append(word)\n",
    "print(words)\n",
    "print('\\n\\n tokenized and lemmatized document: ')\n",
    "print(preprocess(doc_sample))\n"
   ],
   "metadata": {
    "collapsed": false,
    "pycharm": {
     "name": "#%%\n"
    }
   }
  },
  {
   "cell_type": "markdown",
   "source": [
    "testing with name replacement"
   ],
   "metadata": {
    "collapsed": false,
    "pycharm": {
     "name": "#%% md\n"
    }
   }
  },
  {
   "cell_type": "code",
   "execution_count": null,
   "outputs": [],
   "source": [
    "miniplot = movies_df_sub.Plot[5]\n",
    "# miniplot.head()"
   ],
   "metadata": {
    "collapsed": false,
    "pycharm": {
     "name": "#%%\n"
    }
   }
  },
  {
   "cell_type": "code",
   "execution_count": null,
   "outputs": [],
   "source": [
    "# print(miniplot)\n",
    "# tags = ['Alice', 'John']\n",
    "for tag in names:\n",
    "    miniplot = miniplot.replace(tag, 'Character')\n",
    "\n",
    "print(miniplot)"
   ],
   "metadata": {
    "collapsed": false,
    "pycharm": {
     "name": "#%%\n"
    }
   }
  },
  {
   "cell_type": "code",
   "execution_count": null,
   "outputs": [],
   "source": [
    "for tag in name:\n",
    "    miniplot = re.sub(r'\\b' + tag + r'\\b', 'Character', miniplot)\n",
    "print(miniplot)"
   ],
   "metadata": {
    "collapsed": false,
    "pycharm": {
     "name": "#%%\n"
    }
   }
  },
  {
   "cell_type": "code",
   "execution_count": null,
   "outputs": [],
   "source": [
    "Plot = movies_df_sub.Plot.sample(10)\n",
    "for i in Plot.index:\n",
    "    for tag in name:\n",
    "        Plot[i] = re.sub(r'\\b' + tag + r'\\b', 'Character', Plot[i])\n",
    "print(Plot)\n",
    "# Plot.to_csv('test.csv', index=False)"
   ],
   "metadata": {
    "collapsed": false,
    "pycharm": {
     "name": "#%%\n"
    }
   }
  },
  {
   "cell_type": "code",
   "execution_count": null,
   "outputs": [],
   "source": [
    "'Grace' in name"
   ],
   "metadata": {
    "collapsed": false,
    "pycharm": {
     "name": "#%%\n"
    }
   }
  }
 ],
 "metadata": {
  "kernelspec": {
   "display_name": "Python 3",
   "language": "python",
   "name": "python3"
  },
  "language_info": {
   "codemirror_mode": {
    "name": "ipython",
    "version": 3
   },
   "file_extension": ".py",
   "mimetype": "text/x-python",
   "name": "python",
   "nbconvert_exporter": "python",
   "pygments_lexer": "ipython3",
   "version": "3.9.5"
  }
 },
 "nbformat": 4,
 "nbformat_minor": 5
}